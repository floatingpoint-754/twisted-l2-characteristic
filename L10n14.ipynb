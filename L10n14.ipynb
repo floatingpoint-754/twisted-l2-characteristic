{
 "cells": [
  {
   "cell_type": "markdown",
   "id": "5495ddf2-c916-406f-83b9-d1c8345c3898",
   "metadata": {},
   "source": [
    "# The L10n14 link complement (Dunfield's counterexample)"
   ]
  },
  {
   "cell_type": "code",
   "execution_count": 1,
   "id": "e270107d-292d-4815-a9a6-d0d315bf209a",
   "metadata": {
    "tags": []
   },
   "outputs": [
    {
     "name": "stdout",
     "output_type": "stream",
     "text": [
      "\r"
     ]
    }
   ],
   "source": [
    "import twisted_l2\n",
    "import itertools\n",
    "import regina\n",
    "import snappy"
   ]
  },
  {
   "cell_type": "markdown",
   "id": "cef11ed7-e01b-44a0-818a-e334b6426899",
   "metadata": {},
   "source": [
    "## Compute the chain complex of the universal cover:"
   ]
  },
  {
   "cell_type": "code",
   "execution_count": 2,
   "id": "92b49a95-75c1-4bbf-bb12-c0d523ac166e",
   "metadata": {
    "tags": []
   },
   "outputs": [
    {
     "data": {
      "text/plain": [
       "true"
      ]
     },
     "execution_count": 2,
     "metadata": {},
     "output_type": "execute_result"
    }
   ],
   "source": [
    "twisted_l2.load_hap()"
   ]
  },
  {
   "cell_type": "code",
   "execution_count": 196,
   "id": "a56a1239-8aa6-4d05-bee4-d6faec4fd95b",
   "metadata": {},
   "outputs": [
    {
     "name": "stdout",
     "output_type": "stream",
     "text": [
      "[2, 10, 20, 10]\n"
     ]
    }
   ],
   "source": [
    "mfd_name = \"L10n14\"\n",
    "tri = regina.Triangulation3(snappy.Manifold(mfd_name))\n",
    "print(tri.fVector())"
   ]
  },
  {
   "cell_type": "code",
   "execution_count": 220,
   "id": "bf4fe8de-248a-4cfd-9b0f-ac43f823b3a2",
   "metadata": {},
   "outputs": [
    {
     "data": {
      "image/png": "[encoded data removed]",
      "text/plain": [
       "Graphics object consisting of 43 graphics primitives"
      ]
     },
     "execution_count": 220,
     "metadata": {},
     "output_type": "execute_result"
    }
   ],
   "source": [
    "snappy.Link(\"L10n14\").sage_link().plot()"
   ]
  },
  {
   "cell_type": "code",
   "execution_count": 197,
   "id": "d606b227-95c0-42c0-9d03-98e32d8618f9",
   "metadata": {},
   "outputs": [
    {
     "name": "stdout",
     "output_type": "stream",
     "text": [
      "CPU times: user 15.4 ms, sys: 0 ns, total: 15.4 ms\n",
      "Wall time: 15.8 ms\n"
     ]
    }
   ],
   "source": [
    "%time fl = twisted_l2.regina_tri_to_face_lattice(tri, ideal=True, simplify=True)"
   ]
  },
  {
   "cell_type": "code",
   "execution_count": 198,
   "id": "9e648627-0545-4daa-a370-036c9a73a3ce",
   "metadata": {},
   "outputs": [
    {
     "name": "stdout",
     "output_type": "stream",
     "text": [
      "CPU times: user 7.82 ms, sys: 0 ns, total: 7.82 ms\n",
      "Wall time: 7.87 ms\n"
     ]
    }
   ],
   "source": [
    "%time cw = twisted_l2.cw_complex(fl)"
   ]
  },
  {
   "cell_type": "code",
   "execution_count": 199,
   "id": "31834529-3ef0-4162-af1a-3467c098eef6",
   "metadata": {},
   "outputs": [
    {
     "name": "stdout",
     "output_type": "stream",
     "text": [
      "Number of cells in each dimension:\n",
      "0: 108\n",
      "1: 720\n",
      "2: 1212\n",
      "3: 600\n",
      "4: 0\n",
      "5: 0\n"
     ]
    }
   ],
   "source": [
    "number_of_cells = twisted_l2.gap_member(cw, \"nrCells\")\n",
    "print(\"Number of cells in each dimension:\")\n",
    "for j in range(6):\n",
    "    print(f\"{j}: {number_of_cells(j)}\")"
   ]
  },
  {
   "cell_type": "code",
   "execution_count": 200,
   "id": "47a128de-b71a-4930-bfad-a542d28602d0",
   "metadata": {},
   "outputs": [
    {
     "name": "stdout",
     "output_type": "stream",
     "text": [
      "CPU times: user 12.2 ms, sys: 13 µs, total: 12.2 ms\n",
      "Wall time: 12.3 ms\n"
     ]
    }
   ],
   "source": [
    "%time chain_complex = twisted_l2.equivariant_cc(cw, gap=False)"
   ]
  },
  {
   "cell_type": "code",
   "execution_count": 201,
   "id": "2c0f3bbc-25db-4d24-a1c0-bc18d1d27f34",
   "metadata": {},
   "outputs": [
    {
     "data": {
      "text/plain": [
       "[1, 2, 1, 0, 0]"
      ]
     },
     "execution_count": 201,
     "metadata": {},
     "output_type": "execute_result"
    }
   ],
   "source": [
    "[chain_complex.dimension(i) for i in range(5)]"
   ]
  },
  {
   "cell_type": "code",
   "execution_count": 202,
   "id": "8a81207a-468a-48b5-9b0c-32cd4d100adf",
   "metadata": {},
   "outputs": [],
   "source": [
    "G = twisted_l2.get_fundamental_group(chain_complex)"
   ]
  },
  {
   "cell_type": "code",
   "execution_count": 203,
   "id": "ccc35858-2d51-4242-b09c-25c9251f168b",
   "metadata": {},
   "outputs": [],
   "source": [
    "cc = twisted_l2.get_differentials(chain_complex)"
   ]
  },
  {
   "cell_type": "markdown",
   "id": "253dd2d1-6f5c-49a1-ad55-41747fb9643c",
   "metadata": {},
   "source": [
    "The variable `chain_complex` wraps a GAP object,\n",
    "while `cc` is simply a list of matrices over the group algebra of `G`. \\\n",
    "Actually, for technical reasons, we use the free group on the generators of `G` instead of `G` itself.\n",
    "\n",
    "The above cell is equivalent to\n",
    "```\n",
    "cc = [twisted_l2.boundary_operator(chain_complex, i, G) for i in range(1, 3)]\n",
    "```"
   ]
  },
  {
   "cell_type": "markdown",
   "id": "8517c58d-e63e-48e9-a80a-b116eaae24ca",
   "metadata": {},
   "source": [
    "## Or load precomputed data:"
   ]
  },
  {
   "cell_type": "markdown",
   "id": "04473cae-553d-4d23-bbc3-022f1b75ed52",
   "metadata": {},
   "source": [
    "Since simplification is non-deterministic, the dimensions of the chain complex modules rarely end up so small.\\\n",
    "For consistency, we load a precomputed version:"
   ]
  },
  {
   "cell_type": "code",
   "execution_count": 3,
   "id": "4b1194fe-dfda-4899-8937-e853881022a2",
   "metadata": {
    "tags": []
   },
   "outputs": [],
   "source": [
    "# twisted_l2.save_to_file(\"data/L10n14-2.json\", group=G, cc=cc)\n",
    "G, cc = twisted_l2.load_from_file(\"data/L10n14.json\")"
   ]
  },
  {
   "cell_type": "code",
   "execution_count": 4,
   "id": "035b3d0e-a20e-451a-a8bf-1178d0bcb2d4",
   "metadata": {},
   "outputs": [
    {
     "data": {
      "text/plain": [
       "Finitely presented group < x0, x1 | x0*(x1*x0^-1*x1^-2*x0^-1)^2*x1*x0^3*x1*x0^-1*x1^-2*x0^-1*x1*x0^-1*(x1^-1*x0*x1^2*x0)^2*x1^-1*x0^-3*x1^-1*x0*x1^2*x0*x1^-1 >"
      ]
     },
     "execution_count": 4,
     "metadata": {},
     "output_type": "execute_result"
    }
   ],
   "source": [
    "G"
   ]
  },
  {
   "cell_type": "code",
   "execution_count": 5,
   "id": "66e88e76-1778-4c39-b4c5-7c90fd2e47b9",
   "metadata": {},
   "outputs": [],
   "source": [
    "# Choose the desired configuration (see \"configs.py\")\n",
    "twisted_l2.configs.LogOptions.LEVEL = twisted_l2.MINIMAL\n",
    "twisted_l2.configs.LogOptions.PRECISION = 8"
   ]
  },
  {
   "cell_type": "markdown",
   "id": "597d7f6c-39f4-4feb-aef1-403802fa4dad",
   "metadata": {},
   "source": [
    "Here are the Thurston (blue) and Alexander (green) unit balls in the dual basis $x_0^*, x_1^*$:"
   ]
  },
  {
   "cell_type": "code",
   "execution_count": 6,
   "id": "81e9ae17-6a43-4b8e-9f66-de4363b4abbf",
   "metadata": {},
   "outputs": [
    {
     "data": {
      "image/png": "[encoded data removed]",
      "text/plain": [
       "Graphics object consisting of 12 graphics primitives"
      ]
     },
     "metadata": {},
     "output_type": "display_data"
    }
   ],
   "source": [
    "pltA = Polyhedron(vertices = [(1,0),(1,-1),(-1,0),(-1,1)]).plot(wireframe=\"green\", fill=\"white\") # Alexander\n",
    "pltT = Polyhedron(vertices = [(0,0.5),(1,-1),(0,-0.5),(-1,1)]).plot(wireframe=\"blue\", fill=\"white\") # Thurston\n",
    "show(pltA + pltT)"
   ]
  },
  {
   "cell_type": "markdown",
   "id": "5e4232b5-4501-4ef2-8b44-6d520c9d0a22",
   "metadata": {},
   "source": [
    "Here are some values of the Alexander and Thurston norms:\n",
    "\n",
    "| v      | $\\lVert\\cdot\\rVert_A$ | $\\lVert\\cdot\\rVert_T = -\\chi^{(2)}$ |\n",
    "| :-:    | :-:                   | :-:                                 |\n",
    "| (0,1)  | 2                     | 2                                   |\n",
    "| (-1,2) | 3                     | 3                                   |\n",
    "| (-1,1) | 1                     | 1                                   |\n",
    "| (1,0)  | 1                     | 3                                   |\n",
    "\n"
   ]
  },
  {
   "cell_type": "markdown",
   "id": "4c7eac64-fdc8-4047-8ef7-2856ba744364",
   "metadata": {
    "jp-MarkdownHeadingCollapsed": true
   },
   "source": [
    "### v = (0,1)"
   ]
  },
  {
   "cell_type": "code",
   "execution_count": 8,
   "id": "c6ba4976-2195-4737-8700-d6dbc051781c",
   "metadata": {
    "scrolled": true,
    "tags": []
   },
   "outputs": [
    {
     "name": "stdout",
     "output_type": "stream",
     "text": [
      "===== exps = (1) =====\n",
      "----- n = 1 -----\n",
      "Degrees of Laplacians : [2.0, 8.0, 6.0]\n",
      "Valuations            : [0.0, 1.0, 0.0]\n",
      "Quotient sizes        : [1, 2, 2]\n",
      "Characteristic        : -2.0\n",
      "----- n = 2 -----\n",
      "Degrees of Laplacians : [2.0, 8.0, 6.0]\n",
      "Valuations            : [0.0, 1.0, 0.0]\n",
      "Quotient sizes        : [2, 2, 2]\n",
      "Characteristic        : -2.0\n",
      "\n",
      "===== exps = (0, 1) =====\n",
      "----- n = 1 -----\n",
      "Degrees of Laplacians : [2.0, 8.0, 6.0]\n",
      "Valuations            : [0.0, 1.0, 0.0]\n",
      "Quotient sizes        : [1, 3, 3]\n",
      "Characteristic        : -2.0\n",
      "----- n = 2 -----\n",
      "Degrees of Laplacians : [2.0, 8.0, 6.0]\n",
      "Valuations            : [0.0, 1.0, 0.0]\n",
      "Quotient sizes        : [3, 3, 3]\n",
      "Characteristic        : -2.0\n",
      "\n",
      "===== exps = (2) =====\n",
      "----- n = 1 -----\n",
      "Degrees of Laplacians : [2.0, 8.0, 6.0]\n",
      "Valuations            : [0.0, 1.0, 0.0]\n",
      "Quotient sizes        : [1, 8, 4]\n",
      "Characteristic        : -2.0\n",
      "----- n = 2 -----\n",
      "Degrees of Laplacians : [2.0, 8.0, 6.0]\n",
      "Valuations            : [0.0, 1.0, 0.0]\n",
      "Quotient sizes        : [4, 8, 8]\n",
      "Characteristic        : -2.0\n",
      "\n",
      "===== exps = (0, 2) =====\n",
      "----- n = 1 -----\n",
      "Degrees of Laplacians : [2.0, 8.0, 6.0]\n",
      "Valuations            : [0.0, 1.0, 0.0]\n",
      "Quotient sizes        : [1, 27, 27]\n",
      "Characteristic        : -2.0\n",
      "----- n = 2 -----\n",
      "Degrees of Laplacians : [2.0, 8.0, 6.0]\n",
      "Valuations            : [0.0, 1.0, 0.0]\n",
      "Quotient sizes        : [9, 27, 27]\n",
      "Characteristic        : -2.0\n",
      "\n",
      "===== exps = (3) =====\n",
      "----- n = 1 -----\n",
      "Degrees of Laplacians : [2.0, 8.0, 6.0]\n",
      "Valuations            : [0.0, 1.0, 0.0]\n",
      "Quotient sizes        : [1, 128, 64]\n",
      "Characteristic        : -2.0\n",
      "----- n = 2 -----\n",
      "Degrees of Laplacians : [2.0, 8.0, 6.0]\n",
      "Valuations            : [0.0, 1.0, 0.0]\n",
      "Quotient sizes        : [8, 128, 128]\n",
      "Characteristic        : -2.0\n",
      "\n",
      "CPU times: user 1.98 s, sys: 9.87 ms, total: 1.99 s\n",
      "Wall time: 1.99 s\n"
     ]
    }
   ],
   "source": [
    "%%time\n",
    "for exps in [(1,), (0,1), (2,), (0,2), (3,)]:\n",
    "    description_string = ', '.join(str(c) for c in exps)\n",
    "    print(f\"===== exps = ({description_string}) =====\")\n",
    "    \n",
    "    for j in (1,2):\n",
    "        print(f\"----- n = {j} -----\")\n",
    "        twisted_l2.characteristic(G, (0,1), cc, j, exps)\n",
    "    print(flush=True)"
   ]
  },
  {
   "cell_type": "markdown",
   "id": "e6f17419-c163-4102-b0f0-564b3cc249e5",
   "metadata": {},
   "source": [
    "Independently of `exps`, once valuations stabilize, we get:\n",
    "\n",
    "- valuations            : $[0, 1, 0]$\n",
    "- degrees of Laplacians : $[2, 8, 6]$\n",
    "- characteristic        : $-2$"
   ]
  },
  {
   "cell_type": "markdown",
   "id": "fd121c83-c9e2-43e7-b503-86d6b8e78abc",
   "metadata": {
    "jp-MarkdownHeadingCollapsed": true
   },
   "source": [
    "### v = (-1,2)"
   ]
  },
  {
   "cell_type": "code",
   "execution_count": 9,
   "id": "e4c73b21-aa07-4b80-baee-348b6877bc5a",
   "metadata": {
    "scrolled": true,
    "tags": []
   },
   "outputs": [
    {
     "name": "stdout",
     "output_type": "stream",
     "text": [
      "===== exps = (1) =====\n",
      "----- n = 1 -----\n",
      "Degrees of Laplacians : [4.0, 18.0, 10.0]\n",
      "Valuations            : [0.0, 1.0, 0.0]\n",
      "Quotient sizes        : [2, 2, 2]\n",
      "Characteristic        : -1.0\n",
      "----- n = 2 -----\n",
      "Degrees of Laplacians : [4.0, 16.0, 10.0]\n",
      "Valuations            : [0.0, 2.0, 0.0]\n",
      "Quotient sizes        : [2, 2, 2]\n",
      "Characteristic        : -2.0\n",
      "----- n = 3 -----\n",
      "Degrees of Laplacians : [4.0, 14.0, 10.0]\n",
      "Valuations            : [0.0, 3.0, 0.0]\n",
      "Quotient sizes        : [2, 2, 2]\n",
      "Characteristic        : -3.0\n",
      "----- n = 4 -----\n",
      "Degrees of Laplacians : [4.0, 14.0, 10.0]\n",
      "Valuations            : [0.0, 3.0, 0.0]\n",
      "Quotient sizes        : [2, 2, 2]\n",
      "Characteristic        : -3.0\n",
      "\n",
      "===== exps = (0, 1) =====\n",
      "----- n = 1 -----\n",
      "Degrees of Laplacians : [4.0, 18.0, 10.0]\n",
      "Valuations            : [0.0, 1.0, 0.0]\n",
      "Quotient sizes        : [3, 3, 1]\n",
      "Characteristic        : -1.0\n",
      "----- n = 2 -----\n",
      "Degrees of Laplacians : [4.0, 16.0, 10.0]\n",
      "Valuations            : [0.0, 2.0, 0.0]\n",
      "Quotient sizes        : [3, 3, 3]\n",
      "Characteristic        : -2.0\n",
      "----- n = 3 -----\n",
      "Degrees of Laplacians : [4.0, 14.0, 10.0]\n",
      "Valuations            : [0.0, 3.0, 0.0]\n",
      "Quotient sizes        : [3, 3, 3]\n",
      "Characteristic        : -3.0\n",
      "----- n = 4 -----\n",
      "Degrees of Laplacians : [4.0, 14.0, 10.0]\n",
      "Valuations            : [0.0, 3.0, 0.0]\n",
      "Quotient sizes        : [3, 3, 3]\n",
      "Characteristic        : -3.0\n",
      "\n",
      "===== exps = (2) =====\n",
      "----- n = 1 -----\n",
      "Degrees of Laplacians : [4.0, 18.0, 10.0]\n",
      "Valuations            : [0.0, 1.0, 0.0]\n",
      "Quotient sizes        : [4, 4, 4]\n",
      "Characteristic        : -1.0\n",
      "----- n = 2 -----\n",
      "Degrees of Laplacians : [4.0, 16.0, 10.0]\n",
      "Valuations            : [0.0, 2.0, 0.0]\n",
      "Quotient sizes        : [8, 8, 8]\n",
      "Characteristic        : -2.0\n",
      "----- n = 3 -----\n",
      "Degrees of Laplacians : [4.0, 14.0, 10.0]\n",
      "Valuations            : [0.0, 3.0, 0.0]\n",
      "Quotient sizes        : [8, 8, 8]\n",
      "Characteristic        : -3.0\n",
      "----- n = 4 -----\n",
      "Degrees of Laplacians : [4.0, 14.0, 10.0]\n",
      "Valuations            : [0.0, 3.0, 0.0]\n",
      "Quotient sizes        : [8, 8, 8]\n",
      "Characteristic        : -3.0\n",
      "\n",
      "===== exps = (0, 2) =====\n",
      "----- n = 1 -----\n",
      "Degrees of Laplacians : [4.0, 18.0, 10.0]\n",
      "Valuations            : [0.0, 1.0, 0.0]\n",
      "Quotient sizes        : [9, 9, 3]\n",
      "Characteristic        : -1.0\n",
      "----- n = 2 -----\n",
      "Degrees of Laplacians : [4.0, 16.0, 10.0]\n",
      "Valuations            : [0.0, 2.0, 0.0]\n",
      "Quotient sizes        : [27, 27, 27]\n",
      "Characteristic        : -2.0\n",
      "----- n = 3 -----\n",
      "Degrees of Laplacians : [4.0, 14.0, 10.0]\n",
      "Valuations            : [0.0, 3.0, 0.0]\n",
      "Quotient sizes        : [27, 27, 27]\n",
      "Characteristic        : -3.0\n",
      "----- n = 4 -----\n",
      "Degrees of Laplacians : [4.0, 14.0, 10.0]\n",
      "Valuations            : [0.0, 3.0, 0.0]\n",
      "Quotient sizes        : [27, 27, 27]\n",
      "Characteristic        : -3.0\n",
      "\n",
      "===== exps = (3) =====\n",
      "----- n = 1 -----\n",
      "Degrees of Laplacians : [4.0, 18.0, 10.0]\n",
      "Valuations            : [0.0, 1.0, 0.0]\n",
      "Quotient sizes        : [8, 16, 8]\n",
      "Characteristic        : -1.0\n",
      "----- n = 2 -----\n",
      "Degrees of Laplacians : [4.0, 16.0, 10.0]\n",
      "Valuations            : [0.0, 2.0, 0.0]\n",
      "Quotient sizes        : [64, 128, 128]\n",
      "Characteristic        : -2.0\n",
      "----- n = 3 -----\n",
      "Degrees of Laplacians : [4.0, 14.0, 10.0]\n",
      "Valuations            : [0.0, 3.0, 0.0]\n",
      "Quotient sizes        : [128, 128, 128]\n",
      "Characteristic        : -3.0\n",
      "----- n = 4 -----\n",
      "Degrees of Laplacians : [4.0, 14.0, 10.0]\n",
      "Valuations            : [0.0, 3.0, 0.0]\n",
      "Quotient sizes        : [128, 128, 128]\n",
      "Characteristic        : -3.0\n",
      "\n",
      "CPU times: user 5.03 s, sys: 10 ms, total: 5.04 s\n",
      "Wall time: 5.05 s\n"
     ]
    }
   ],
   "source": [
    "%%time\n",
    "for exps in [(1,), (0,1), (2,), (0,2), (3,)]:\n",
    "    description_string = ', '.join(str(c) for c in exps)\n",
    "    print(f\"===== exps = ({description_string}) =====\")\n",
    "    \n",
    "    for j in (1,2,3,4):\n",
    "        print(f\"----- n = {j} -----\")\n",
    "        twisted_l2.characteristic(G, (-1,2), cc, j, exps)\n",
    "    print(flush=True)"
   ]
  },
  {
   "cell_type": "markdown",
   "id": "31b5bfa7-65e8-4aed-874a-229f410a73ef",
   "metadata": {},
   "source": [
    "Independently of `exps`, once valuations stabilize, we get:\n",
    "\n",
    "- valuations            : $[0, 3, 0]$\n",
    "- degrees of Laplacians : $[4, 14, 10]$\n",
    "- characteristic        : $-3$"
   ]
  },
  {
   "cell_type": "markdown",
   "id": "7078c544-3554-4b94-bec8-a6086ae308dc",
   "metadata": {
    "jp-MarkdownHeadingCollapsed": true
   },
   "source": [
    "### v = (-1,1)"
   ]
  },
  {
   "cell_type": "markdown",
   "id": "b4e26cac-39cb-4ffd-aecd-7fde66b1c073",
   "metadata": {},
   "source": [
    "Here the algorithm does not converge as easily. First, we try `n = 4` on the same list of `exps`:"
   ]
  },
  {
   "cell_type": "code",
   "execution_count": 10,
   "id": "1fcd2a65-5e5a-4e82-a41c-df9ecdf7e3d7",
   "metadata": {},
   "outputs": [
    {
     "name": "stdout",
     "output_type": "stream",
     "text": [
      "===== exps = (1) =====\n",
      "Degrees of Laplacians : [1.0, 1.0, -1.0]\n",
      "Valuations            : [0.5, 4.5, 2.5]\n",
      "Quotient sizes        : [2, 2, 2]\n",
      "Characteristic        : 1.5\n",
      "\n",
      "===== exps = (0, 1) =====\n",
      "Degrees of Laplacians : [2.0, 4.0, 1.33333333]\n",
      "Valuations            : [0.0, 3.0, 1.33333333]\n",
      "Quotient sizes        : [3, 3, 3]\n",
      "Characteristic        : 0.66666667\n",
      "\n",
      "===== exps = (2) =====\n",
      "Degrees of Laplacians : [1.25, 4.0, 1.75]\n",
      "Valuations            : [0.375, 3.0, 1.125]\n",
      "Quotient sizes        : [8, 8, 8]\n",
      "Characteristic        : 0.25\n",
      "\n",
      "===== exps = (0, 2) =====\n",
      "Degrees of Laplacians : [2.0, 5.33333333, 2.96296296]\n",
      "Valuations            : [0.0, 2.33333333, 0.51851852]\n",
      "Quotient sizes        : [27, 27, 27]\n",
      "Characteristic        : -0.2962963\n",
      "\n",
      "===== exps = (3) =====\n",
      "Degrees of Laplacians : [1.59375, 4.90625, 2.78125]\n",
      "Valuations            : [0.203125, 2.546875, 0.609375]\n",
      "Quotient sizes        : [64, 128, 128]\n",
      "Characteristic        : -0.328125\n",
      "\n",
      "CPU times: user 3.69 s, sys: 19.7 ms, total: 3.7 s\n",
      "Wall time: 3.71 s\n"
     ]
    }
   ],
   "source": [
    "%%time\n",
    "for exps in [(1,), (0,1), (2,), (0,2), (3,)]:\n",
    "    description_string = ', '.join(str(c) for c in exps)\n",
    "    print(f\"===== exps = ({description_string}) =====\")\n",
    "    twisted_l2.characteristic(G, (-1,1), cc, 4, exps)\n",
    "    print(flush=True)"
   ]
  },
  {
   "cell_type": "markdown",
   "id": "864af904-2913-4679-ae3e-dfde567aea47",
   "metadata": {},
   "source": [
    "The valuations appear to approach $[0,2,0]$.\\\n",
    "If these are the correct values, then by running the algorithm again with `n = 2` we should get $[0,2,0]$ again.\\\n",
    "If we do, then we can be reasonably confident that $[0,2,0]$ are the correct values (since the valuations are concave non-decreasing in `n`).\n",
    "\n",
    "The goal being to run the algorithm with `exps = (0, 3)` (a $3$-nilpotent $3$-group quotient) while still taking `n = 2`.\\\n",
    "Since in this case $|L| = 2187$, this is a significant speedup over `n = 4`."
   ]
  },
  {
   "cell_type": "code",
   "execution_count": 11,
   "id": "cf881485-c1c0-4148-a9be-ce25c3857814",
   "metadata": {},
   "outputs": [
    {
     "name": "stdout",
     "output_type": "stream",
     "text": [
      "===== exps = (1) =====\n",
      "Degrees of Laplacians : [1.0, 5.0, 1.0]\n",
      "Valuations            : [0.5, 2.5, 1.5]\n",
      "Quotient sizes        : [2, 2, 2]\n",
      "Characteristic        : 1.5\n",
      "\n",
      "===== exps = (0, 1) =====\n",
      "Degrees of Laplacians : [2.0, 5.33333333, 2.66666667]\n",
      "Valuations            : [0.0, 2.33333333, 0.66666667]\n",
      "Quotient sizes        : [3, 3, 3]\n",
      "Characteristic        : 0.0\n",
      "\n",
      "===== exps = (2) =====\n",
      "Degrees of Laplacians : [1.25, 5.5, 2.75]\n",
      "Valuations            : [0.375, 2.25, 0.625]\n",
      "Quotient sizes        : [8, 8, 8]\n",
      "Characteristic        : 0.0\n",
      "\n",
      "===== exps = (0, 2) =====\n",
      "Degrees of Laplacians : [2.0, 5.77777778, 3.40740741]\n",
      "Valuations            : [0.0, 2.11111111, 0.2962963]\n",
      "Quotient sizes        : [27, 27, 27]\n",
      "Characteristic        : -0.51851852\n",
      "\n",
      "===== exps = (3) =====\n",
      "Degrees of Laplacians : [1.59375, 5.75, 3.21875]\n",
      "Valuations            : [0.203125, 2.125, 0.390625]\n",
      "Quotient sizes        : [64, 128, 128]\n",
      "Characteristic        : -0.34375\n",
      "\n",
      "CPU times: user 1.44 s, sys: 3.34 ms, total: 1.45 s\n",
      "Wall time: 1.45 s\n"
     ]
    }
   ],
   "source": [
    "%%time\n",
    "for exps in [(1,), (0,1), (2,), (0,2), (3,)]:\n",
    "    description_string = ', '.join(str(c) for c in exps)\n",
    "    print(f\"===== exps = ({description_string}) =====\")\n",
    "    twisted_l2.characteristic(G, (-1,1), cc, 2, exps)\n",
    "    print(flush=True)"
   ]
  },
  {
   "cell_type": "markdown",
   "id": "ed20d6a7-6cb7-4fcf-915f-86ec37644cb6",
   "metadata": {},
   "source": [
    "Indeed, they approach $[0,2,0]$. Let's run the `exps = (0, 3)` case with `n = 2`:"
   ]
  },
  {
   "cell_type": "code",
   "execution_count": 12,
   "id": "cd5453b5-1b26-4bcc-9095-68bc2ddc1787",
   "metadata": {
    "scrolled": true
   },
   "outputs": [
    {
     "name": "stdout",
     "output_type": "stream",
     "text": [
      "=========== Dimension 0 ===========\n",
      "\n",
      "Lift: F[1]\n",
      "Maximum valuation of entries = 2, should expand matrix by 2, expanding by 2 instead\n",
      "Size of Fin: 59049\n",
      "|L| = 729\n",
      "Constructing matrix over Q[L]...\n",
      "Computing rank...\n",
      "Dimensions of N: (1458, 1458)\n",
      "Rank: 2.0 (rounds up to 2)\n",
      "Valuation: 0.0\n",
      "Degree: 2.0\n",
      "\n",
      "=========== Dimension 1 ===========\n",
      "\n",
      "Lift: F[1]\n",
      "Maximum valuation of entries = 5, should expand matrix by 10, expanding by 2 instead\n",
      "Size of Fin: 59049\n",
      "|L| = 2187\n",
      "Constructing matrix over Q[L]...\n",
      "Computing rank...\n",
      "Dimensions of N: (8748, 8748)\n",
      "Rank: 1.96296296 (rounds up to 2)\n",
      "Valuation: 2.03703704\n",
      "Degree: 5.92592593\n",
      "\n",
      "=========== Dimension 2 ===========\n",
      "\n",
      "Lift: F[1]\n",
      "Maximum valuation of entries = 4, should expand matrix by 4, expanding by 2 instead\n",
      "Size of Fin: 59049\n",
      "|L| = 2187\n",
      "Constructing matrix over Q[L]...\n",
      "Computing rank...\n",
      "Dimensions of N: (4374, 4374)\n",
      "Rank: 1.89117513 (rounds up to 2)\n",
      "Valuation: 0.10882487\n",
      "Degree: 3.78235025\n",
      "\n",
      "Degrees of Laplacians : [2.0, 5.92592593, 3.78235025]\n",
      "Valuations            : [0.0, 2.03703704, 0.10882487]\n",
      "Quotient sizes        : [729, 2187, 2187]\n",
      "Characteristic        : -0.81938729\n",
      "CPU times: user 1min 13s, sys: 139 ms, total: 1min 13s\n",
      "Wall time: 1min 13s\n"
     ]
    }
   ],
   "source": [
    "%%time\n",
    "twisted_l2.configs.LogOptions.LEVEL = twisted_l2.INFO\n",
    "twisted_l2.characteristic(G, (-1,1), cc, 2, (0,3))\n",
    "twisted_l2.configs.LogOptions.LEVEL = twisted_l2.MINIMAL"
   ]
  },
  {
   "cell_type": "markdown",
   "id": "3f4aec3d-27cc-44fa-b967-6c12694d769c",
   "metadata": {},
   "source": [
    "Since the Thurston and Alexander norms agree for this value of `v`,\\\n",
    "as a final check, we try $1$-nilpotent $p$-quotients for $p = 5,7,11,\\dots,47$:"
   ]
  },
  {
   "cell_type": "code",
   "execution_count": 20,
   "id": "f49de0dd-20db-4f5b-b9c3-6d9f9f3a77a3",
   "metadata": {
    "scrolled": true
   },
   "outputs": [
    {
     "name": "stdout",
     "output_type": "stream",
     "text": [
      "===== 5-quotient =====\n",
      "Degrees of Laplacians : [2, 28/5, 16/5]\n",
      "Valuations            : [0, 11/5, 2/5]\n",
      "Quotient sizes        : [5, 5, 5]\n",
      "Characteristic        : -2/5\n",
      "\n",
      "===== 7-quotient =====\n",
      "Degrees of Laplacians : [2, 40/7, 24/7]\n",
      "Valuations            : [0, 15/7, 2/7]\n",
      "Quotient sizes        : [7, 7, 7]\n",
      "Characteristic        : -4/7\n",
      "\n",
      "===== 11-quotient =====\n",
      "Degrees of Laplacians : [2, 64/11, 40/11]\n",
      "Valuations            : [0, 23/11, 2/11]\n",
      "Quotient sizes        : [11, 11, 11]\n",
      "Characteristic        : -8/11\n",
      "\n",
      "===== 13-quotient =====\n",
      "Degrees of Laplacians : [2, 76/13, 48/13]\n",
      "Valuations            : [0, 27/13, 2/13]\n",
      "Quotient sizes        : [13, 13, 13]\n",
      "Characteristic        : -10/13\n",
      "\n",
      "===== 17-quotient =====\n",
      "Degrees of Laplacians : [2, 100/17, 64/17]\n",
      "Valuations            : [0, 35/17, 2/17]\n",
      "Quotient sizes        : [17, 17, 17]\n",
      "Characteristic        : -14/17\n",
      "\n",
      "===== 19-quotient =====\n",
      "Degrees of Laplacians : [2, 112/19, 72/19]\n",
      "Valuations            : [0, 39/19, 2/19]\n",
      "Quotient sizes        : [19, 19, 19]\n",
      "Characteristic        : -16/19\n",
      "\n",
      "===== 23-quotient =====\n",
      "Degrees of Laplacians : [2, 136/23, 88/23]\n",
      "Valuations            : [0, 47/23, 2/23]\n",
      "Quotient sizes        : [23, 23, 23]\n",
      "Characteristic        : -20/23\n",
      "\n",
      "===== 29-quotient =====\n",
      "Degrees of Laplacians : [2, 172/29, 112/29]\n",
      "Valuations            : [0, 59/29, 2/29]\n",
      "Quotient sizes        : [29, 29, 29]\n",
      "Characteristic        : -26/29\n",
      "\n",
      "===== 31-quotient =====\n",
      "Degrees of Laplacians : [2, 184/31, 120/31]\n",
      "Valuations            : [0, 63/31, 2/31]\n",
      "Quotient sizes        : [31, 31, 31]\n",
      "Characteristic        : -28/31\n",
      "\n",
      "===== 37-quotient =====\n",
      "Degrees of Laplacians : [2, 220/37, 144/37]\n",
      "Valuations            : [0, 75/37, 2/37]\n",
      "Quotient sizes        : [37, 37, 37]\n",
      "Characteristic        : -34/37\n",
      "\n",
      "===== 41-quotient =====\n",
      "Degrees of Laplacians : [2, 244/41, 160/41]\n",
      "Valuations            : [0, 83/41, 2/41]\n",
      "Quotient sizes        : [41, 41, 41]\n",
      "Characteristic        : -38/41\n",
      "\n",
      "===== 43-quotient =====\n",
      "Degrees of Laplacians : [2, 256/43, 168/43]\n",
      "Valuations            : [0, 87/43, 2/43]\n",
      "Quotient sizes        : [43, 43, 43]\n",
      "Characteristic        : -40/43\n",
      "\n",
      "===== 47-quotient =====\n",
      "Degrees of Laplacians : [2, 280/47, 184/47]\n",
      "Valuations            : [0, 95/47, 2/47]\n",
      "Quotient sizes        : [47, 47, 47]\n",
      "Characteristic        : -44/47\n",
      "\n",
      "CPU times: user 1.93 s, sys: 24 µs, total: 1.93 s\n",
      "Wall time: 1.93 s\n"
     ]
    }
   ],
   "source": [
    "%%time\n",
    "# display exact rational values\n",
    "twisted_l2.configs.LogOptions.PRECISION = twisted_l2.configs.LogOptions.PREC_EXACT\n",
    "# here we will store intermediate values, such as valuations and degrees\n",
    "log_objects = {}\n",
    "characteristics = {}\n",
    "\n",
    "for j in range(2, 15):\n",
    "    p = Primes().unrank(j)\n",
    "    exps = [0] * j + [1]\n",
    "    print(f\"===== {p}-quotient =====\")\n",
    "    char = twisted_l2.characteristic(G, (-1,1), cc, 2, exps)\n",
    "    log_objects[p] = twisted_l2.get_twisted_l2_logs()\n",
    "    characteristics[p] = char\n",
    "    print()\n",
    "\n",
    "twisted_l2.configs.LogOptions.PRECISION = 8"
   ]
  },
  {
   "cell_type": "markdown",
   "id": "6caf00c0-68e2-403c-93ae-bbe6f6dc5e2b",
   "metadata": {},
   "source": [
    "We can check that for every $p$:\n",
    "\n",
    "- $|L| = p$\n",
    "- the valuations are $[0, 2+1/p, 2/p]$\n",
    "- the degrees of the Laplacians are $[2, 6-2/p, 4-4/p]$\n",
    "- the computed characteristic is $-1+3/p$\n",
    "\n",
    "Here is some code that performs this check:"
   ]
  },
  {
   "cell_type": "code",
   "execution_count": 22,
   "id": "d7378a69-a48c-4b7c-90ef-fe6753f9e686",
   "metadata": {},
   "outputs": [
    {
     "name": "stdout",
     "output_type": "stream",
     "text": [
      "Test succeeded\n"
     ]
    }
   ],
   "source": [
    "for p, (log0, log1, log2) in log_objects.items():\n",
    "    # size of L\n",
    "    assert(log0.Lsize == p\n",
    "           and log1.Lsize == p\n",
    "           and log2.Lsize == p)\n",
    "    # valuations\n",
    "    assert(log0.valuation == 0\n",
    "           and log1.valuation == 2+1/p\n",
    "           and log2.valuation == 2/p)\n",
    "    # degrees\n",
    "    assert(log0.degree == 2\n",
    "           and log1.degree == 6-2/p\n",
    "           and log2.degree == 4-4/p)\n",
    "    # characteristic\n",
    "    assert(characteristics[p] == -1+3/p)\n",
    "\n",
    "print(\"Test succeeded\")"
   ]
  },
  {
   "cell_type": "markdown",
   "id": "71e83540-e21d-49f7-abaa-20df56d72e81",
   "metadata": {},
   "source": [
    "### v = (1,0)"
   ]
  },
  {
   "cell_type": "markdown",
   "id": "d23fa313-2fc3-4e5f-bc9f-a38cbb656a0f",
   "metadata": {},
   "source": [
    "This is the first nontrivial case, as the Alexander and Thurston norms differ.\\\n",
    "In a sense, we _need_ highly non-abelian quotients to reach the Thurston norm.\n",
    "\n",
    "We use `exps` = (1), (2), (3), (0,3), (4) and, since the computation is long, `n = 2`."
   ]
  },
  {
   "cell_type": "code",
   "execution_count": 23,
   "id": "4f71ee08-e898-4ea9-89ef-8b7736b4408d",
   "metadata": {},
   "outputs": [
    {
     "name": "stdout",
     "output_type": "stream",
     "text": [
      "Degrees of Laplacians : [2.0, 6.0, 4.0]\n",
      "Valuations            : [0.0, 4.0, 2.0]\n",
      "Quotient sizes        : [2, 2, 2]\n",
      "Characteristic        : -1.0\n",
      "CPU times: user 97.2 ms, sys: 0 ns, total: 97.2 ms\n",
      "Wall time: 97 ms\n"
     ]
    },
    {
     "data": {
      "text/plain": [
       "-1"
      ]
     },
     "execution_count": 23,
     "metadata": {},
     "output_type": "execute_result"
    }
   ],
   "source": [
    "%time twisted_l2.characteristic(G, (1,0), cc, 2, (1,))"
   ]
  },
  {
   "cell_type": "code",
   "execution_count": 24,
   "id": "b20eed65-70d3-4eb8-9766-40ed6a4eda31",
   "metadata": {},
   "outputs": [
    {
     "name": "stdout",
     "output_type": "stream",
     "text": [
      "Degrees of Laplacians : [2.0, 6.0, 4.0]\n",
      "Valuations            : [0.0, 4.0, 2.0]\n",
      "Quotient sizes        : [4, 8, 8]\n",
      "Characteristic        : -1.0\n",
      "CPU times: user 102 ms, sys: 2 µs, total: 102 ms\n",
      "Wall time: 101 ms\n"
     ]
    },
    {
     "data": {
      "text/plain": [
       "-1"
      ]
     },
     "execution_count": 24,
     "metadata": {},
     "output_type": "execute_result"
    }
   ],
   "source": [
    "%time twisted_l2.characteristic(G, (1,0), cc, 2, (2,))"
   ]
  },
  {
   "cell_type": "code",
   "execution_count": 25,
   "id": "db333415-63a0-48b4-aec5-79e48c4161ec",
   "metadata": {},
   "outputs": [
    {
     "name": "stdout",
     "output_type": "stream",
     "text": [
      "L_0: C4\n",
      "L_1: C4 x C2\n",
      "L_2: C4 x C2\n"
     ]
    }
   ],
   "source": [
    "for j, log_obj in enumerate(twisted_l2.get_twisted_l2_logs()):\n",
    "    print(f\"L_{j}: {log_obj.L.StructureDescription()}\")"
   ]
  },
  {
   "cell_type": "markdown",
   "id": "4652ba3a-7b8c-4ad3-8383-d05a564c3d6f",
   "metadata": {},
   "source": [
    "Even the $L$ arising from a $2$-nilpotent quotient is abelian, so we must go deeper."
   ]
  },
  {
   "cell_type": "code",
   "execution_count": 26,
   "id": "43786e5d-c991-40b2-9c71-8d7cf388fba6",
   "metadata": {},
   "outputs": [
    {
     "name": "stdout",
     "output_type": "stream",
     "text": [
      "Degrees of Laplacians : [2.0, 8.0, 6.0]\n",
      "Valuations            : [0.0, 3.0, 1.0]\n",
      "Quotient sizes        : [8, 128, 128]\n",
      "Characteristic        : -2.0\n",
      "CPU times: user 559 ms, sys: 3.34 ms, total: 562 ms\n",
      "Wall time: 563 ms\n"
     ]
    },
    {
     "data": {
      "text/plain": [
       "-2"
      ]
     },
     "execution_count": 26,
     "metadata": {},
     "output_type": "execute_result"
    }
   ],
   "source": [
    "%time twisted_l2.characteristic(G, (1,0), cc, 2, (3,))"
   ]
  },
  {
   "cell_type": "code",
   "execution_count": 27,
   "id": "b6e1b4aa-5a7a-47ad-820e-ff33d00f685a",
   "metadata": {},
   "outputs": [],
   "source": [
    "# For the last two runs we turn the verbosity up\n",
    "twisted_l2.configs.LogOptions.LEVEL = twisted_l2.INFO"
   ]
  },
  {
   "cell_type": "code",
   "execution_count": 28,
   "id": "5805f30a-ac1f-4593-98a4-f643c3b9c768",
   "metadata": {
    "scrolled": true
   },
   "outputs": [
    {
     "name": "stdout",
     "output_type": "stream",
     "text": [
      "=========== Dimension 0 ===========\n",
      "\n",
      "Lift: F[0]\n",
      "Maximum valuation of entries = 2, should expand matrix by 2, expanding by 2 instead\n",
      "Size of Fin: 59049\n",
      "|L| = 27\n",
      "Constructing matrix over Q[L]...\n",
      "Computing rank...\n",
      "Dimensions of N: (54, 54)\n",
      "Rank: 2.0 (rounds up to 2)\n",
      "Valuation: 0.0\n",
      "Degree: 2.0\n",
      "\n",
      "=========== Dimension 1 ===========\n",
      "\n",
      "Lift: F[0]\n",
      "Maximum valuation of entries = 8, should expand matrix by 16, expanding by 2 instead\n",
      "Size of Fin: 59049\n",
      "|L| = 2187\n",
      "Constructing matrix over Q[L]...\n",
      "Computing rank...\n",
      "Dimensions of N: (8748, 8748)\n",
      "Rank: 1.33333333 (rounds up to 2)\n",
      "Valuation: 2.66666667\n",
      "Degree: 8.66666667\n",
      "\n",
      "=========== Dimension 2 ===========\n",
      "\n",
      "Lift: F[0]\n",
      "Maximum valuation of entries = 8, should expand matrix by 8, expanding by 2 instead\n",
      "Size of Fin: 59049\n",
      "|L| = 2187\n",
      "Constructing matrix over Q[L]...\n",
      "Computing rank...\n",
      "Dimensions of N: (4374, 4374)\n",
      "Rank: 1.33333333 (rounds up to 2)\n",
      "Valuation: 0.66666667\n",
      "Degree: 6.66666667\n",
      "\n",
      "Degrees of Laplacians : [2.0, 8.66666667, 6.66666667]\n",
      "Valuations            : [0.0, 2.66666667, 0.66666667]\n",
      "Quotient sizes        : [27, 2187, 2187]\n",
      "Characteristic        : -2.33333333\n",
      "CPU times: user 1min 4s, sys: 23.1 ms, total: 1min 4s\n",
      "Wall time: 1min 4s\n"
     ]
    },
    {
     "data": {
      "text/plain": [
       "-7/3"
      ]
     },
     "execution_count": 28,
     "metadata": {},
     "output_type": "execute_result"
    }
   ],
   "source": [
    "%time twisted_l2.characteristic(G, (1,0), cc, 2, (0,3))"
   ]
  },
  {
   "cell_type": "markdown",
   "id": "062e5abc-54db-47fd-ad72-578f358cfd70",
   "metadata": {},
   "source": [
    "The last run takes at least 15 minutes on most machines:"
   ]
  },
  {
   "cell_type": "code",
   "execution_count": 29,
   "id": "d7eb434a-abbe-4606-ad42-198c03629105",
   "metadata": {
    "scrolled": true
   },
   "outputs": [
    {
     "name": "stdout",
     "output_type": "stream",
     "text": [
      "=========== Dimension 0 ===========\n",
      "\n",
      "Lift: F[0]\n",
      "Maximum valuation of entries = 2, should expand matrix by 2, expanding by 2 instead\n",
      "Size of Fin: 131072\n",
      "|L| = 16\n",
      "Constructing matrix over Q[L]...\n",
      "Computing rank...\n",
      "Dimensions of N: (32, 32)\n",
      "Rank: 2.0 (rounds up to 2)\n",
      "Valuation: 0.0\n",
      "Degree: 2.0\n",
      "\n",
      "=========== Dimension 1 ===========\n",
      "\n",
      "Lift: F[0]\n",
      "Maximum valuation of entries = 8, should expand matrix by 16, expanding by 2 instead\n",
      "Size of Fin: 131072\n",
      "|L| = 8192\n",
      "Constructing matrix over Q[L]...\n",
      "Computing rank...\n",
      "Dimensions of N: (32768, 32768)\n",
      "Rank: 1.5 (rounds up to 2)\n",
      "Valuation: 2.5\n",
      "Degree: 9.0\n",
      "\n",
      "=========== Dimension 2 ===========\n",
      "\n",
      "Lift: F[0]\n",
      "Maximum valuation of entries = 8, should expand matrix by 8, expanding by 2 instead\n",
      "Size of Fin: 131072\n",
      "|L| = 8192\n",
      "Constructing matrix over Q[L]...\n",
      "Computing rank...\n",
      "Dimensions of N: (16384, 16384)\n",
      "Rank: 1.5 (rounds up to 2)\n",
      "Valuation: 0.5\n",
      "Degree: 7.0\n",
      "\n",
      "Degrees of Laplacians : [2.0, 9.0, 7.0]\n",
      "Valuations            : [0.0, 2.5, 0.5]\n",
      "Quotient sizes        : [16, 8192, 8192]\n",
      "Characteristic        : -2.5\n",
      "CPU times: user 16min 17s, sys: 271 ms, total: 16min 17s\n",
      "Wall time: 16min 18s\n"
     ]
    },
    {
     "data": {
      "text/plain": [
       "-5/2"
      ]
     },
     "execution_count": 29,
     "metadata": {},
     "output_type": "execute_result"
    }
   ],
   "source": [
    "%time twisted_l2.characteristic(G, (1,0), cc, 2, (4,))"
   ]
  },
  {
   "cell_type": "markdown",
   "id": "b3c2ffbc-350d-49f2-bd06-329cd6da3417",
   "metadata": {},
   "source": [
    "The valuations appear to converge to $[0,2,0]$. The corresponding degrees of the Laplacians are $[10, 8, 3]$*,\\\n",
    "corresponding to $\\chi^{(2)} = -3$, as expected.\n",
    "\n",
    "*this can be obtained from the formula $\\Delta(\\text{Laplacian degree}) = -2\\Delta(\\text{valuation})$, where $\\Delta$ stands for \"difference\"."
   ]
  },
  {
   "cell_type": "code",
   "execution_count": null,
   "id": "2f6f0dd8-691c-42f0-86df-d67415ab7af4",
   "metadata": {},
   "outputs": [],
   "source": []
  }
 ],
 "metadata": {
  "kernelspec": {
   "display_name": "SageMath 10.6",
   "language": "sage",
   "name": "sagemath"
  },
  "language_info": {
   "codemirror_mode": {
    "name": "ipython",
    "version": 3
   },
   "file_extension": ".py",
   "mimetype": "text/x-python",
   "name": "python",
   "nbconvert_exporter": "python",
   "pygments_lexer": "ipython3",
   "version": "3.13.5"
  }
 },
 "nbformat": 4,
 "nbformat_minor": 5
}
