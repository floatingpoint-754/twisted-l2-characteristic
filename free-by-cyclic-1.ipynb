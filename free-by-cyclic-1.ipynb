{
 "cells": [
  {
   "cell_type": "markdown",
   "id": "4239efdc-c650-43a2-aa77-1f285856dd4a",
   "metadata": {},
   "source": [
    "# A free-by-cyclic group (example 1)"
   ]
  },
  {
   "cell_type": "code",
   "execution_count": 1,
   "id": "a0b3bfc0-f367-4715-a589-d69fe63d0b7d",
   "metadata": {
    "tags": []
   },
   "outputs": [
    {
     "name": "stdout",
     "output_type": "stream",
     "text": [
      "\r"
     ]
    }
   ],
   "source": [
    "import twisted_l2\n",
    "from twisted_l2 import FreeByCyclic\n",
    "import itertools"
   ]
  },
  {
   "cell_type": "code",
   "execution_count": 2,
   "id": "13daa4e3-b2c5-4615-bcf0-48a8ef5bedc7",
   "metadata": {
    "tags": []
   },
   "outputs": [
    {
     "data": {
      "text/plain": [
       "true"
      ]
     },
     "execution_count": 2,
     "metadata": {},
     "output_type": "execute_result"
    }
   ],
   "source": [
    "twisted_l2.load_hap()"
   ]
  },
  {
   "cell_type": "code",
   "execution_count": 3,
   "id": "9cbd6c2e-94ea-4d56-b5cb-92eecee00fc8",
   "metadata": {
    "tags": []
   },
   "outputs": [
    {
     "name": "stdout",
     "output_type": "stream",
     "text": [
      "\\eta_{2,1} \\cdot \\sigma_{1,3} \\cdot \\eta_{2,1} \\cdot \\eta_{3,2} \\cdot \\eta_{3,1}\n"
     ]
    }
   ],
   "source": [
    "f, phi, inv = FreeByCyclic.random_automorphism(3, length=20, seed=int(3219093496288654859), print_latex=True)\n",
    "F = FreeGroup(f.ngens() + 1)"
   ]
  },
  {
   "cell_type": "markdown",
   "id": "747a7eb2-13ec-46af-bb83-545e986c7329",
   "metadata": {},
   "source": [
    "The automorphism is $\\varphi = \\eta_{2,1} \\cdot \\sigma_{1,3} \\cdot \\eta_{2,1} \\cdot \\eta_{3,2} \\cdot \\eta_{3,1}$."
   ]
  },
  {
   "cell_type": "code",
   "execution_count": 4,
   "id": "1cb49056-af4b-4870-a14b-5387c29379ec",
   "metadata": {
    "tags": []
   },
   "outputs": [
    {
     "data": {
      "text/plain": [
       "3219093496288654859"
      ]
     },
     "execution_count": 4,
     "metadata": {},
     "output_type": "execute_result"
    }
   ],
   "source": [
    "FreeByCyclic.random_automorphism.seed"
   ]
  },
  {
   "cell_type": "code",
   "execution_count": 5,
   "id": "fd55ca78-3cc4-46e9-82e7-73d018cf766b",
   "metadata": {
    "tags": []
   },
   "outputs": [
    {
     "name": "stdout",
     "output_type": "stream",
     "text": [
      "[x2, x1^-1*x0*x2, x2*x1^-1*x0*x2*x0^-1]\n",
      "[x2^-1*x0*x1, x2^-1*x0*x1*x0*x1^-1, x0]\n",
      "[x0, x1, x2]\n"
     ]
    }
   ],
   "source": [
    "print([phi(x) for x in f.gens()])\n",
    "print([inv(x) for x in f.gens()])\n",
    "print([phi(inv(x)) for x in f.gens()])"
   ]
  },
  {
   "cell_type": "markdown",
   "id": "4d420550-8955-4624-a5e7-fa8d5487e837",
   "metadata": {},
   "source": [
    "## First method: compute a free $\\mathbb Z[G]$-resolution of $\\mathbb Z$"
   ]
  },
  {
   "cell_type": "markdown",
   "id": "d1ff6558-1628-479b-82a0-9c9f18cd1f69",
   "metadata": {},
   "source": [
    "First, we make the free-by-cyclic group:"
   ]
  },
  {
   "cell_type": "code",
   "execution_count": 6,
   "id": "dcdf3eac-ea3b-4931-afe5-56760294179a",
   "metadata": {
    "tags": []
   },
   "outputs": [
    {
     "data": {
      "text/plain": [
       "Finitely presented group < x0, x1, x2, x3 | x3*x0^-1*x3^-1*x2, x3*x1^-1*x3^-1*x1^-1*x0*x2, x3*x2^-1*x3^-1*x2*x1^-1*x0*x2*x0^-1 >"
      ]
     },
     "execution_count": 6,
     "metadata": {},
     "output_type": "execute_result"
    }
   ],
   "source": [
    "def relation(idx):\n",
    "    \"\"\"Returns a relation of the form t * g_i^-1 * t^-1 * phi(g_i) as a Tietze word.\"\"\"\n",
    "    n = f.ngens()\n",
    "    return [n+1, -idx-1, -n-1] + list(phi(f.gen(idx)).Tietze())\n",
    "    \n",
    "G = F / [relation(i) for i in range(f.ngens())]\n",
    "G"
   ]
  },
  {
   "cell_type": "markdown",
   "id": "e56d11c3-2d2f-4cc4-9c05-fb14509366d6",
   "metadata": {},
   "source": [
    "The stable letter is the last generator (`x3`)."
   ]
  },
  {
   "cell_type": "code",
   "execution_count": 7,
   "id": "61c9dd1e-ec6a-4b15-8d54-14e740273193",
   "metadata": {
    "tags": []
   },
   "outputs": [
    {
     "data": {
      "text/plain": [
       "(0, 0)"
      ]
     },
     "execution_count": 7,
     "metadata": {},
     "output_type": "execute_result"
    }
   ],
   "source": [
    "G.abelian_invariants()"
   ]
  },
  {
   "cell_type": "markdown",
   "id": "ae591b5f-33fb-40ef-8d0e-ea99f7c174fb",
   "metadata": {},
   "source": [
    "A free $\\mathbb Z[G]$-resolution of $\\mathbb Z$ is the same thing as a chain complex for the universal cover of $K(G, 1)$:"
   ]
  },
  {
   "cell_type": "code",
   "execution_count": 8,
   "id": "266fddfd-39be-437e-aec8-637b65a0f83a",
   "metadata": {
    "tags": []
   },
   "outputs": [],
   "source": [
    "res = twisted_l2.ComponentObjectWrapper(libgap.ResolutionAsphericalPresentation(G, 3))"
   ]
  },
  {
   "cell_type": "code",
   "execution_count": 9,
   "id": "7c50dcaa-01d9-4615-bd6f-fa434bc73e24",
   "metadata": {
    "tags": []
   },
   "outputs": [
    {
     "data": {
      "text/plain": [
       "[1, 4, 3, 0]"
      ]
     },
     "execution_count": 9,
     "metadata": {},
     "output_type": "execute_result"
    }
   ],
   "source": [
    "[res.dimension(i) for i in range(4)]"
   ]
  },
  {
   "cell_type": "code",
   "execution_count": 10,
   "id": "942c97fc-1164-4b62-b680-fa7ca3c570bc",
   "metadata": {
    "tags": []
   },
   "outputs": [],
   "source": [
    "cc = twisted_l2.get_differentials(res)"
   ]
  },
  {
   "cell_type": "code",
   "execution_count": 20,
   "id": "ed4db172-6afc-4b4a-9561-c61fed34b179",
   "metadata": {},
   "outputs": [
    {
     "data": {
      "text/plain": [
       "[                                                                          -F[3]*F[0]^-1                                                                                       0                                                                    F[3]*F[0]^-1*F[3]^-1                                                                1 - F[3]*F[0]^-1*F[3]^-1]\n",
       "[                                                           F[3]*F[1]^-1*F[3]^-1*F[1]^-1                                            -F[3]*F[1]^-1 - F[3]*F[1]^-1*F[3]^-1*F[1]^-1                                                       F[3]*F[1]^-1*F[3]^-1*F[1]^-1*F[0]                                                                1 - F[3]*F[1]^-1*F[3]^-1]\n",
       "[F[3]*F[2]^-1*F[3]^-1*F[2]*F[1]^-1 - F[3]*F[2]^-1*F[3]^-1*F[2]*F[1]^-1*F[0]*F[2]*F[0]^-1                                                      -F[3]*F[2]^-1*F[3]^-1*F[2]*F[1]^-1           -F[3]*F[2]^-1 + F[3]*F[2]^-1*F[3]^-1 + F[3]*F[2]^-1*F[3]^-1*F[2]*F[1]^-1*F[0]                                                                1 - F[3]*F[2]^-1*F[3]^-1]"
      ]
     },
     "execution_count": 20,
     "metadata": {},
     "output_type": "execute_result"
    }
   ],
   "source": [
    "cc[1]"
   ]
  },
  {
   "cell_type": "markdown",
   "id": "b08853af-49f0-41d6-8327-db7c6645c212",
   "metadata": {},
   "source": [
    "### How each class $\\phi$ acts on the generators"
   ]
  },
  {
   "cell_type": "code",
   "execution_count": 11,
   "id": "fe8f0f9e-96fd-421b-a1cd-58b4ee0ee537",
   "metadata": {},
   "outputs": [
    {
     "data": {
      "text/plain": [
       "[1, 1, 1, 0]"
      ]
     },
     "execution_count": 11,
     "metadata": {},
     "output_type": "execute_result"
    }
   ],
   "source": [
    "[twisted_l2.gap_ZZ_to_int(twisted_l2.make_phi_from_coordinates(G, [1,0])(g)) for g in G.gens()]"
   ]
  },
  {
   "cell_type": "code",
   "execution_count": 12,
   "id": "acbe9c37-a994-41ea-ba56-9ff279fd3485",
   "metadata": {},
   "outputs": [
    {
     "data": {
      "text/plain": [
       "[0, 0, 0, 1]"
      ]
     },
     "execution_count": 12,
     "metadata": {},
     "output_type": "execute_result"
    }
   ],
   "source": [
    "[twisted_l2.gap_ZZ_to_int(twisted_l2.make_phi_from_coordinates(G, [0,1])(g)) for g in G.gens()]"
   ]
  },
  {
   "cell_type": "markdown",
   "id": "9c7b0721-9c94-43da-8a34-37a49edc6dff",
   "metadata": {},
   "source": [
    "If we identify `v` with $\\phi$:\n",
    "\n",
    "- $(1,0)$ has the stable letter in its kernel;\n",
    "- $(0,1)$ is the canonical projection $G \\twoheadrightarrow Z$.\n",
    "\n",
    "Hence, $(0,1)$ is a fibered class for $G$."
   ]
  },
  {
   "cell_type": "code",
   "execution_count": 16,
   "id": "8e501a8f-48f9-452a-a1f4-3a67c1f19b0f",
   "metadata": {},
   "outputs": [],
   "source": [
    "twisted_l2.configs.LogOptions.LEVEL = twisted_l2.MINIMAL\n",
    "twisted_l2.configs.LogOptions.PRECISION = 5"
   ]
  },
  {
   "cell_type": "markdown",
   "id": "cceb9a7a-a7ee-4fcc-a802-fc6226894208",
   "metadata": {},
   "source": [
    "We compute the characteristic at $(0,1)$, $(1,1)$, $(1,0)$, $(-1,1)$,\\\n",
    "first using `exps = (3)` and `n = 4`, then `exps = (0,0,0,2)` and `n = 5`."
   ]
  },
  {
   "cell_type": "markdown",
   "id": "11436e3d-a462-4653-aef6-38aff64d4d1d",
   "metadata": {},
   "source": [
    "Heuristically, the rank computed in a finite quotient is a lower bound for the true Neumann rank.\\\n",
    "Hence, we take the ceiling of the rank (which is the same as taking the floor of each valuation).\\\n",
    "(This is a stronger heuristic than the one in `borromean.ipynb`.)"
   ]
  },
  {
   "cell_type": "markdown",
   "id": "e73b06f4-e52e-47ae-872b-7f226b3e82e5",
   "metadata": {},
   "source": [
    "First, we define a little hack. The characteristic is a linear polynomial in the valuations $v_0, v_1, v_2, \\dots$:\n",
    "\n",
    "$$\\chi^{(2)}(G; -) = - v_1 + 2v_2 -3v_3 + \\dots + C.$$\n",
    "\n",
    "Hence, if we have $(v_0, v_1, v_2, \\dots)$ and $\\chi^{(2)}(G; -)$, we can adjust the value to what it would have been, had we used the _floors_ of the valuations."
   ]
  },
  {
   "cell_type": "code",
   "execution_count": 14,
   "id": "13f4ec51-6c8b-4ad8-a218-4d9a0042e6c5",
   "metadata": {},
   "outputs": [],
   "source": [
    "def characteristic_valuations_floor(char, valuations):\n",
    "    return char + sum((-1)^j * j * (floor(val)-val) for j, val in enumerate(valuations))"
   ]
  },
  {
   "cell_type": "code",
   "execution_count": 17,
   "id": "3fd49023-ebf7-4046-a7a4-3a17596b9281",
   "metadata": {
    "scrolled": true
   },
   "outputs": [
    {
     "name": "stdout",
     "output_type": "stream",
     "text": [
      "===== v = (0, 1), n = 4, 2-quotient =====\n",
      "Degrees of Laplacians : [2.0, 8.0, 6.0]\n",
      "Valuations            : [0.0, 0.0, 0.0]\n",
      "Quotient sizes        : [128, 128, 128]\n",
      "Characteristic        : -2.0\n",
      "Structure of L        : {'C2 x ((C4 x C2) : C8)'}\n",
      "===== v = (0, 1), n = 5, 7-quotient =====\n",
      "Degrees of Laplacians : [2.0, 8.0, 6.0]\n",
      "Valuations            : [0.0, 0.0, 0.0]\n",
      "Quotient sizes        : [343, 343, 343]\n",
      "Characteristic        : -2.0\n",
      "Structure of L        : {'C49 x C7'}\n",
      "----------------------------------------\n",
      "Floors of valuations  : [[0, 0, 0], [0, 0, 0]]\n",
      "Characteristics       : [-2, -2]\n",
      "\n",
      "===== v = (1, 1), n = 4, 2-quotient =====\n",
      "Degrees of Laplacians : [1.75, 7.125, 4.84375]\n",
      "Valuations            : [0.125, 2.4375, 1.57812]\n",
      "Quotient sizes        : [128, 128, 128]\n",
      "Characteristic        : -1.28125\n",
      "Structure of L        : {'C2 x ((C4 x C2) : C8)'}\n",
      "===== v = (1, 1), n = 5, 7-quotient =====\n",
      "Degrees of Laplacians : [2.0, 7.84257, 5.69679]\n",
      "Valuations            : [0.0, 2.07872, 1.1516]\n",
      "Quotient sizes        : [343, 343, 343]\n",
      "Characteristic        : -1.77551\n",
      "Structure of L        : {'C49 x C7'}\n",
      "----------------------------------------\n",
      "Floors of valuations  : [[0, 2, 1], [0, 2, 1]]\n",
      "Characteristics       : [-2, -2]\n",
      "\n",
      "===== v = (1, 0), n = 4, 2-quotient =====\n",
      "Degrees of Laplacians : [2.0, 8.0, 6.0]\n",
      "Valuations            : [0.0, 1.0, 1.0]\n",
      "Quotient sizes        : [128, 128, 128]\n",
      "Characteristic        : -2.0\n",
      "Structure of L        : {'C2 x ((C4 x C2) : C8)'}\n",
      "===== v = (1, 0), n = 5, 7-quotient =====\n",
      "Degrees of Laplacians : [2.0, 8.0, 6.0]\n",
      "Valuations            : [0.0, 1.0, 1.0]\n",
      "Quotient sizes        : [343, 343, 343]\n",
      "Characteristic        : -2.0\n",
      "Structure of L        : {'C49 x C7'}\n",
      "----------------------------------------\n",
      "Floors of valuations  : [[0, 1, 1], [0, 1, 1]]\n",
      "Characteristics       : [-2, -2]\n",
      "\n",
      "===== v = (-1, 1), n = 4, 2-quotient =====\n",
      "Degrees of Laplacians : [1.75, 7.1875, 5.125]\n",
      "Valuations            : [0.125, 3.40625, 1.4375]\n",
      "Quotient sizes        : [128, 128, 128]\n",
      "Characteristic        : -1.53125\n",
      "Structure of L        : {'C2 x ((C4 x C2) : C8)'}\n",
      "===== v = (-1, 1), n = 5, 7-quotient =====\n",
      "Degrees of Laplacians : [2.0, 8.0, 6.0]\n",
      "Valuations            : [0.0, 3.0, 1.0]\n",
      "Quotient sizes        : [343, 343, 343]\n",
      "Characteristic        : -2.0\n",
      "Structure of L        : {'C49 x C7'}\n",
      "----------------------------------------\n",
      "Floors of valuations  : [[0, 3, 1], [0, 3, 1]]\n",
      "Characteristics       : [-2, -2]\n",
      "\n",
      "CPU times: user 1min 59s, sys: 16.6 ms, total: 1min 59s\n",
      "Wall time: 2min\n"
     ]
    }
   ],
   "source": [
    "%%time\n",
    "\n",
    "vs = [(0,1),(1,1),(1,0),(-1,1)]\n",
    "\n",
    "for v in vs:\n",
    "    print(f\"===== v = {v}, n = 4, 2-quotient =====\")\n",
    "    c1 = twisted_l2.characteristic(G, v, cc, 4, (3,))\n",
    "    logs = twisted_l2.get_twisted_l2_logs()\n",
    "    structures = {l.L.StructureDescription().sage() for l in logs}\n",
    "    vals1 = [l.valuation for l in logs]\n",
    "    print(f\"Structure of L        : {structures}\")\n",
    "    \n",
    "    print(f\"===== v = {v}, n = 5, 7-quotient =====\")\n",
    "    c2 = twisted_l2.characteristic(G, v, cc, 5, (0,0,0,2))\n",
    "    logs = twisted_l2.get_twisted_l2_logs()\n",
    "    structures = {l.L.StructureDescription().sage() for l in logs}\n",
    "    vals2 = [l.valuation for l in logs]\n",
    "    print(f\"Structure of L        : {structures}\")\n",
    "    \n",
    "    valuations = (vals1, vals2)\n",
    "    chars = (c1, c2)\n",
    "    print(\"-\"*40)\n",
    "    print(f\"Floors of valuations  : {[[floor(val) for val in vals] for vals in valuations]}\")\n",
    "    print(f\"Characteristics       : {[characteristic_valuations_floor(char, vals) for char, vals in zip(chars, valuations)]}\")\n",
    "    print()"
   ]
  },
  {
   "cell_type": "markdown",
   "id": "c2375617-b9b1-4df0-975a-2c0cae9fcc84",
   "metadata": {},
   "source": [
    "All values are consistent (the floors of the valuations stabilize at `n = 4`)."
   ]
  },
  {
   "cell_type": "markdown",
   "id": "6ce57147-3268-4ce2-bcb4-c38578114a16",
   "metadata": {},
   "source": [
    "We can also plot the seminorm (that is, $-\\chi^{(2)}(G; -)$):"
   ]
  },
  {
   "cell_type": "code",
   "execution_count": null,
   "id": "7f2989e1-fc2d-41c0-b14c-163a1ce2b6ec",
   "metadata": {
    "tags": []
   },
   "outputs": [],
   "source": [
    "%%time\n",
    "\n",
    "# Turn on automatic ceiling of rank / floor of valuation\n",
    "twisted_l2.configs.FGARankOptions.CEILING = True\n",
    "twisted_l2.configs.LogOptions.LEVEL = twisted_l2.SILENT\n",
    "\n",
    "sn = twisted_l2.draw_seminorm(G, cc, 4, (3,), 1)\n",
    "\n",
    "twisted_l2.configs.LogOptions.LEVEL = twisted_l2.MINIMAL\n",
    "twisted_l2.configs.FGARankOptions.CEILING = False"
   ]
  },
  {
   "cell_type": "code",
   "execution_count": null,
   "id": "7933cccd-970f-4cc5-b788-8b602b31fc4d",
   "metadata": {},
   "outputs": [],
   "source": [
    "plots = []\n",
    "for j in range(sn.nrows()):\n",
    "    for k in range(sn.ncols()):\n",
    "        x = (k - sn.ncols()//2)\n",
    "        y = -(j - sn.nrows()//2)\n",
    "        plots.append(line3d([(0,0,0), (x,y,-sn[j,k])]))\n",
    "show(sum(plots))"
   ]
  },
  {
   "cell_type": "markdown",
   "id": "cf7c1b7a-8576-4b0b-9549-2e5af6de3cdd",
   "metadata": {},
   "source": [
    "## Second method: construct the presentation complex"
   ]
  },
  {
   "cell_type": "code",
   "execution_count": 24,
   "id": "1b309459-c53f-4fb5-b6d2-3e680f7b7349",
   "metadata": {},
   "outputs": [],
   "source": [
    "fbc = FreeByCyclic(f, phi)"
   ]
  },
  {
   "cell_type": "code",
   "execution_count": 25,
   "id": "31d3a5b3-6b4c-4f86-b115-bc6a946271a2",
   "metadata": {},
   "outputs": [],
   "source": [
    "fl = twisted_l2.face_lattice_to_hap(fbc.make_fl())"
   ]
  },
  {
   "cell_type": "code",
   "execution_count": 26,
   "id": "bac877b5-11b5-4f8d-8824-96a310475a56",
   "metadata": {},
   "outputs": [],
   "source": [
    "cw = twisted_l2.cw_complex(fl)"
   ]
  },
  {
   "cell_type": "code",
   "execution_count": 27,
   "id": "3a68acce-037b-4288-8574-a0cd07ef08de",
   "metadata": {},
   "outputs": [],
   "source": [
    "chain_complex = twisted_l2.equivariant_cc(cw)"
   ]
  },
  {
   "cell_type": "code",
   "execution_count": 28,
   "id": "541b8dcf-fa32-4d37-98c9-3f63b3899854",
   "metadata": {},
   "outputs": [],
   "source": [
    "edge_to_word = twisted_l2.gap_member(chain_complex.group, \"edgeToWord\")"
   ]
  },
  {
   "cell_type": "code",
   "execution_count": 29,
   "id": "2143b42d-4f2d-4824-ac60-2aa4b58a7cfa",
   "metadata": {},
   "outputs": [],
   "source": [
    "G = twisted_l2.get_fundamental_group(chain_complex)"
   ]
  },
  {
   "cell_type": "code",
   "execution_count": 30,
   "id": "122a707c-947f-4e63-836c-9b8385bb3a66",
   "metadata": {},
   "outputs": [],
   "source": [
    "cc = twisted_l2.get_differentials(chain_complex)"
   ]
  },
  {
   "cell_type": "code",
   "execution_count": 31,
   "id": "4a42fa21-e318-4557-8557-5edc01deb917",
   "metadata": {},
   "outputs": [
    {
     "data": {
      "text/plain": [
       "Finitely presented group < f1, f2, f3 | f1^-1*f3*f1*f3*f2^-1*f1^-1, f1^-1*f3*f2*f3^-1*f2^-1*f1*f2*f3^-1*f1*f2^-1*f1*f2*f3^-1*f1^-1 >"
      ]
     },
     "execution_count": 31,
     "metadata": {},
     "output_type": "execute_result"
    }
   ],
   "source": [
    "G"
   ]
  },
  {
   "cell_type": "markdown",
   "id": "a0d8271a-53f8-4c23-9bd7-0bf52f1fdddc",
   "metadata": {},
   "source": [
    "### Retrieving the original free-by-cyclic generators"
   ]
  },
  {
   "cell_type": "code",
   "execution_count": 32,
   "id": "184ea8dd-2e3c-4547-b185-0c48c21ca3f1",
   "metadata": {
    "tags": []
   },
   "outputs": [],
   "source": [
    "# Find the indices of 1-cells corresponding to the stable letter and generators\n",
    "st = [fbc.edge_backT()+1, fbc.edge_frontT()+1]\n",
    "gens = [[fbc.edge_G(i, twisted_l2.free_by_cyclic.GEN_EDGE_BACK)+1,\n",
    "         fbc.edge_G(i, twisted_l2.free_by_cyclic.GEN_EDGE_FRONT)+1] for i in range(fbc.N)]"
   ]
  },
  {
   "cell_type": "code",
   "execution_count": 33,
   "id": "47eb0fa5-d4c6-423a-a47f-8825c02d4df8",
   "metadata": {
    "tags": []
   },
   "outputs": [],
   "source": [
    "# Get the corresponding elements of G\n",
    "loops = gens + [st]\n",
    "loopsG = [G((edge_to_word(e0) * edge_to_word(e1)^-1).UnderlyingElement().LetterRepAssocWord().sage()) for e0,e1 in loops]"
   ]
  },
  {
   "cell_type": "code",
   "execution_count": 34,
   "id": "3c861e7b-1a42-4d9e-812a-63fb67f85483",
   "metadata": {},
   "outputs": [
    {
     "name": "stdout",
     "output_type": "stream",
     "text": [
      "Stable letter: f1\n",
      "Generators of F_3: [f1^-1*f3, f1^-1*f3*f2*f3^-1*f2^-1*f1*f2*f3^-1, f2*f3^-1]\n"
     ]
    }
   ],
   "source": [
    "print(f\"Stable letter: {loopsG[-1]}\")\n",
    "print(f\"Generators of F_{fbc.N}: {loopsG[:-1]}\")"
   ]
  },
  {
   "cell_type": "code",
   "execution_count": 35,
   "id": "3a43ac57-cda8-4915-b8bc-204477a48b48",
   "metadata": {},
   "outputs": [
    {
     "data": {
      "text/plain": [
       "[1, 1, 1, 0]"
      ]
     },
     "execution_count": 35,
     "metadata": {},
     "output_type": "execute_result"
    }
   ],
   "source": [
    "[twisted_l2.gap_ZZ_to_int(twisted_l2.make_phi_from_coordinates(G, [0,1])(g)) for g in loopsG]"
   ]
  },
  {
   "cell_type": "code",
   "execution_count": 36,
   "id": "2e845278-f94f-4a43-838b-362df015391c",
   "metadata": {},
   "outputs": [
    {
     "data": {
      "text/plain": [
       "[0, 0, 0, 1]"
      ]
     },
     "execution_count": 36,
     "metadata": {},
     "output_type": "execute_result"
    }
   ],
   "source": [
    "[twisted_l2.gap_ZZ_to_int(twisted_l2.make_phi_from_coordinates(G, [1,1])(g)) for g in loopsG]"
   ]
  },
  {
   "cell_type": "markdown",
   "id": "f160c467-9950-4f4e-9bef-3a94148b1994",
   "metadata": {},
   "source": [
    "Consider the basis $B = \\{e_1 = (0,1), e_2 = (1,1)\\}$ for `v`. If we identify `v` with $\\phi$:\n",
    "\n",
    "- $e_1$ has the stable letter in its kernel;\n",
    "- $e_2$ is the canonical projection $G \\twoheadrightarrow Z$.\n",
    "\n",
    "Hence, $e_2$ is a fibered class for $G$."
   ]
  },
  {
   "cell_type": "code",
   "execution_count": 37,
   "id": "6e45bff9-d8d4-420a-a08a-18f74fc2cf31",
   "metadata": {
    "tags": []
   },
   "outputs": [],
   "source": [
    "def in_basis_B(t):\n",
    "    return [t[1], t[0]+t[1]] "
   ]
  },
  {
   "cell_type": "markdown",
   "id": "1155bcb3-ccc4-4a79-b2d8-37cd5b3ab42e",
   "metadata": {},
   "source": [
    "### Doing the computation in this basis"
   ]
  },
  {
   "cell_type": "code",
   "execution_count": 41,
   "id": "e832b4e9-bfe4-45da-b3db-7604d60cc307",
   "metadata": {},
   "outputs": [],
   "source": [
    "twisted_l2.configs.LogOptions.LEVEL = twisted_l2.MINIMAL\n",
    "twisted_l2.configs.LogOptions.PRECISION = 5"
   ]
  },
  {
   "cell_type": "markdown",
   "id": "65f10291-6a0b-4693-85ff-754236369f7a",
   "metadata": {},
   "source": [
    "We compute the characteristic at $(0,1)$, $(1,1)$, $(1,0)$, $(-1,1)$,\\\n",
    "first using `exps = (3)` and `n = 4`, then `exps = (0,0,0,2)` and `n = 5`."
   ]
  },
  {
   "cell_type": "markdown",
   "id": "35339ecd-f728-464a-990d-9d561267057e",
   "metadata": {},
   "source": [
    "Heuristically, the rank computed in a finite quotient is a lower bound for the true Neumann rank.\\\n",
    "Hence, we take the ceiling of the rank (which is the same as taking the floor of each valuation).\\\n",
    "(This is a stronger heuristic than the one in `borromean.ipynb`.)"
   ]
  },
  {
   "cell_type": "markdown",
   "id": "6b09bf06-d913-4d7b-9b95-8441b10fc422",
   "metadata": {},
   "source": [
    "First, we define a little hack. The characteristic is a linear polynomial in the valuations $v_0, v_1, v_2, \\dots$:\n",
    "\n",
    "$$\\chi^{(2)}(G; -) = - v_1 + 2v_2 -3v_3 + \\dots + C.$$\n",
    "\n",
    "Hence, if we have $(v_0, v_1, v_2, \\dots)$ and $\\chi^{(2)}(G; -)$, we can adjust the value to what it would have been, had we used the _floors_ of the valuations."
   ]
  },
  {
   "cell_type": "code",
   "execution_count": 39,
   "id": "637de287-b1b1-425c-b1ed-ebfc19dfbb86",
   "metadata": {},
   "outputs": [],
   "source": [
    "def characteristic_valuations_floor(char, valuations):\n",
    "    return char + sum((-1)^j * j * (floor(val)-val) for j, val in enumerate(valuations))"
   ]
  },
  {
   "cell_type": "code",
   "execution_count": 43,
   "id": "818e36d2-dccb-4c4a-a678-1851286b6c73",
   "metadata": {
    "scrolled": true
   },
   "outputs": [
    {
     "name": "stdout",
     "output_type": "stream",
     "text": [
      "===== v = (0, 1), n = 4, 2-quotient =====\n",
      "Degrees of Laplacians : [2.0, 8.0, 6.0]\n",
      "Valuations            : [0.0, 1.0, 1.0]\n",
      "Quotient sizes        : [128, 128, 128]\n",
      "Characteristic        : -2.0\n",
      "Structure of L        : {'C2 x ((C4 x C2) : C8)'}\n",
      "===== v = (0, 1), n = 5, 7-quotient =====\n",
      "Degrees of Laplacians : [2.0, 8.0, 6.0]\n",
      "Valuations            : [0.0, 1.0, 1.0]\n",
      "Quotient sizes        : [343, 343, 343]\n",
      "Characteristic        : -2.0\n",
      "Structure of L        : {'C49 x C7'}\n",
      "----------------------------------------\n",
      "Floors of valuations  : [[0, 1, 1], [0, 1, 1]]\n",
      "Characteristics       : [-2, -2]\n",
      "\n",
      "===== v = (1, 1), n = 4, 2-quotient =====\n",
      "Degrees of Laplacians : [6.0, 15.0625, 9.03125]\n",
      "Valuations            : [0.0, 1.46875, 1.48438]\n",
      "Quotient sizes        : [128, 128, 128]\n",
      "Characteristic        : -1.5\n",
      "Structure of L        : {'C2 x ((C4 x C2) : C8)'}\n",
      "===== v = (1, 1), n = 5, 7-quotient =====\n",
      "Degrees of Laplacians : [6.0, 16.0, 10.0]\n",
      "Valuations            : [0.0, 1.0, 1.0]\n",
      "Quotient sizes        : [343, 343, 343]\n",
      "Characteristic        : -2.0\n",
      "Structure of L        : {'C49 x C7'}\n",
      "----------------------------------------\n",
      "Floors of valuations  : [[0, 1, 1], [0, 1, 1]]\n",
      "Characteristics       : [-2, -2]\n",
      "\n",
      "===== v = (1, 0), n = 4, 2-quotient =====\n",
      "Degrees of Laplacians : [4.0, 12.0, 8.0]\n",
      "Valuations            : [0.0, 1.0, 0.0]\n",
      "Quotient sizes        : [128, 128, 128]\n",
      "Characteristic        : -2.0\n",
      "Structure of L        : {'C2 x ((C4 x C2) : C8)'}\n",
      "===== v = (1, 0), n = 5, 7-quotient =====\n",
      "Degrees of Laplacians : [4.0, 12.0, 8.0]\n",
      "Valuations            : [0.0, 1.0, 0.0]\n",
      "Quotient sizes        : [343, 343, 343]\n",
      "Characteristic        : -2.0\n",
      "Structure of L        : {'C49 x C7'}\n",
      "----------------------------------------\n",
      "Floors of valuations  : [[0, 1, 0], [0, 1, 0]]\n",
      "Characteristics       : [-2, -2]\n",
      "\n",
      "===== v = (-1, 1), n = 4, 2-quotient =====\n",
      "Degrees of Laplacians : [1.34375, 8.0, 4.89062]\n",
      "Valuations            : [0.32812, 6.0, 2.55469]\n",
      "Quotient sizes        : [128, 128, 128]\n",
      "Characteristic        : -0.89062\n",
      "Structure of L        : {'C2 x ((C4 x C2) : C8)'}\n",
      "===== v = (-1, 1), n = 5, 7-quotient =====\n",
      "Degrees of Laplacians : [2.0, 7.9242, 5.77259]\n",
      "Valuations            : [0.0, 6.0379, 2.1137]\n",
      "Quotient sizes        : [343, 343, 343]\n",
      "Characteristic        : -1.8105\n",
      "Structure of L        : {'C49 x C7'}\n",
      "----------------------------------------\n",
      "Floors of valuations  : [[0, 6, 2], [0, 6, 2]]\n",
      "Characteristics       : [-2, -2]\n",
      "\n",
      "CPU times: user 1min 24s, sys: 39.9 ms, total: 1min 24s\n",
      "Wall time: 1min 24s\n"
     ]
    }
   ],
   "source": [
    "%%time\n",
    "\n",
    "vs = [(0,1),(1,1),(1,0),(-1,1)]\n",
    "\n",
    "for v in vs:\n",
    "    print(f\"===== v = {v}, n = 4, 2-quotient =====\")\n",
    "    c1 = twisted_l2.characteristic(G, in_basis_B(v), cc, 4, (3,))\n",
    "    logs = twisted_l2.get_twisted_l2_logs()\n",
    "    structures = {l.L.StructureDescription().sage() for l in logs}\n",
    "    vals1 = [l.valuation for l in logs]\n",
    "    print(f\"Structure of L        : {structures}\")\n",
    "    \n",
    "    print(f\"===== v = {v}, n = 5, 7-quotient =====\")\n",
    "    c2 = twisted_l2.characteristic(G, in_basis_B(v), cc, 5, (0,0,0,2))\n",
    "    logs = twisted_l2.get_twisted_l2_logs()\n",
    "    structures = {l.L.StructureDescription().sage() for l in logs}\n",
    "    vals2 = [l.valuation for l in logs]\n",
    "    print(f\"Structure of L        : {structures}\")\n",
    "    \n",
    "    valuations = (vals1, vals2)\n",
    "    chars = (c1, c2)\n",
    "    print(\"-\"*40)\n",
    "    print(f\"Floors of valuations  : {[[floor(val) for val in vals] for vals in valuations]}\")\n",
    "    print(f\"Characteristics       : {[characteristic_valuations_floor(char, vals) for char, vals in zip(chars, valuations)]}\")\n",
    "    print()"
   ]
  },
  {
   "cell_type": "markdown",
   "id": "2d194965-0f82-438e-a384-c7d2e389cd52",
   "metadata": {},
   "source": [
    "All values are consistent (the floors of the valuations stabilize at `n = 4`)."
   ]
  },
  {
   "cell_type": "markdown",
   "id": "2332528b-8434-4422-8f39-32aa06d92abb",
   "metadata": {},
   "source": [
    "## Conclusion"
   ]
  },
  {
   "cell_type": "markdown",
   "id": "3903156f-c29d-41b7-be93-a8f6644739ab",
   "metadata": {},
   "source": [
    "Summary of results:\n",
    "\n",
    "|  v   | $\\chi^{(2)}(G; \\phi)$ |\n",
    "|:---: | ---:|\n",
    "|(0, 1)|  -2 |\n",
    "|(1, 1)|  -2 |\n",
    "|(1, 0)|  -2 |\n",
    "|(-1,1)|  -2 |"
   ]
  },
  {
   "cell_type": "code",
   "execution_count": 6,
   "id": "f018b5b3-9798-4e71-b979-17e1da599a50",
   "metadata": {},
   "outputs": [
    {
     "data": {
      "image/png": "[encoded data removed]",
      "text/plain": [
       "Graphics object consisting of 4 graphics primitives"
      ]
     },
     "metadata": {},
     "output_type": "display_data"
    }
   ],
   "source": [
    "boundary = [(1/2,0),(1/2,1/2),(0,1/2),(-1/2,1/2)]\n",
    "boundary = boundary + [(-a,-b) for a,b in boundary]\n",
    "\n",
    "show(\n",
    "    list_plot(boundary,\n",
    "               aspect_ratio=1, size=50, xmin = -1, xmax = 1, ymin = -1, ymax = 1,\n",
    "               title = \"Thurston seminorm of G\")\n",
    "    + polygon(boundary + boundary[:1], alpha=0.2)\n",
    "    + polygon(boundary + boundary[:1], fill=False)\n",
    "    + line([(0,-1), (0,1)], color=\"red\", thickness=2)\n",
    ")"
   ]
  },
  {
   "cell_type": "markdown",
   "id": "f8e86f7d-7279-4650-a705-3b6aa48cd23d",
   "metadata": {},
   "source": [
    "Both methods give $-2$ as the characteristic of the fibered class $(0,1)$ (in red) corresponding to $G \\twoheadrightarrow \\mathbb Z$.\\\n",
    "This is the _fiber Euler characteristic_, as $\\chi(F_3) = -2$."
   ]
  }
 ],
 "metadata": {
  "kernelspec": {
   "display_name": "SageMath 10.6",
   "language": "sage",
   "name": "sagemath"
  },
  "language_info": {
   "codemirror_mode": {
    "name": "ipython",
    "version": 3
   },
   "file_extension": ".py",
   "mimetype": "text/x-python",
   "name": "python",
   "nbconvert_exporter": "python",
   "pygments_lexer": "ipython3",
   "version": "3.13.5"
  }
 },
 "nbformat": 4,
 "nbformat_minor": 5
}
