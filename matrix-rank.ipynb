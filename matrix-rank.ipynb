{
 "cells": [
  {
   "cell_type": "markdown",
   "id": "727800c2-1ff2-4a60-86a8-19a35c613579",
   "metadata": {},
   "source": [
    "# Convergence of Lück approximation"
   ]
  },
  {
   "cell_type": "markdown",
   "id": "a3c5bd97-433a-476d-92d0-0f924df76ff8",
   "metadata": {},
   "source": [
    "We investigate the convergence of Lück's approximation theorem by computing the von Neumann rank of a \"naturally occurring\" matrix.\\\n",
    "We choose the second differential of a chain complex for the universal cover of the manifold v1539(5,1)."
   ]
  },
  {
   "cell_type": "code",
   "execution_count": 1,
   "id": "9ec69b30-9a91-46b9-a072-2b9e3632ea16",
   "metadata": {},
   "outputs": [
    {
     "name": "stdout",
     "output_type": "stream",
     "text": [
      "\r"
     ]
    }
   ],
   "source": [
    "import twisted_l2\n",
    "import regina\n",
    "import snappy"
   ]
  },
  {
   "cell_type": "markdown",
   "id": "328f216d-361c-42ad-80b5-0351ded2ac1e",
   "metadata": {},
   "source": [
    "## Compute the chain complex of the universal cover:"
   ]
  },
  {
   "cell_type": "code",
   "execution_count": 2,
   "id": "974defa1-91eb-4cfb-a796-da3b5ee4c271",
   "metadata": {
    "tags": []
   },
   "outputs": [
    {
     "data": {
      "text/plain": [
       "true"
      ]
     },
     "execution_count": 2,
     "metadata": {},
     "output_type": "execute_result"
    }
   ],
   "source": [
    "twisted_l2.load_hap()"
   ]
  },
  {
   "cell_type": "code",
   "execution_count": 3,
   "id": "eec90b1b-f8ae-48f9-ae69-7bfd4e7b6c58",
   "metadata": {},
   "outputs": [],
   "source": [
    "mfd = snappy.Manifold(\"v1539(5,1)\")\n",
    "tri = regina.Triangulation3(mfd.filled_triangulation())"
   ]
  },
  {
   "cell_type": "code",
   "execution_count": 4,
   "id": "01fb6b9e-9fa3-45ba-8c5b-280b429a77e4",
   "metadata": {},
   "outputs": [],
   "source": [
    "fl = twisted_l2.regina_tri_to_face_lattice(tri, ideal=False)"
   ]
  },
  {
   "cell_type": "code",
   "execution_count": 5,
   "id": "f6f7e04c-0b38-403d-b73c-8b7acb5c8ffe",
   "metadata": {},
   "outputs": [],
   "source": [
    "cw = twisted_l2.cw_complex(fl)"
   ]
  },
  {
   "cell_type": "code",
   "execution_count": 6,
   "id": "e3ed0670-d087-448b-adfc-f21654df0738",
   "metadata": {},
   "outputs": [
    {
     "name": "stdout",
     "output_type": "stream",
     "text": [
      "Number of cells in each dimension:\n",
      "0: 98\n",
      "1: 674\n",
      "2: 1152\n",
      "3: 576\n"
     ]
    }
   ],
   "source": [
    "number_of_cells = twisted_l2.gap_member(cw, \"nrCells\")\n",
    "print(\"Number of cells in each dimension:\")\n",
    "for j in range(4):\n",
    "    print(f\"{j}: {number_of_cells(j)}\")"
   ]
  },
  {
   "cell_type": "code",
   "execution_count": 7,
   "id": "a939f55f-39b8-4fc6-a9f3-31d086b284ac",
   "metadata": {},
   "outputs": [
    {
     "name": "stdout",
     "output_type": "stream",
     "text": [
      "CPU times: user 113 ms, sys: 307 µs, total: 114 ms\n",
      "Wall time: 113 ms\n"
     ]
    }
   ],
   "source": [
    "%time chain_complex = twisted_l2.equivariant_cc(cw, gap=False)"
   ]
  },
  {
   "cell_type": "code",
   "execution_count": 8,
   "id": "893e3e01-2593-4b64-bd63-a3655b3a95a9",
   "metadata": {},
   "outputs": [
    {
     "data": {
      "text/plain": [
       "[1, 3, 3, 1, 0]"
      ]
     },
     "execution_count": 8,
     "metadata": {},
     "output_type": "execute_result"
    }
   ],
   "source": [
    "[chain_complex.dimension(i) for i in range(5)]"
   ]
  },
  {
   "cell_type": "code",
   "execution_count": 9,
   "id": "ea9f502e-3a6b-4b92-acb5-c2ee27fddb82",
   "metadata": {},
   "outputs": [],
   "source": [
    "G = twisted_l2.get_fundamental_group(chain_complex)"
   ]
  },
  {
   "cell_type": "code",
   "execution_count": 10,
   "id": "ac328f0d-98ab-4c5b-a21a-c782be49177a",
   "metadata": {},
   "outputs": [],
   "source": [
    "cc = twisted_l2.get_differentials(chain_complex)"
   ]
  },
  {
   "cell_type": "markdown",
   "id": "346b0606-272b-483f-acc7-5a1e9301afa8",
   "metadata": {},
   "source": [
    "The variable `chain_complex` wraps a GAP object,\n",
    "while `cc` is simply a list of matrices over the group algebra of `G`. \\\n",
    "Actually, for technical reasons, we use the free group on the generators of `G` instead of `G` itself.\n",
    "\n",
    "The above cell is equivalent to\n",
    "```\n",
    "cc = [twisted_l2.boundary_operator(chain_complex, i, G) for i in range(1, 4)]\n",
    "```"
   ]
  },
  {
   "cell_type": "markdown",
   "id": "257b1597-3490-4329-9e7f-7dbfa0973e21",
   "metadata": {},
   "source": [
    "## Or load precomputed data:"
   ]
  },
  {
   "cell_type": "markdown",
   "id": "4f34a2f1-d39b-453d-8ae1-024e72927b04",
   "metadata": {},
   "source": [
    "We can also save/load the group and chain complex.\\\n",
    "This is useful to deal with non-deterministic results from CW complex simplifications etc."
   ]
  },
  {
   "cell_type": "code",
   "execution_count": 2,
   "id": "02fdc372-2c8f-4fdb-98d0-dbb8a6a0001b",
   "metadata": {
    "tags": []
   },
   "outputs": [],
   "source": [
    "# twisted_l2.save_to_file(\"data/v1539-5-1-3x3-2.json\", group=G, cc=cc)\n",
    "G, cc = twisted_l2.load_from_file(\"data/v1539-5-1-3x3.json\")"
   ]
  },
  {
   "cell_type": "code",
   "execution_count": 3,
   "id": "6506d498-8c45-4437-9614-368c925b0d21",
   "metadata": {
    "tags": []
   },
   "outputs": [
    {
     "data": {
      "text/plain": [
       "Finitely presented group < x0, x1, x2 | (x0^2*x2^-5*x1^-3)^4*x0^2*x1^2, x0^2*x2^-5*x1^-2*x2, x2^9*x0^-3*x1^3*x2^-3 >"
      ]
     },
     "execution_count": 3,
     "metadata": {},
     "output_type": "execute_result"
    }
   ],
   "source": [
    "G"
   ]
  },
  {
   "cell_type": "code",
   "execution_count": 4,
   "id": "4325f8e9-e2bd-4ca8-b17e-ae3a0a330c78",
   "metadata": {
    "tags": []
   },
   "outputs": [],
   "source": [
    "# Choose the desired configuration (see \"configs.py\")\n",
    "twisted_l2.configs.LogOptions.LEVEL = twisted_l2.INFO"
   ]
  },
  {
   "cell_type": "markdown",
   "id": "51dc50d4-d1a3-4dc1-be78-4fe821e94a85",
   "metadata": {},
   "source": [
    "## Now we compute the rank:"
   ]
  },
  {
   "cell_type": "code",
   "execution_count": 5,
   "id": "1fed76bc-a354-41dc-b4a4-be4ac0225aca",
   "metadata": {},
   "outputs": [],
   "source": [
    "A = cc[1]"
   ]
  },
  {
   "cell_type": "markdown",
   "id": "23918d12-b557-4348-a6d2-65d3179114da",
   "metadata": {},
   "source": [
    "This is a $3\\times 3$ matrix."
   ]
  },
  {
   "cell_type": "code",
   "execution_count": 6,
   "id": "8a318ce9-8858-4e00-925d-25bcdaca1c85",
   "metadata": {
    "tags": []
   },
   "outputs": [
    {
     "name": "stdout",
     "output_type": "stream",
     "text": [
      "Size of Fin: 4\n",
      "|L| = 4\n",
      "Constructing matrix over Q[L]...\n",
      "Computing rank...\n",
      "Dimensions of N: (12, 12)\n",
      "Rank: 1.75 (rounds up to 2)\n",
      "CPU times: user 26.3 ms, sys: 3.27 ms, total: 29.6 ms\n",
      "Wall time: 28.8 ms\n"
     ]
    },
    {
     "data": {
      "text/plain": [
       "7/4"
      ]
     },
     "execution_count": 6,
     "metadata": {},
     "output_type": "execute_result"
    }
   ],
   "source": [
    "%time twisted_l2.von_neumann_rank(G, A, (1,))"
   ]
  },
  {
   "cell_type": "code",
   "execution_count": 7,
   "id": "125f4869-b9ca-4e02-807d-ee5502cc33eb",
   "metadata": {
    "tags": []
   },
   "outputs": [
    {
     "name": "stdout",
     "output_type": "stream",
     "text": [
      "Size of Fin: 32\n",
      "|L| = 32\n",
      "Constructing matrix over Q[L]...\n",
      "Computing rank...\n",
      "Dimensions of N: (96, 96)\n",
      "Rank: 1.96875 (rounds up to 2)\n",
      "CPU times: user 68 ms, sys: 9.06 ms, total: 77.1 ms\n",
      "Wall time: 76.3 ms\n"
     ]
    },
    {
     "data": {
      "text/plain": [
       "63/32"
      ]
     },
     "execution_count": 7,
     "metadata": {},
     "output_type": "execute_result"
    }
   ],
   "source": [
    "%time twisted_l2.von_neumann_rank(G, A, (2,))"
   ]
  },
  {
   "cell_type": "code",
   "execution_count": 8,
   "id": "fab3a17c-0485-425a-84de-f0e284181124",
   "metadata": {
    "tags": []
   },
   "outputs": [
    {
     "name": "stdout",
     "output_type": "stream",
     "text": [
      "Size of Fin: 9\n",
      "|L| = 9\n",
      "Constructing matrix over Q[L]...\n",
      "Computing rank...\n",
      "Dimensions of N: (27, 27)\n",
      "Rank: 1.888888888888889 (rounds up to 2)\n",
      "CPU times: user 11.1 ms, sys: 2.96 ms, total: 14.1 ms\n",
      "Wall time: 14.2 ms\n"
     ]
    },
    {
     "data": {
      "text/plain": [
       "17/9"
      ]
     },
     "execution_count": 8,
     "metadata": {},
     "output_type": "execute_result"
    }
   ],
   "source": [
    "%time twisted_l2.von_neumann_rank(G, A, (0,1))"
   ]
  },
  {
   "cell_type": "code",
   "execution_count": 9,
   "id": "1daf0cd2-2b98-4d6f-9b7e-17ac176c53e6",
   "metadata": {
    "tags": []
   },
   "outputs": [
    {
     "name": "stdout",
     "output_type": "stream",
     "text": [
      "Size of Fin: 36\n",
      "|L| = 36\n",
      "Constructing matrix over Q[L]...\n",
      "Computing rank...\n",
      "Dimensions of N: (108, 108)\n",
      "Rank: 1.861111111111111 (rounds up to 2)\n",
      "CPU times: user 25.6 ms, sys: 5.92 ms, total: 31.5 ms\n",
      "Wall time: 31 ms\n"
     ]
    },
    {
     "data": {
      "text/plain": [
       "67/36"
      ]
     },
     "execution_count": 9,
     "metadata": {},
     "output_type": "execute_result"
    }
   ],
   "source": [
    "%time twisted_l2.von_neumann_rank(G, A, (1,1))"
   ]
  },
  {
   "cell_type": "code",
   "execution_count": 10,
   "id": "48fd429a-ece1-4ba8-b265-78dc6d5a1db9",
   "metadata": {
    "tags": []
   },
   "outputs": [
    {
     "name": "stdout",
     "output_type": "stream",
     "text": [
      "Size of Fin: 243\n",
      "|L| = 243\n",
      "Constructing matrix over Q[L]...\n",
      "Computing rank...\n",
      "Dimensions of N: (729, 729)\n",
      "Rank: 1.995884773662551 (rounds up to 2)\n",
      "CPU times: user 509 ms, sys: 3.58 ms, total: 512 ms\n",
      "Wall time: 512 ms\n"
     ]
    },
    {
     "data": {
      "text/plain": [
       "485/243"
      ]
     },
     "execution_count": 10,
     "metadata": {},
     "output_type": "execute_result"
    }
   ],
   "source": [
    "%time twisted_l2.von_neumann_rank(G, A, (0,2))"
   ]
  },
  {
   "cell_type": "code",
   "execution_count": 11,
   "id": "31559be5-4f45-4cb5-84af-075e23c37006",
   "metadata": {
    "tags": []
   },
   "outputs": [
    {
     "name": "stdout",
     "output_type": "stream",
     "text": [
      "Size of Fin: 25\n",
      "|L| = 25\n",
      "Constructing matrix over Q[L]...\n",
      "Computing rank...\n",
      "Dimensions of N: (75, 75)\n",
      "Rank: 1.64 (rounds up to 2)\n",
      "CPU times: user 25.7 ms, sys: 3.59 ms, total: 29.3 ms\n",
      "Wall time: 28.8 ms\n"
     ]
    },
    {
     "data": {
      "text/plain": [
       "41/25"
      ]
     },
     "execution_count": 11,
     "metadata": {},
     "output_type": "execute_result"
    }
   ],
   "source": [
    "%time twisted_l2.von_neumann_rank(G, A, (0,0,1))"
   ]
  },
  {
   "cell_type": "code",
   "execution_count": 12,
   "id": "a483d272-13aa-453a-9dff-183f1c6a7706",
   "metadata": {
    "tags": []
   },
   "outputs": [
    {
     "name": "stdout",
     "output_type": "stream",
     "text": [
      "Size of Fin: 3125\n",
      "|L| = 3125\n",
      "Constructing matrix over Q[L]...\n",
      "Computing rank...\n",
      "Dimensions of N: (9375, 9375)\n",
      "Rank: 1.99072 (rounds up to 2)\n",
      "CPU times: user 1min 42s, sys: 187 ms, total: 1min 42s\n",
      "Wall time: 1min 42s\n"
     ]
    },
    {
     "data": {
      "text/plain": [
       "6221/3125"
      ]
     },
     "execution_count": 12,
     "metadata": {},
     "output_type": "execute_result"
    }
   ],
   "source": [
    "%time twisted_l2.von_neumann_rank(G, A, (0,0,2))"
   ]
  },
  {
   "cell_type": "code",
   "execution_count": 13,
   "id": "fd627ab2-9dc8-4568-b1df-be9babcd77f8",
   "metadata": {
    "tags": []
   },
   "outputs": [
    {
     "name": "stdout",
     "output_type": "stream",
     "text": [
      "Size of Fin: 49\n",
      "|L| = 49\n",
      "Constructing matrix over Q[L]...\n",
      "Computing rank...\n",
      "Dimensions of N: (147, 147)\n",
      "Rank: 1.979591836734694 (rounds up to 2)\n",
      "CPU times: user 29.8 ms, sys: 3.31 ms, total: 33.1 ms\n",
      "Wall time: 32.8 ms\n"
     ]
    },
    {
     "data": {
      "text/plain": [
       "97/49"
      ]
     },
     "execution_count": 13,
     "metadata": {},
     "output_type": "execute_result"
    }
   ],
   "source": [
    "%time twisted_l2.von_neumann_rank(G, A, (0,0,0,1))"
   ]
  },
  {
   "cell_type": "code",
   "execution_count": 14,
   "id": "c51cae99-7663-4b58-b4c0-e53a69efcc01",
   "metadata": {
    "tags": []
   },
   "outputs": [
    {
     "name": "stdout",
     "output_type": "stream",
     "text": [
      "Size of Fin: 121\n",
      "|L| = 121\n",
      "Constructing matrix over Q[L]...\n",
      "Computing rank...\n",
      "Dimensions of N: (363, 363)\n",
      "Rank: 1.991735537190083 (rounds up to 2)\n",
      "CPU times: user 129 ms, sys: 11 µs, total: 129 ms\n",
      "Wall time: 129 ms\n"
     ]
    },
    {
     "data": {
      "text/plain": [
       "241/121"
      ]
     },
     "execution_count": 14,
     "metadata": {},
     "output_type": "execute_result"
    }
   ],
   "source": [
    "%time twisted_l2.von_neumann_rank(G, A, (0,0,0,0,1))"
   ]
  },
  {
   "cell_type": "code",
   "execution_count": 15,
   "id": "9cd57fd1-f043-487f-a586-17cddd13d860",
   "metadata": {
    "tags": []
   },
   "outputs": [
    {
     "name": "stdout",
     "output_type": "stream",
     "text": [
      "Size of Fin: 169\n",
      "|L| = 169\n",
      "Constructing matrix over Q[L]...\n",
      "Computing rank...\n",
      "Dimensions of N: (507, 507)\n",
      "Rank: 1.994082840236686 (rounds up to 2)\n",
      "CPU times: user 213 ms, sys: 6.62 ms, total: 219 ms\n",
      "Wall time: 219 ms\n"
     ]
    },
    {
     "data": {
      "text/plain": [
       "337/169"
      ]
     },
     "execution_count": 15,
     "metadata": {},
     "output_type": "execute_result"
    }
   ],
   "source": [
    "%time twisted_l2.von_neumann_rank(G, A, (0,0,0,0,0,1))"
   ]
  },
  {
   "cell_type": "code",
   "execution_count": 16,
   "id": "09175cfc-1c71-43f8-8137-f494c52e0992",
   "metadata": {
    "tags": []
   },
   "outputs": [
    {
     "name": "stdout",
     "output_type": "stream",
     "text": [
      "Size of Fin: 289\n",
      "|L| = 289\n",
      "Constructing matrix over Q[L]...\n",
      "Computing rank...\n",
      "Dimensions of N: (867, 867)\n",
      "Rank: 1.996539792387543 (rounds up to 2)\n",
      "CPU times: user 627 ms, sys: 3.32 ms, total: 631 ms\n",
      "Wall time: 631 ms\n"
     ]
    },
    {
     "data": {
      "text/plain": [
       "577/289"
      ]
     },
     "execution_count": 16,
     "metadata": {},
     "output_type": "execute_result"
    }
   ],
   "source": [
    "%time twisted_l2.von_neumann_rank(G, A, (0,0,0,0,0,0,1))"
   ]
  },
  {
   "cell_type": "code",
   "execution_count": 17,
   "id": "28073f0b-ae28-480f-8023-6de882dd8718",
   "metadata": {
    "tags": []
   },
   "outputs": [
    {
     "name": "stdout",
     "output_type": "stream",
     "text": [
      "Size of Fin: 900\n",
      "|L| = 900\n",
      "Constructing matrix over Q[L]...\n",
      "Computing rank...\n",
      "Dimensions of N: (2700, 2700)\n",
      "Rank: 1.985555555555556 (rounds up to 2)\n",
      "CPU times: user 5.58 s, sys: 16 µs, total: 5.58 s\n",
      "Wall time: 5.59 s\n"
     ]
    },
    {
     "data": {
      "text/plain": [
       "1787/900"
      ]
     },
     "execution_count": 17,
     "metadata": {},
     "output_type": "execute_result"
    }
   ],
   "source": [
    "%time twisted_l2.von_neumann_rank(G, A, (1,1,1))"
   ]
  },
  {
   "cell_type": "code",
   "execution_count": 18,
   "id": "b306999a-f81d-4da3-8f2c-49e0ac5c7d33",
   "metadata": {
    "tags": []
   },
   "outputs": [
    {
     "name": "stdout",
     "output_type": "stream",
     "text": [
      "Size of Fin: 441\n",
      "|L| = 441\n",
      "Constructing matrix over Q[L]...\n",
      "Computing rank...\n",
      "Dimensions of N: (1323, 1323)\n",
      "Rank: 1.997732426303855 (rounds up to 2)\n",
      "CPU times: user 1.29 s, sys: 3.31 ms, total: 1.29 s\n",
      "Wall time: 1.29 s\n"
     ]
    },
    {
     "data": {
      "text/plain": [
       "881/441"
      ]
     },
     "execution_count": 18,
     "metadata": {},
     "output_type": "execute_result"
    }
   ],
   "source": [
    "%time twisted_l2.von_neumann_rank(G, A, (0,1,0,1))"
   ]
  },
  {
   "cell_type": "markdown",
   "id": "c7afcd50-878c-4f82-9ba6-9a28e368fc30",
   "metadata": {},
   "source": [
    "| `exps`         | $|L|$ | Rank   | Time (ms) | $|L| \\cdot$ error |\n",
    "| :---           | ---:  | :---   | ---:      | ---: |\n",
    "|(1)             | 4    | 1.75    | 29     | 1  | \n",
    "|(2)             | 32   | 1.96875 | 76     | 1  |\n",
    "|(0,1)           | 9    | 1.88889 | 14     | 1  |\n",
    "|(1,1)           | 36   | 1.86111 | 31     | 5  |\n",
    "|(0,2)           | 243  | 1.99588 | 512    | 1  |\n",
    "|(0,0,1)         | 25   | 1.64    | 29     | 9  |\n",
    "|(0,0,2)         | 3125 | 1.99072 | 102000 | 29 |\n",
    "|(0,0,0,1)       | 49   | 1.97959 | 33     | 1  |\n",
    "|(0,0,0,0,1)     | 121  | 1.99174 | 129    | 1  |\n",
    "|(0,0,0,0,0,1)   | 169  | 1.99408 | 219    | 1  |\n",
    "|(0,0,0,0,0,0,1) | 289  | 1.99654 | 631    | 1  |\n",
    "|(1,1,1)         | 900  | 1.98556 | 5590   | 13 |\n",
    "|(0,1,0,1)       | 441  | 1.99773 | 1290   | 1  |"
   ]
  },
  {
   "cell_type": "markdown",
   "id": "32533267-51b7-4372-9a29-9ccea92ba2a8",
   "metadata": {},
   "source": [
    "Since the chain complex is $L^2$-acyclic and has dimensions $(1,3,3,1)$, we know that the true value of the rank is $2$.\n",
    "\n",
    "In general, the error is inversely proportional to the size of the finite quotient.\\\n",
    "However, the coefficient worsens when the quotient involves a $5$-group or when it is a product of several $p$-groups.\\\n",
    "It is advisable to try out class-$1$ $p$-quotients to find _special_ primes (in this case, $5$) quickly,\n",
    "and avoid them unless absolutely necessary."
   ]
  },
  {
   "cell_type": "markdown",
   "id": "934def8d-0f4e-4364-8cc7-bdb458b1da27",
   "metadata": {
    "tags": []
   },
   "source": [
    "The running time depends strongly on $|L|$, due to the rank computation, with exponent $$\\frac{\\log(102000/5590)}{\\log(3125/900)}.$$"
   ]
  },
  {
   "cell_type": "code",
   "execution_count": 20,
   "id": "fe136605-b94b-471a-b3c6-5d96606038d9",
   "metadata": {
    "tags": []
   },
   "outputs": [
    {
     "data": {
      "text/plain": [
       "2.33290943118416"
      ]
     },
     "execution_count": 20,
     "metadata": {},
     "output_type": "execute_result"
    }
   ],
   "source": [
    "(log(102000/5590) / log(3125/900)).n()"
   ]
  },
  {
   "cell_type": "markdown",
   "id": "7eb3501c-daf1-4e6e-a945-b572d1ecebdf",
   "metadata": {},
   "source": [
    "This value is consistent with the superquadratic complexity of matrix rank."
   ]
  }
 ],
 "metadata": {
  "kernelspec": {
   "display_name": "SageMath 10.3",
   "language": "sage",
   "name": "sagemath"
  },
  "language_info": {
   "codemirror_mode": {
    "name": "ipython",
    "version": 3
   },
   "file_extension": ".py",
   "mimetype": "text/x-python",
   "name": "python",
   "nbconvert_exporter": "python",
   "pygments_lexer": "ipython3",
   "version": "3.12.3"
  }
 },
 "nbformat": 4,
 "nbformat_minor": 5
}
