{
 "cells": [
  {
   "cell_type": "markdown",
   "id": "0990b076-05ac-48cb-a06d-91576b0fa4ed",
   "metadata": {},
   "source": [
    "# An aspherical $5$-manifold: $S_2 \\times \\text{m160(3,1)}$"
   ]
  },
  {
   "cell_type": "code",
   "execution_count": 1,
   "id": "9530f242-bd98-42e7-abd5-f2500b920a0b",
   "metadata": {},
   "outputs": [
    {
     "name": "stdout",
     "output_type": "stream",
     "text": [
      "\r"
     ]
    }
   ],
   "source": [
    "import twisted_l2\n",
    "import regina\n",
    "import snappy"
   ]
  },
  {
   "cell_type": "code",
   "execution_count": 2,
   "id": "165c9528-e218-4e35-855f-4fa25612c299",
   "metadata": {},
   "outputs": [],
   "source": [
    "mfd = snappy.Manifold(\"m160(3,1)\")\n",
    "m160_tri = regina.Triangulation3(mfd.filled_triangulation())"
   ]
  },
  {
   "cell_type": "code",
   "execution_count": 3,
   "id": "630211c4-8bb1-47ac-b07a-5c4ea68d5c34",
   "metadata": {},
   "outputs": [],
   "source": [
    "s2_fl = twisted_l2.surface_face_lattice(2)"
   ]
  },
  {
   "cell_type": "code",
   "execution_count": 4,
   "id": "e3f97003-a254-4379-80ba-fc5d479405b1",
   "metadata": {},
   "outputs": [],
   "source": [
    "m160_fl = twisted_l2.regina_tri_to_face_lattice(m160_tri, ideal=False)"
   ]
  },
  {
   "cell_type": "code",
   "execution_count": 5,
   "id": "1baf549e-4c2b-40e9-af47-631630abe17f",
   "metadata": {
    "tags": []
   },
   "outputs": [
    {
     "data": {
      "text/plain": [
       "true"
      ]
     },
     "execution_count": 5,
     "metadata": {},
     "output_type": "execute_result"
    }
   ],
   "source": [
    "twisted_l2.load_hap()"
   ]
  },
  {
   "cell_type": "code",
   "execution_count": 6,
   "id": "93612d5a-1a01-4c1c-be93-f4dedabd5451",
   "metadata": {},
   "outputs": [],
   "source": [
    "s2 = twisted_l2.cw_complex(s2_fl)\n",
    "m160 = twisted_l2.cw_complex(m160_fl)"
   ]
  },
  {
   "cell_type": "code",
   "execution_count": 7,
   "id": "a94baa01-ed22-4e2d-a0c3-59c277bdfd38",
   "metadata": {},
   "outputs": [],
   "source": [
    "m5 = libgap.DirectProduct(s2, m160)"
   ]
  },
  {
   "cell_type": "code",
   "execution_count": 8,
   "id": "f1c11488-568f-49c0-810f-09a7224269bb",
   "metadata": {},
   "outputs": [
    {
     "data": {
      "text/plain": [
       "[324, 3060, 10032, 14784, 9984, 2496]"
      ]
     },
     "execution_count": 8,
     "metadata": {},
     "output_type": "execute_result"
    }
   ],
   "source": [
    "[twisted_l2.gap_member(m5, \"nrCells\")(j) for j in range(6)]"
   ]
  },
  {
   "cell_type": "code",
   "execution_count": 9,
   "id": "8273405d-f6cb-43a3-a72d-646be800819b",
   "metadata": {},
   "outputs": [
    {
     "data": {
      "text/plain": [
       "[6, 16, 8, 0, 0, 0]"
      ]
     },
     "execution_count": 9,
     "metadata": {},
     "output_type": "execute_result"
    }
   ],
   "source": [
    "[twisted_l2.gap_member(s2, \"nrCells\")(j) for j in range(6)]"
   ]
  },
  {
   "cell_type": "code",
   "execution_count": 10,
   "id": "15da216b-e772-456d-a48b-4c55b611919e",
   "metadata": {},
   "outputs": [
    {
     "data": {
      "text/plain": [
       "[54, 366, 624, 312, 0, 0]"
      ]
     },
     "execution_count": 10,
     "metadata": {},
     "output_type": "execute_result"
    }
   ],
   "source": [
    "[twisted_l2.gap_member(m160, \"nrCells\")(j) for j in range(6)]"
   ]
  },
  {
   "cell_type": "code",
   "execution_count": 11,
   "id": "1d2154d6-3350-4b62-82fb-b10f1ac01a08",
   "metadata": {},
   "outputs": [
    {
     "data": {
      "text/plain": [
       "[324, 3060, 10032, 14784, 9984, 2496]"
      ]
     },
     "execution_count": 11,
     "metadata": {},
     "output_type": "execute_result"
    }
   ],
   "source": [
    "[twisted_l2.gap_member(m5, \"nrCells\")(j) for j in range(6)]"
   ]
  },
  {
   "cell_type": "markdown",
   "id": "05f7fa90-ee80-47f0-8587-251ac8917b3c",
   "metadata": {},
   "source": [
    "## The fiber of m160(3,1)"
   ]
  },
  {
   "cell_type": "markdown",
   "id": "dbf757a6-345c-4155-a741-e75fa7ec39dd",
   "metadata": {},
   "source": [
    "From \"_Fibred and Virtually Fibred Hyperbolic 3-Manifolds in the Censuses_\" by J. O. Button,\\\n",
    "we know that m160(3,1) is a fibered closed hyperbolic 3-manifold with first Betti number $1$ (see also `betti-numbers-F.ipynb`).\\\n",
    "If $F$ is the fiber, then $S_2 \\times F$ is the fiber of m5."
   ]
  },
  {
   "cell_type": "markdown",
   "id": "4392bef5-43e3-46ae-a908-10c161dc05b1",
   "metadata": {},
   "source": [
    "We will show:\n",
    "- $F$ has Alexander polynomial of degree $4$\n",
    "- hence, $F$ has genus $2$\n",
    "- hence, $\\chi(F) = -2$\n",
    "- hence, $\\chi(S_2 \\times F) = 4$"
   ]
  },
  {
   "cell_type": "code",
   "execution_count": 53,
   "id": "c0103350-a022-46cf-a42e-66619765838f",
   "metadata": {},
   "outputs": [],
   "source": [
    "from sage.groups.finitely_presented import wrap_FpGroup"
   ]
  },
  {
   "cell_type": "code",
   "execution_count": 54,
   "id": "ad8ea063-e801-47e3-b759-8f282c011bce",
   "metadata": {},
   "outputs": [],
   "source": [
    "G_m160 = wrap_FpGroup(libgap.FundamentalGroup(m160))"
   ]
  },
  {
   "cell_type": "code",
   "execution_count": 64,
   "id": "4d10ba0b-b819-4190-ba44-233a3fae7c43",
   "metadata": {},
   "outputs": [
    {
     "data": {
      "text/plain": [
       "Group morphism:\n",
       "  From: Finitely presented group < f1, f3 | f3*f1*(f3^-1*(f1^-1*f3)^3*f1^-1*f3^-1)^2*f1, (f3^-1*f1^-1)^2*f3*((f1^-1*f3)^2*f1^-1)^3*f3*f1^-1 >\n",
       "  To:   Finitely presented group < f1, f2 | f1^3, f2^-1*f1^-1*f2*f1 >"
      ]
     },
     "execution_count": 64,
     "metadata": {},
     "output_type": "execute_result"
    }
   ],
   "source": [
    "ab_m160 = G_m160.abelianization_map(); ab_m160"
   ]
  },
  {
   "cell_type": "code",
   "execution_count": 66,
   "id": "2ed3dcfd-92d8-4a80-bd9d-93dced708e02",
   "metadata": {},
   "outputs": [
    {
     "data": {
      "text/plain": [
       "[f2, f1^2*f2^2]"
      ]
     },
     "execution_count": 66,
     "metadata": {},
     "output_type": "execute_result"
    }
   ],
   "source": [
    "[ab_m160(g) for g in G_m160.gens()]"
   ]
  },
  {
   "cell_type": "code",
   "execution_count": 71,
   "id": "128156ab-9eef-40dc-be07-7c1d0b773fed",
   "metadata": {
    "collapsed": true,
    "jupyter": {
     "outputs_hidden": true
    }
   },
   "outputs": [
    {
     "data": {
      "text/plain": [
       "(t^4 - t^3 + 3*t^2 - t + 1)/t^6"
      ]
     },
     "execution_count": 71,
     "metadata": {},
     "output_type": "execute_result"
    }
   ],
   "source": [
    "R.<t> = PolynomialRing(QQ)\n",
    "am = G_m160.alexander_matrix(im_gens=[t, t^2]) \n",
    "gcd(am.minors(1))"
   ]
  },
  {
   "cell_type": "markdown",
   "id": "760e00c0-76b4-413a-b04f-0a10686b7d93",
   "metadata": {},
   "source": [
    "As we wanted, the degree is $4$."
   ]
  },
  {
   "cell_type": "markdown",
   "id": "dfc03eb4-9910-4e70-af6f-71d3996ff64a",
   "metadata": {},
   "source": [
    "## Identifying the class of the fiber in $\\mathrm{Hom}(G; \\mathbb Z)$"
   ]
  },
  {
   "cell_type": "code",
   "execution_count": 13,
   "id": "3fea1a25-74de-4d4f-a49a-4061277211ea",
   "metadata": {},
   "outputs": [
    {
     "name": "stdout",
     "output_type": "stream",
     "text": [
      "CPU times: user 6.28 s, sys: 65.8 ms, total: 6.34 s\n",
      "Wall time: 6.27 s\n"
     ]
    }
   ],
   "source": [
    "%time chain_complex = twisted_l2.equivariant_cc(m5)"
   ]
  },
  {
   "cell_type": "code",
   "execution_count": 14,
   "id": "084686d2-4f6c-4aef-bbbc-03772fd8d4a5",
   "metadata": {},
   "outputs": [],
   "source": [
    "G = chain_complex.group"
   ]
  },
  {
   "cell_type": "code",
   "execution_count": 15,
   "id": "eb30aa8b-73e5-4a44-8302-af0184e2b768",
   "metadata": {
    "tags": []
   },
   "outputs": [
    {
     "data": {
      "text/plain": [
       "[ 0, 0, 0, 0, 0, 3 ]"
      ]
     },
     "execution_count": 15,
     "metadata": {},
     "output_type": "execute_result"
    }
   ],
   "source": [
    "G.AbelianInvariants()"
   ]
  },
  {
   "cell_type": "code",
   "execution_count": 16,
   "id": "1a297e4d-623a-4e4a-ad41-f324f01f634f",
   "metadata": {},
   "outputs": [],
   "source": [
    "ab = G.MaximalAbelianQuotient()"
   ]
  },
  {
   "cell_type": "code",
   "execution_count": 17,
   "id": "600ba291-06aa-4665-bc3b-fab7e4099788",
   "metadata": {},
   "outputs": [
    {
     "data": {
      "text/plain": [
       "<fp group of size infinity on the generators [ f1, f2, f3, f4, f5, f6 ]>"
      ]
     },
     "execution_count": 17,
     "metadata": {},
     "output_type": "execute_result"
    }
   ],
   "source": [
    "ab.Image()"
   ]
  },
  {
   "cell_type": "code",
   "execution_count": 18,
   "id": "722fcb67-8393-4408-8b6e-766f0711bba2",
   "metadata": {},
   "outputs": [
    {
     "data": {
      "text/plain": [
       "[ f1^3, f2^-1*f1^-1*f2*f1, f3^-1*f1^-1*f3*f1, f3^-1*f2^-1*f3*f2, f4^-1*f1^-1*f4*f1, f4^-1*f2^-1*f4*f2, f4^-1*f3^-1*f4*f3, f5^-1*f1^-1*f5*f1, f5^-1*f2^-1*f5*f2, f5^-1*f3^-1*f5*f3, f5^-1*f4^-1*f5*f4, f6^-1*f1^-1*f6*f1, f6^-1*f2^-1*f6*f2, f6^-1*f3^-1*f6*f3, f6^-1*f4^-1*f6*f4, f6^-1*f5^-1*f6*f5 ]"
      ]
     },
     "execution_count": 18,
     "metadata": {},
     "output_type": "execute_result"
    }
   ],
   "source": [
    "ab.Image().RelatorsOfFpGroup()"
   ]
  },
  {
   "cell_type": "markdown",
   "id": "d1df6970-b04a-4e17-b18f-539ae8944967",
   "metadata": {},
   "source": [
    "This result is **non-deterministic**. In general, the last $\\mathrm{rk}(G)$ generators (\\*) will generate a free abelian subgroup\\\n",
    "and the others will generate the torsion subgroup. Here is how to extract the free abelian generators without assuming (\\*):"
   ]
  },
  {
   "cell_type": "code",
   "execution_count": 31,
   "id": "fb324e34-dd41-4efb-ba76-3b1f446e529c",
   "metadata": {},
   "outputs": [
    {
     "data": {
      "text/plain": [
       "{2: 0, 3: 1, 4: 2, 5: 3, 6: 4}"
      ]
     },
     "execution_count": 31,
     "metadata": {},
     "output_type": "execute_result"
    }
   ],
   "source": [
    "tors_ab_gen = {abs(j) for rel in ab.Image().RelatorsOfFpGroup()\n",
    "                        for word in (rel.LetterRepAssocWord().sage(),) # cache the Tietze word \n",
    "                        for j in word                                  # to avoid calling GAP every time\n",
    "                        if len(set(word)) != 4} # discard the commutators\n",
    "free_ab_gen = {j for j in range(1,len(ab.Image().GeneratorsOfGroup())+1) if j not in tors_ab_gen}\n",
    "G_to_Z5 = {g: j for j, g in enumerate(sorted(free_ab_gen))}\n",
    "G_to_Z5"
   ]
  },
  {
   "cell_type": "code",
   "execution_count": 24,
   "id": "274f0a53-5e7f-47a6-8585-5c406555d992",
   "metadata": {},
   "outputs": [
    {
     "data": {
      "text/plain": [
       "3060"
      ]
     },
     "execution_count": 24,
     "metadata": {},
     "output_type": "execute_result"
    }
   ],
   "source": [
    "num_edges = twisted_l2.gap_member(m5, \"nrCells\")(1); num_edges"
   ]
  },
  {
   "cell_type": "code",
   "execution_count": 25,
   "id": "bba78371-e034-47cf-a002-630141aea6dc",
   "metadata": {},
   "outputs": [],
   "source": [
    "edge_to_word = twisted_l2.gap_member(G, \"edgeToWord\")"
   ]
  },
  {
   "cell_type": "code",
   "execution_count": 34,
   "id": "9e4493c4-3a85-462f-bbd1-66bc50cf82c7",
   "metadata": {},
   "outputs": [],
   "source": [
    "edge_words = [ab.Image(edge_to_word(x)).UnderlyingElement().LetterRepAssocWord().sage() for x in range(1, num_edges+1)]"
   ]
  },
  {
   "cell_type": "code",
   "execution_count": 37,
   "id": "7fa16c12-09fc-4763-84f6-b5dc7caaa4c8",
   "metadata": {},
   "outputs": [],
   "source": [
    "def word_to_tuple(w):\n",
    "    t = [0,0,0,0,0]\n",
    "    for j in w:\n",
    "        if abs(j) in G_to_Z5:\n",
    "            t[G_to_Z5[abs(j)]] += sign(j)\n",
    "    return tuple(t)"
   ]
  },
  {
   "cell_type": "code",
   "execution_count": 38,
   "id": "8fa3b53c-1475-43f2-ae53-d029994ae0eb",
   "metadata": {},
   "outputs": [],
   "source": [
    "edge_coords = [word_to_tuple(w) for w in edge_words]"
   ]
  },
  {
   "cell_type": "markdown",
   "id": "02fdb04f-c3c7-4bca-b94c-24fd026061fb",
   "metadata": {},
   "source": [
    "The following set appears to be the same across different runs.\\\n",
    "We assume it is so, because GAP internals are hard to save to a file in a robust way (no `pickle`)."
   ]
  },
  {
   "cell_type": "code",
   "execution_count": 44,
   "id": "da2ad14c-65bd-483d-99b7-f35f1bf1054b",
   "metadata": {},
   "outputs": [
    {
     "data": {
      "text/plain": [
       "[(-3, 0, 0, 0, 0),\n",
       " (-2, 0, 0, 0, 0),\n",
       " (-1, 0, 0, 0, 0),\n",
       " (0, -1, 1, 0, 0),\n",
       " (0, 0, 0, -1, 1),\n",
       " (0, 0, 0, 0, 0),\n",
       " (0, 0, 0, 0, 1),\n",
       " (0, 0, 0, 1, 0),\n",
       " (0, 0, 1, 0, 0),\n",
       " (0, 1, 0, 0, 0),\n",
       " (1, 0, 0, 0, 0),\n",
       " (2, 0, 0, 0, 0),\n",
       " (3, 0, 0, 0, 0)]"
      ]
     },
     "execution_count": 44,
     "metadata": {},
     "output_type": "execute_result"
    }
   ],
   "source": [
    "sorted(set(edge_coords))"
   ]
  },
  {
   "cell_type": "code",
   "execution_count": 47,
   "id": "49d048b8-fab8-4395-8e40-1ef3c5ccfc62",
   "metadata": {},
   "outputs": [],
   "source": [
    "def e5_to_e3(e5):\n",
    "    \"\"\"Maps an edge in the direct product to the corresponding edge in the m160(3,1)\"\"\"\n",
    "    q = twisted_l2.gap_member(m5, \"pair2quad\")[1][e5].sage()\n",
    "    i,j,x,y = q[0]-1, q[1]-1, q[2]-1, q[3]-1\n",
    "    # These four numbers are:\n",
    "    #     - i: dimension of the projection onto s2   (0 or 1)\n",
    "    #     - j: dimension of the projection onto m160 (0 or 1)\n",
    "    #     - x: edge of s2   (if i == 1)\n",
    "    #     - y: edge of m160 (if j == 1)\n",
    "    if i == 0:\n",
    "        return y\n",
    "    return None"
   ]
  },
  {
   "cell_type": "markdown",
   "id": "6be4d951-b9e2-4ea7-b8db-2dcba2d10c70",
   "metadata": {},
   "source": [
    "Here we find all words associated to edges of the form $e\\times \\{p\\}$ (where $p$ is a point of m160(3,1) and $e$ is an edge of $S_2$)."
   ]
  },
  {
   "cell_type": "code",
   "execution_count": 48,
   "id": "9ceaea01-c65c-4303-8b9b-fa8fb2333c5a",
   "metadata": {},
   "outputs": [],
   "source": [
    "s2_edges = set()\n",
    "for j, tup in enumerate(edge_coords):\n",
    "    e3 = e5_to_e3(j)\n",
    "    if e3 is None:\n",
    "        s2_edges.add(tup)"
   ]
  },
  {
   "cell_type": "code",
   "execution_count": 49,
   "id": "56001e1a-07f4-4fdd-91b4-ee635b2d5924",
   "metadata": {},
   "outputs": [
    {
     "data": {
      "text/plain": [
       "7"
      ]
     },
     "execution_count": 49,
     "metadata": {},
     "output_type": "execute_result"
    }
   ],
   "source": [
    "len(s2_edges)"
   ]
  },
  {
   "cell_type": "code",
   "execution_count": 50,
   "id": "a77bc201-b792-421b-98bf-9e527553e83e",
   "metadata": {},
   "outputs": [
    {
     "data": {
      "text/plain": [
       "{(0, -1, 1, 0, 0),\n",
       " (0, 0, 0, -1, 1),\n",
       " (0, 0, 0, 0, 0),\n",
       " (0, 0, 0, 0, 1),\n",
       " (0, 0, 0, 1, 0),\n",
       " (0, 0, 1, 0, 0),\n",
       " (0, 1, 0, 0, 0)}"
      ]
     },
     "execution_count": 50,
     "metadata": {},
     "output_type": "execute_result"
    }
   ],
   "source": [
    "s2_edges"
   ]
  },
  {
   "cell_type": "markdown",
   "id": "3fbd5ae6-c7ee-43cd-99fd-9d838fc07300",
   "metadata": {},
   "source": [
    "Fix a point $p$ in m160(3,1). Since both the class of the fiber in `m5` and the cohomology class `(1,0,0,0,0)` kill every _loop_ in $S_2\\times\\{p\\}$, they are equal.\\\n",
    "Therefore, we predict that our program will give $\\chi(S_2\\times F) = -4$ as the twisted $L^2$-Euler characteristic of `(1,0,0,0,0)`."
   ]
  },
  {
   "cell_type": "markdown",
   "id": "dc9c178b-6863-4e55-b903-acd541a9b9a0",
   "metadata": {},
   "source": [
    "## Computation for v = (1,0,0,0,0)"
   ]
  },
  {
   "cell_type": "code",
   "execution_count": 72,
   "id": "be6aacfe-b562-4e73-87e6-315b3a0e9fb6",
   "metadata": {},
   "outputs": [
    {
     "name": "stdout",
     "output_type": "stream",
     "text": [
      "CPU times: user 1.8 s, sys: 6.73 ms, total: 1.81 s\n",
      "Wall time: 1.82 s\n"
     ]
    }
   ],
   "source": [
    "%time cc = twisted_l2.get_differentials(chain_complex)"
   ]
  },
  {
   "cell_type": "markdown",
   "id": "74d953a1-259c-4b63-8aa9-b6d13180fd4a",
   "metadata": {},
   "source": [
    "Here we can load a precomputed chain complex:"
   ]
  },
  {
   "cell_type": "code",
   "execution_count": 89,
   "id": "5a325208-a9c4-477b-a01a-6924d94921f2",
   "metadata": {},
   "outputs": [],
   "source": [
    "# twisted_l2.save_to_file(\"data/m5-opti-2.json\", group=G, cc=cc)\n",
    "#\n",
    "# a more complicated chain complex:\n",
    "# G, cc = twisted_l2.load_from_file(\"data/m5.json\")\n",
    "G, cc = twisted_l2.load_from_file(\"data/m5-opti.json\")"
   ]
  },
  {
   "cell_type": "code",
   "execution_count": 90,
   "id": "1fed76bc-a354-41dc-b4a4-be4ac0225aca",
   "metadata": {},
   "outputs": [
    {
     "data": {
      "text/plain": [
       "[(6, 1), (11, 6), (11, 11), (6, 11), (1, 6)]"
      ]
     },
     "execution_count": 90,
     "metadata": {},
     "output_type": "execute_result"
    }
   ],
   "source": [
    "[cc[j].dimensions() for j in range(5)]"
   ]
  },
  {
   "cell_type": "code",
   "execution_count": 91,
   "id": "3cf0e78c-a499-48fa-b646-05cdac4a981e",
   "metadata": {},
   "outputs": [
    {
     "data": {
      "text/plain": [
       "(0, 0, 0, 0, 0, 3)"
      ]
     },
     "execution_count": 91,
     "metadata": {},
     "output_type": "execute_result"
    }
   ],
   "source": [
    "G.abelian_invariants()"
   ]
  },
  {
   "cell_type": "code",
   "execution_count": 92,
   "id": "54c0c28b-f498-404a-91fe-b4a9352cfca1",
   "metadata": {},
   "outputs": [],
   "source": [
    "twisted_l2.configs.LogOptions.LEVEL = twisted_l2.INFO"
   ]
  },
  {
   "cell_type": "markdown",
   "id": "b67e4e14-8942-460e-addd-51c434a82c48",
   "metadata": {},
   "source": [
    "We use `exps = (1)` because $G$ has large rank, so increasing the nilpotency class makes $|L|$ grow very quickly.\\\n",
    "It suffices to take `n = 4` for the valuations to stabilize.\\\n",
    "The degrees of the Laplacians for the `m5-opti` chain complex are\n",
    "\n",
    "    [2, 18, 52, 52, 18, 2]\n",
    "    \n",
    "and the result is exactly $4$, as desired."
   ]
  },
  {
   "cell_type": "code",
   "execution_count": 100,
   "id": "748abe51-72f7-4c58-a6d9-1108e8ed01bb",
   "metadata": {
    "scrolled": true
   },
   "outputs": [
    {
     "name": "stdout",
     "output_type": "stream",
     "text": [
      "=========== Dimension 0 ===========\n",
      "\n",
      "Lift: F[1]\n",
      "Maximum valuation of entries = 2, should expand matrix by 2, expanding by 2 instead\n",
      "Size of Fin: 32\n",
      "|L| = 16\n",
      "Constructing matrix over Q[L]...\n",
      "Computing rank...\n",
      "Dimensions of N: (32, 32)\n",
      "Rank: 2.0 (rounds up to 2)\n",
      "Valuation: 0.0\n",
      "Degree: 2.0\n",
      "\n",
      "=========== Dimension 1 ===========\n",
      "\n",
      "Lift: F[1]\n",
      "Maximum valuation of entries = 8, should expand matrix by 48, expanding by 4 instead\n",
      "Size of Fin: 32\n",
      "|L| = 16\n",
      "Constructing matrix over Q[L]...\n",
      "Computing rank...\n",
      "Dimensions of N: (384, 384)\n",
      "Rank: 21.0 (rounds up to 21)\n",
      "Valuation: 3.0\n",
      "Degree: 18.0\n",
      "\n",
      "=========== Dimension 2 ===========\n",
      "\n",
      "Lift: F[1]\n",
      "Maximum valuation of entries = 9, should expand matrix by 99, expanding by 4 instead\n",
      "Size of Fin: 32\n",
      "|L| = 16\n",
      "Constructing matrix over Q[L]...\n",
      "Computing rank...\n",
      "Dimensions of N: (704, 704)\n",
      "Rank: 28.0 (rounds up to 28)\n",
      "Valuation: 16.0\n",
      "Degree: 52.0\n",
      "\n",
      "=========== Dimension 3 ===========\n",
      "\n",
      "Lift: F[1]\n",
      "Maximum valuation of entries = 9, should expand matrix by 99, expanding by 4 instead\n",
      "Size of Fin: 32\n",
      "|L| = 16\n",
      "Constructing matrix over Q[L]...\n",
      "Computing rank...\n",
      "Dimensions of N: (704, 704)\n",
      "Rank: 25.0 (rounds up to 25)\n",
      "Valuation: 19.0\n",
      "Degree: 52.0\n",
      "\n",
      "=========== Dimension 4 ===========\n",
      "\n",
      "Lift: F[1]\n",
      "Maximum valuation of entries = 9, should expand matrix by 54, expanding by 4 instead\n",
      "Size of Fin: 32\n",
      "|L| = 16\n",
      "Constructing matrix over Q[L]...\n",
      "Computing rank...\n",
      "Dimensions of N: (384, 384)\n",
      "Rank: 20.0 (rounds up to 20)\n",
      "Valuation: 4.0\n",
      "Degree: 18.0\n",
      "\n",
      "=========== Dimension 5 ===========\n",
      "\n",
      "Lift: F[1]\n",
      "Maximum valuation of entries = 2, should expand matrix by 2, expanding by 2 instead\n",
      "Size of Fin: 32\n",
      "|L| = 16\n",
      "Constructing matrix over Q[L]...\n",
      "Computing rank...\n",
      "Dimensions of N: (32, 32)\n",
      "Rank: 2.0 (rounds up to 2)\n",
      "Valuation: 0.0\n",
      "Degree: 2.0\n",
      "\n",
      "Degrees of Laplacians : [2.0, 18.0, 52.0, 52.0, 18.0, 2.0]\n",
      "Valuations            : [0.0, 3.0, 16.0, 19.0, 4.0, 0.0]\n",
      "Quotient sizes        : [16, 16, 16, 16, 16, 16]\n",
      "Characteristic        : 4.0\n",
      "CPU times: user 981 ms, sys: 46 µs, total: 981 ms\n",
      "Wall time: 979 ms\n"
     ]
    },
    {
     "data": {
      "text/plain": [
       "4"
      ]
     },
     "execution_count": 100,
     "metadata": {},
     "output_type": "execute_result"
    }
   ],
   "source": [
    "%time twisted_l2.characteristic(G, [1,0,0,0,0], cc, 4, (1,))"
   ]
  },
  {
   "cell_type": "code",
   "execution_count": 99,
   "id": "d54f72c7-6855-48cb-be2b-f1b1520adbeb",
   "metadata": {
    "scrolled": true
   },
   "outputs": [
    {
     "name": "stdout",
     "output_type": "stream",
     "text": [
      "=========== Dimension 0 ===========\n",
      "\n",
      "Lift: F[1]\n",
      "Maximum valuation of entries = 2, should expand matrix by 2, expanding by 2 instead\n",
      "Size of Fin: 32\n",
      "|L| = 16\n",
      "Constructing matrix over Q[L]...\n",
      "Computing rank...\n",
      "Dimensions of N: (32, 32)\n",
      "Rank: 2.0 (rounds up to 2)\n",
      "Valuation: 0.0\n",
      "Degree: 2.0\n",
      "\n",
      "=========== Dimension 1 ===========\n",
      "\n",
      "Lift: F[1]\n",
      "Maximum valuation of entries = 8, should expand matrix by 48, expanding by 5 instead\n",
      "Size of Fin: 32\n",
      "|L| = 16\n",
      "Constructing matrix over Q[L]...\n",
      "Computing rank...\n",
      "Dimensions of N: (480, 480)\n",
      "Rank: 27.0 (rounds up to 27)\n",
      "Valuation: 3.0\n",
      "Degree: 18.0\n",
      "\n",
      "=========== Dimension 2 ===========\n",
      "\n",
      "Lift: F[1]\n",
      "Maximum valuation of entries = 9, should expand matrix by 99, expanding by 5 instead\n",
      "Size of Fin: 32\n",
      "|L| = 16\n",
      "Constructing matrix over Q[L]...\n",
      "Computing rank...\n",
      "Dimensions of N: (880, 880)\n",
      "Rank: 39.0 (rounds up to 39)\n",
      "Valuation: 16.0\n",
      "Degree: 52.0\n",
      "\n",
      "=========== Dimension 3 ===========\n",
      "\n",
      "Lift: F[1]\n",
      "Maximum valuation of entries = 9, should expand matrix by 99, expanding by 5 instead\n",
      "Size of Fin: 32\n",
      "|L| = 16\n",
      "Constructing matrix over Q[L]...\n",
      "Computing rank...\n",
      "Dimensions of N: (880, 880)\n",
      "Rank: 36.0 (rounds up to 36)\n",
      "Valuation: 19.0\n",
      "Degree: 52.0\n",
      "\n",
      "=========== Dimension 4 ===========\n",
      "\n",
      "Lift: F[1]\n",
      "Maximum valuation of entries = 9, should expand matrix by 54, expanding by 5 instead\n",
      "Size of Fin: 32\n",
      "|L| = 16\n",
      "Constructing matrix over Q[L]...\n",
      "Computing rank...\n",
      "Dimensions of N: (480, 480)\n",
      "Rank: 26.0 (rounds up to 26)\n",
      "Valuation: 4.0\n",
      "Degree: 18.0\n",
      "\n",
      "=========== Dimension 5 ===========\n",
      "\n",
      "Lift: F[1]\n",
      "Maximum valuation of entries = 2, should expand matrix by 2, expanding by 2 instead\n",
      "Size of Fin: 32\n",
      "|L| = 16\n",
      "Constructing matrix over Q[L]...\n",
      "Computing rank...\n",
      "Dimensions of N: (32, 32)\n",
      "Rank: 2.0 (rounds up to 2)\n",
      "Valuation: 0.0\n",
      "Degree: 2.0\n",
      "\n",
      "Degrees of Laplacians : [2.0, 18.0, 52.0, 52.0, 18.0, 2.0]\n",
      "Valuations            : [0.0, 3.0, 16.0, 19.0, 4.0, 0.0]\n",
      "Quotient sizes        : [16, 16, 16, 16, 16, 16]\n",
      "Characteristic        : 4.0\n",
      "CPU times: user 1.36 s, sys: 3.4 ms, total: 1.36 s\n",
      "Wall time: 1.36 s\n"
     ]
    },
    {
     "data": {
      "text/plain": [
       "4"
      ]
     },
     "execution_count": 99,
     "metadata": {},
     "output_type": "execute_result"
    }
   ],
   "source": [
    "%time twisted_l2.characteristic(G, [1,0,0,0,0], cc, 5, (1,))"
   ]
  }
 ],
 "metadata": {
  "kernelspec": {
   "display_name": "SageMath 10.3",
   "language": "sage",
   "name": "sagemath"
  },
  "language_info": {
   "codemirror_mode": {
    "name": "ipython",
    "version": 3
   },
   "file_extension": ".py",
   "mimetype": "text/x-python",
   "name": "python",
   "nbconvert_exporter": "python",
   "pygments_lexer": "ipython3",
   "version": "3.12.3"
  }
 },
 "nbformat": 4,
 "nbformat_minor": 5
}
