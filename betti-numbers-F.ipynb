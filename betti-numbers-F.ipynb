{
 "cells": [
  {
   "cell_type": "markdown",
   "id": "8b16c120-101d-494c-99ea-9b158b498521",
   "metadata": {},
   "source": [
    "# $L^2$-Betti numbers of the fiber of the Ratcliffe-Tschantz $5$-manifold"
   ]
  },
  {
   "cell_type": "code",
   "execution_count": 1,
   "id": "cc4b7212-99bf-4ca0-beb7-37bcfc790684",
   "metadata": {},
   "outputs": [
    {
     "name": "stdout",
     "output_type": "stream",
     "text": [
      "\r"
     ]
    }
   ],
   "source": [
    "import twisted_l2\n",
    "import regina"
   ]
  },
  {
   "cell_type": "markdown",
   "id": "fe39e7dc-5939-4f33-9aa7-cdfd728c685e",
   "metadata": {
    "tags": []
   },
   "source": [
    "## Compute the chain complex of the universal cover:"
   ]
  },
  {
   "cell_type": "code",
   "execution_count": 2,
   "id": "8dc3501d-8f2e-4514-84e4-93994f85af6d",
   "metadata": {
    "tags": []
   },
   "outputs": [
    {
     "data": {
      "text/plain": [
       "true"
      ]
     },
     "execution_count": 2,
     "metadata": {},
     "output_type": "execute_result"
    }
   ],
   "source": [
    "twisted_l2.load_hap()"
   ]
  },
  {
   "cell_type": "markdown",
   "id": "64e1219f-61d1-40c2-9c3b-915390f49ee4",
   "metadata": {},
   "source": [
    "Isomorphism signature from [arXiv:2105.14795](https://arxiv.org/abs/2105.14795) (Hyperbolic 5-manifolds that fiber over $S^1$).\\\n",
    "We use it to construct a Regina `Triangulation`."
   ]
  },
  {
   "cell_type": "code",
   "execution_count": 3,
   "id": "165c9528-e218-4e35-855f-4fa25612c299",
   "metadata": {},
   "outputs": [],
   "source": [
    "isosig = (\n",
    "    \"OvvvAPMAAwMvzAAQQwvAwLQQQQPAvQQQQQciggkhhikjlnppptuqwrvxutxvCDAFIDIHDEBIGCBE\"\n",
    "    \"FGJHKNLNNMLKKMMLNLKMAaAa8awb8awbwb8aaaaaaa8aAa8aaa8a8awb8aaaaaAa8awbAawbwbAa\"\n",
    "    \"AawbwbaaaaaawbaaaawbaaaawbwbaaaaAaaa8aAaAaaaAaaaaawbwb8a8aAaAaaa8a\"\n",
    ")\n",
    "tri = regina.Triangulation4.fromIsoSig(isosig)"
   ]
  },
  {
   "cell_type": "code",
   "execution_count": 4,
   "id": "e3f97003-a254-4379-80ba-fc5d479405b1",
   "metadata": {},
   "outputs": [
    {
     "name": "stdout",
     "output_type": "stream",
     "text": [
      "CPU times: user 42.1 s, sys: 437 ms, total: 42.5 s\n",
      "Wall time: 42.1 s\n"
     ]
    }
   ],
   "source": [
    "%time fl = twisted_l2.regina_tri_to_face_lattice(tri, ideal=True)"
   ]
  },
  {
   "cell_type": "code",
   "execution_count": 5,
   "id": "93612d5a-1a01-4c1c-be93-f4dedabd5451",
   "metadata": {},
   "outputs": [
    {
     "name": "stdout",
     "output_type": "stream",
     "text": [
      "CPU times: user 1.01 s, sys: 29.9 ms, total: 1.04 s\n",
      "Wall time: 1.03 s\n"
     ]
    }
   ],
   "source": [
    "%time cw = twisted_l2.cw_complex(fl)"
   ]
  },
  {
   "cell_type": "markdown",
   "id": "70d43fed-21c7-462c-a863-2bd44e5bbf18",
   "metadata": {},
   "source": [
    "Now `cw` wraps a GAP object representing a regular CW complex. The main data it stores is the _face lattice_ \\\n",
    "(i.e. which cells are in the boundary of which cells)."
   ]
  },
  {
   "cell_type": "code",
   "execution_count": 6,
   "id": "f1c11488-568f-49c0-810f-09a7224269bb",
   "metadata": {},
   "outputs": [
    {
     "name": "stdout",
     "output_type": "stream",
     "text": [
      "Number of cells in each dimension:\n",
      "0: 2019\n",
      "1: 25616\n",
      "2: 81846\n",
      "3: 96768\n",
      "4: 38520\n",
      "5: 0\n"
     ]
    }
   ],
   "source": [
    "number_of_cells = twisted_l2.gap_member(cw, \"nrCells\")\n",
    "print(\"Number of cells in each dimension:\")\n",
    "for j in range(6):\n",
    "    print(f\"{j}: {number_of_cells(j)}\")"
   ]
  },
  {
   "cell_type": "code",
   "execution_count": 7,
   "id": "168ab314-0b7a-4f57-85e7-1ef610949bde",
   "metadata": {},
   "outputs": [
    {
     "name": "stdout",
     "output_type": "stream",
     "text": [
      "CPU times: user 6.9 s, sys: 33.3 ms, total: 6.93 s\n",
      "Wall time: 6.89 s\n"
     ]
    }
   ],
   "source": [
    "%time chain_complex = twisted_l2.equivariant_cc(cw, gap=False)"
   ]
  },
  {
   "cell_type": "code",
   "execution_count": 8,
   "id": "f8e583eb-d73d-42a0-b31a-3f336e334112",
   "metadata": {},
   "outputs": [
    {
     "data": {
      "text/plain": [
       "[1, 6, 10, 4, 0]"
      ]
     },
     "execution_count": 8,
     "metadata": {},
     "output_type": "execute_result"
    }
   ],
   "source": [
    "[chain_complex.dimension(i) for i in range(5)]"
   ]
  },
  {
   "cell_type": "code",
   "execution_count": 9,
   "id": "3fe75e9d-5256-4d6e-b5da-db68eac96ed5",
   "metadata": {},
   "outputs": [],
   "source": [
    "G = twisted_l2.get_fundamental_group(chain_complex)"
   ]
  },
  {
   "cell_type": "code",
   "execution_count": 10,
   "id": "38b4fa9c-7521-4c60-ae3d-99492b753346",
   "metadata": {},
   "outputs": [],
   "source": [
    "cc = twisted_l2.get_differentials(chain_complex)"
   ]
  },
  {
   "cell_type": "markdown",
   "id": "fe27b9c1-77a3-4a0b-951d-01ae5be86d99",
   "metadata": {},
   "source": [
    "The variable `chain_complex` wraps a GAP object,\n",
    "while `cc` is simply a list of matrices over the group algebra of `G`. \\\n",
    "Actually, for technical reasons, we use the free group on the generators of `G` instead of `G` itself.\n",
    "\n",
    "The above cell is equivalent to\n",
    "```\n",
    "cc = [twisted_l2.boundary_operator(chain_complex, i, G) for i in range(1, 4)]\n",
    "```"
   ]
  },
  {
   "cell_type": "markdown",
   "id": "4c5478e1-a08a-4461-92c0-910699d7fa92",
   "metadata": {},
   "source": [
    "## Or load precomputed data:"
   ]
  },
  {
   "cell_type": "markdown",
   "id": "d65f8ad2-bf80-42bb-9e4d-a2ce1d567cc0",
   "metadata": {},
   "source": [
    "We can also save/load the group and chain complex.\\\n",
    "This is useful to deal with non-deterministic results from CW complex simplifications etc."
   ]
  },
  {
   "cell_type": "code",
   "execution_count": 2,
   "id": "708ba39e-5fe4-4729-b035-0c91f1671ddb",
   "metadata": {
    "tags": []
   },
   "outputs": [],
   "source": [
    "# twisted_l2.save_to_file(\"data/betti-F-2.json\", group=G, cc=cc)\n",
    "G, cc = twisted_l2.load_from_file(\"data/betti-F.json\")"
   ]
  },
  {
   "cell_type": "code",
   "execution_count": 3,
   "id": "0cba4b61-3f45-4637-8a6c-a947417ccd07",
   "metadata": {},
   "outputs": [
    {
     "data": {
      "text/plain": [
       "(4, 4, 4, 4)"
      ]
     },
     "execution_count": 3,
     "metadata": {},
     "output_type": "execute_result"
    }
   ],
   "source": [
    "G.abelian_invariants()"
   ]
  },
  {
   "cell_type": "markdown",
   "id": "f5db5da5-5320-44c0-a47e-ec42a2f2b956",
   "metadata": {},
   "source": [
    "The abelianization of $G$ is the $2$-group $\\mathbb Z_4^4$, so we expect to find only $2$-groups\n",
    "as nontrivial finite quotients using `finite_quotient`."
   ]
  },
  {
   "cell_type": "code",
   "execution_count": 4,
   "id": "2166c938-46da-4dde-b3d2-c320475cd1b1",
   "metadata": {
    "tags": []
   },
   "outputs": [],
   "source": [
    "# Choose the desired configuration (see \"configs.py\")\n",
    "twisted_l2.configs.LogOptions.LEVEL = twisted_l2.DEBUG"
   ]
  },
  {
   "cell_type": "markdown",
   "id": "cc6ff1e3-fbd1-4c43-95f0-5e1c7ebbc11b",
   "metadata": {
    "tags": []
   },
   "source": [
    "## Now we can compute all the ranks:"
   ]
  },
  {
   "cell_type": "markdown",
   "id": "1522fb21-d747-41ad-b605-ec57b70830f2",
   "metadata": {
    "tags": []
   },
   "source": [
    "### First differential"
   ]
  },
  {
   "cell_type": "code",
   "execution_count": 5,
   "id": "ee41ac83-02e8-43e0-a8a6-a21d88a523b1",
   "metadata": {
    "tags": []
   },
   "outputs": [
    {
     "name": "stdout",
     "output_type": "stream",
     "text": [
      "Size of Fin: 16\n",
      "Making finite quotient L... need to compute 6 images\n",
      "Progress: [=========================]\n",
      "Calling libgap...\n",
      "|L| = 16\n",
      "Constructing matrix over Q[L]...\n",
      "Progress: [=========================]\n",
      "Computing rank...\n",
      "Dimensions of N: (96, 16)\n",
      "Nonzero entries of N: 192 out of 1536\n",
      "Rank: 0.9375 (rounds up to 1)\n",
      "CPU times: user 31.3 ms, sys: 247 µs, total: 31.6 ms\n",
      "Wall time: 30.3 ms\n"
     ]
    },
    {
     "data": {
      "text/plain": [
       "15/16"
      ]
     },
     "execution_count": 5,
     "metadata": {},
     "output_type": "execute_result"
    }
   ],
   "source": [
    "%time twisted_l2.von_neumann_rank(G, cc[0], (1,))"
   ]
  },
  {
   "cell_type": "code",
   "execution_count": 6,
   "id": "a14c4b36-81d9-403b-959a-6bd333bd0d6a",
   "metadata": {
    "tags": []
   },
   "outputs": [
    {
     "name": "stdout",
     "output_type": "stream",
     "text": [
      "Size of Fin: 16\n",
      "Making finite quotient L... need to compute 6 images\n",
      "Progress: [=========================]\n",
      "Calling libgap...\n",
      "|L| = 16\n",
      "Constructing matrix over Q[L]...\n",
      "Progress: [=========================]\n",
      "Computing rank...\n",
      "Dimensions of N: (96, 16)\n",
      "Nonzero entries of N: 192 out of 1536\n",
      "Rank: 0.9375 (rounds up to 1)\n",
      "CPU times: user 22.7 ms, sys: 166 µs, total: 22.9 ms\n",
      "Wall time: 22 ms\n"
     ]
    },
    {
     "data": {
      "text/plain": [
       "15/16"
      ]
     },
     "execution_count": 6,
     "metadata": {},
     "output_type": "execute_result"
    }
   ],
   "source": [
    "%time twisted_l2.von_neumann_rank(G, cc[0], (1,1))"
   ]
  },
  {
   "cell_type": "markdown",
   "id": "c042a06c-de26-4fbc-9f8a-5ef22de14881",
   "metadata": {},
   "source": [
    "When choosing primes $2$ and $3$, the quotient is the same as before.\\\n",
    "Hence, from now on, we will only use $2$ as a prime for `finite_quotient`."
   ]
  },
  {
   "cell_type": "code",
   "execution_count": 7,
   "id": "cb91cf88-71be-47ff-97a1-23980c380416",
   "metadata": {
    "tags": []
   },
   "outputs": [
    {
     "name": "stdout",
     "output_type": "stream",
     "text": [
      "Size of Fin: 4096\n",
      "Making finite quotient L... need to compute 6 images\n",
      "Progress: [=========================]\n",
      "Calling libgap...\n",
      "|L| = 4096\n",
      "Constructing matrix over Q[L]...\n",
      "Progress: [=========================]\n",
      "Computing rank...\n",
      "Dimensions of N: (24576, 4096)\n",
      "Nonzero entries of N: 49152 out of 100663296\n",
      "Rank: 0.999755859375 (rounds up to 1)\n",
      "CPU times: user 1min 9s, sys: 83.1 ms, total: 1min 9s\n",
      "Wall time: 1min 9s\n"
     ]
    },
    {
     "data": {
      "text/plain": [
       "4095/4096"
      ]
     },
     "execution_count": 7,
     "metadata": {},
     "output_type": "execute_result"
    }
   ],
   "source": [
    "%time twisted_l2.von_neumann_rank(G, cc[0], (2,))"
   ]
  },
  {
   "cell_type": "markdown",
   "id": "a4778d76-00ef-4dae-9bf0-400d6fba372c",
   "metadata": {},
   "source": [
    "The error seems to be $\\frac{1}{|L|}$."
   ]
  },
  {
   "cell_type": "markdown",
   "id": "ce83b364-e262-41aa-9300-948875fbfe84",
   "metadata": {
    "tags": []
   },
   "source": [
    "### Second differential"
   ]
  },
  {
   "cell_type": "code",
   "execution_count": 8,
   "id": "622ab49e-f77f-486a-82fb-fd44c92195b6",
   "metadata": {
    "tags": []
   },
   "outputs": [
    {
     "name": "stdout",
     "output_type": "stream",
     "text": [
      "Size of Fin: 16\n",
      "Making finite quotient L... need to compute 201 images\n",
      "Progress: [=========================]\n",
      "Calling libgap...\n",
      "|L| = 16\n",
      "Constructing matrix over Q[L]...\n",
      "Progress: [=========================]\n",
      "Computing rank...\n",
      "Dimensions of N: (160, 96)\n",
      "Nonzero entries of N: 2976 out of 15360\n",
      "Rank: 4.125 (rounds up to 5)\n",
      "CPU times: user 53.2 ms, sys: 3.31 ms, total: 56.6 ms\n",
      "Wall time: 53.6 ms\n"
     ]
    },
    {
     "data": {
      "text/plain": [
       "33/8"
      ]
     },
     "execution_count": 8,
     "metadata": {},
     "output_type": "execute_result"
    }
   ],
   "source": [
    "%time twisted_l2.von_neumann_rank(G, cc[1], (1,))"
   ]
  },
  {
   "cell_type": "markdown",
   "id": "7b6ece20-f69f-4f7a-a666-c9a86b502697",
   "metadata": {},
   "source": [
    "The next cell takes a long time to evaluate (more than 1 hour on most machines):"
   ]
  },
  {
   "cell_type": "code",
   "execution_count": null,
   "id": "589d2b75-c1fb-4327-9e73-4a37c3502110",
   "metadata": {},
   "outputs": [],
   "source": [
    "%time twisted_l2.von_neumann_rank(G, cc[1], (2,))"
   ]
  },
  {
   "cell_type": "markdown",
   "id": "22577588-c1b2-4db8-9498-7702343336c4",
   "metadata": {
    "tags": []
   },
   "source": [
    "### Third differential"
   ]
  },
  {
   "cell_type": "code",
   "execution_count": 9,
   "id": "05a2455f-ca14-409c-bd72-f16e53364def",
   "metadata": {
    "tags": []
   },
   "outputs": [
    {
     "name": "stdout",
     "output_type": "stream",
     "text": [
      "Size of Fin: 16\n",
      "Making finite quotient L... need to compute 147 images\n",
      "Progress: [=========================]\n",
      "Calling libgap...\n",
      "|L| = 16\n",
      "Constructing matrix over Q[L]...\n",
      "Progress: [=========================]\n",
      "Computing rank...\n",
      "Dimensions of N: (64, 160)\n",
      "Nonzero entries of N: 992 out of 10240\n",
      "Rank: 2.8125 (rounds up to 3)\n",
      "CPU times: user 59 ms, sys: 6.64 ms, total: 65.7 ms\n",
      "Wall time: 63 ms\n"
     ]
    },
    {
     "data": {
      "text/plain": [
       "45/16"
      ]
     },
     "execution_count": 9,
     "metadata": {},
     "output_type": "execute_result"
    }
   ],
   "source": [
    "%time twisted_l2.von_neumann_rank(G, cc[2], (1,))"
   ]
  },
  {
   "cell_type": "code",
   "execution_count": 10,
   "id": "2de23dba-0fab-40d7-b838-e5ea307ea98c",
   "metadata": {
    "tags": []
   },
   "outputs": [
    {
     "name": "stdout",
     "output_type": "stream",
     "text": [
      "Size of Fin: 4096\n",
      "Making finite quotient L... need to compute 147 images\n",
      "Progress: [=========================]\n",
      "Calling libgap...\n",
      "|L| = 4096\n",
      "Constructing matrix over Q[L]...\n",
      "Progress: [=========================]\n",
      "Computing rank...\n",
      "Dimensions of N: (16384, 40960)\n",
      "Nonzero entries of N: 270336 out of 671088640\n",
      "Rank: 3.843994140625 (rounds up to 4)\n",
      "CPU times: user 5min 34s, sys: 431 ms, total: 5min 34s\n",
      "Wall time: 5min 34s\n"
     ]
    },
    {
     "data": {
      "text/plain": [
       "15745/4096"
      ]
     },
     "execution_count": 10,
     "metadata": {},
     "output_type": "execute_result"
    }
   ],
   "source": [
    "%time twisted_l2.von_neumann_rank(G, cc[2], (2,))"
   ]
  },
  {
   "cell_type": "code",
   "execution_count": null,
   "id": "20c9e296-d82e-4d90-aaa0-3effaa39340c",
   "metadata": {},
   "outputs": [],
   "source": []
  }
 ],
 "metadata": {
  "kernelspec": {
   "display_name": "SageMath 10.6",
   "language": "sage",
   "name": "sagemath"
  },
  "language_info": {
   "codemirror_mode": {
    "name": "ipython",
    "version": 3
   },
   "file_extension": ".py",
   "mimetype": "text/x-python",
   "name": "python",
   "nbconvert_exporter": "python",
   "pygments_lexer": "ipython3",
   "version": "3.13.5"
  }
 },
 "nbformat": 4,
 "nbformat_minor": 5
}
