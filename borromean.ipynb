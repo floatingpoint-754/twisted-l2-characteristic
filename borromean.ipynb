{
 "cells": [
  {
   "cell_type": "markdown",
   "id": "3fc4fdc1-568b-4242-a8c4-51d72496b5c2",
   "metadata": {},
   "source": [
    "# Twisted $L^2$-Euler characteristic of the Borromean rings complement"
   ]
  },
  {
   "cell_type": "code",
   "execution_count": 1,
   "id": "67726873-fe8f-4b43-9a4b-70f87415005f",
   "metadata": {
    "tags": []
   },
   "outputs": [
    {
     "name": "stdout",
     "output_type": "stream",
     "text": [
      "\r"
     ]
    }
   ],
   "source": [
    "import itertools\n",
    "import twisted_l2\n",
    "import regina\n",
    "import snappy"
   ]
  },
  {
   "cell_type": "markdown",
   "id": "a0035510-b785-440a-8edc-06ef4d58b3a1",
   "metadata": {},
   "source": [
    "## Compute the chain complex of the universal cover:"
   ]
  },
  {
   "cell_type": "code",
   "execution_count": 2,
   "id": "f14fffaa-0d82-4610-ae5e-597ee7955957",
   "metadata": {
    "tags": []
   },
   "outputs": [
    {
     "data": {
      "text/plain": [
       "true"
      ]
     },
     "execution_count": 2,
     "metadata": {},
     "output_type": "execute_result"
    }
   ],
   "source": [
    "twisted_l2.load_hap()"
   ]
  },
  {
   "cell_type": "code",
   "execution_count": 3,
   "id": "165c9528-e218-4e35-855f-4fa25612c299",
   "metadata": {},
   "outputs": [
    {
     "data": {
      "text/plain": [
       "[3, 8, 16, 8]"
      ]
     },
     "execution_count": 3,
     "metadata": {},
     "output_type": "execute_result"
    }
   ],
   "source": [
    "mfd = snappy.Manifold(\"L6a4\")\n",
    "tri = regina.Triangulation3(mfd)\n",
    "print(tri.fVector())"
   ]
  },
  {
   "cell_type": "code",
   "execution_count": 4,
   "id": "fe7d01c5-ce76-4b9e-80b7-7b27a1274d9d",
   "metadata": {
    "tags": []
   },
   "outputs": [
    {
     "data": {
      "text/plain": [
       "True"
      ]
     },
     "execution_count": 4,
     "metadata": {},
     "output_type": "execute_result"
    }
   ],
   "source": [
    "tri.idealToFinite()"
   ]
  },
  {
   "cell_type": "code",
   "execution_count": 5,
   "id": "cf361d68-d40d-460b-aaa4-aca67e5bdc28",
   "metadata": {
    "tags": []
   },
   "outputs": [
    {
     "data": {
      "text/plain": [
       "[40, 280, 464, 224]"
      ]
     },
     "execution_count": 5,
     "metadata": {},
     "output_type": "execute_result"
    }
   ],
   "source": [
    "tri.fVector()"
   ]
  },
  {
   "cell_type": "code",
   "execution_count": 6,
   "id": "e3f97003-a254-4379-80ba-fc5d479405b1",
   "metadata": {},
   "outputs": [
    {
     "name": "stdout",
     "output_type": "stream",
     "text": [
      "CPU times: user 52.6 ms, sys: 3.27 ms, total: 55.8 ms\n",
      "Wall time: 55.5 ms\n"
     ]
    }
   ],
   "source": [
    "%time fl = twisted_l2.regina_tri_to_face_lattice(tri, ideal=False, simplify=False)"
   ]
  },
  {
   "cell_type": "code",
   "execution_count": 7,
   "id": "93612d5a-1a01-4c1c-be93-f4dedabd5451",
   "metadata": {},
   "outputs": [
    {
     "name": "stdout",
     "output_type": "stream",
     "text": [
      "CPU times: user 65.7 ms, sys: 137 µs, total: 65.8 ms\n",
      "Wall time: 65.7 ms\n"
     ]
    }
   ],
   "source": [
    "%time cw = twisted_l2.cw_complex(fl)"
   ]
  },
  {
   "cell_type": "code",
   "execution_count": 8,
   "id": "f16cbee6-dfe6-47ab-a140-0961814cf51b",
   "metadata": {},
   "outputs": [
    {
     "name": "stdout",
     "output_type": "stream",
     "text": [
      "Number of cells in each dimension:\n",
      "0: 1008\n",
      "1: 6480\n",
      "2: 10848\n",
      "3: 5376\n",
      "4: 0\n",
      "5: 0\n"
     ]
    }
   ],
   "source": [
    "number_of_cells = twisted_l2.gap_member(cw, \"nrCells\")\n",
    "print(\"Number of cells in each dimension:\")\n",
    "for j in range(6):\n",
    "    print(f\"{j}: {number_of_cells(j)}\")"
   ]
  },
  {
   "cell_type": "code",
   "execution_count": 9,
   "id": "e56b9b3f-f13f-4de6-97e3-974b4f6d1b9e",
   "metadata": {},
   "outputs": [
    {
     "name": "stdout",
     "output_type": "stream",
     "text": [
      "CPU times: user 140 ms, sys: 144 µs, total: 140 ms\n",
      "Wall time: 140 ms\n"
     ]
    }
   ],
   "source": [
    "%time chain_complex = twisted_l2.equivariant_cc(cw, gap=False)"
   ]
  },
  {
   "cell_type": "code",
   "execution_count": 10,
   "id": "90b26c06-dc56-4bc2-b0d3-b2f47e45b0c0",
   "metadata": {},
   "outputs": [
    {
     "data": {
      "text/plain": [
       "[1, 3, 2, 0, 0]"
      ]
     },
     "execution_count": 10,
     "metadata": {},
     "output_type": "execute_result"
    }
   ],
   "source": [
    "[chain_complex.dimension(i) for i in range(5)]"
   ]
  },
  {
   "cell_type": "code",
   "execution_count": 11,
   "id": "ccf17812-402c-4ffd-84da-f50dc34ee1a7",
   "metadata": {},
   "outputs": [],
   "source": [
    "G = twisted_l2.get_fundamental_group(chain_complex)"
   ]
  },
  {
   "cell_type": "code",
   "execution_count": 12,
   "id": "59805643-acee-45bc-a741-06f4de029768",
   "metadata": {},
   "outputs": [],
   "source": [
    "cc = twisted_l2.get_differentials(chain_complex)"
   ]
  },
  {
   "cell_type": "markdown",
   "id": "db6bd90e-cd63-448d-ab45-e59d8e256370",
   "metadata": {},
   "source": [
    "The variable `chain_complex` wraps a GAP object,\n",
    "while `cc` is simply a list of matrices over the group algebra of `G`. \\\n",
    "Actually, for technical reasons, we use the free group on the generators of `G` instead of `G` itself.\n",
    "\n",
    "The above cell is equivalent to\n",
    "```\n",
    "cc = [twisted_l2.boundary_operator(chain_complex, i, G) for i in range(1, 3)]\n",
    "```"
   ]
  },
  {
   "cell_type": "code",
   "execution_count": 13,
   "id": "0f6c95e3-d9fa-4ead-a574-6c89c8d43247",
   "metadata": {
    "tags": []
   },
   "outputs": [
    {
     "data": {
      "text/plain": [
       "Finitely presented group < f1, f2, f3 | f3^-1*f2^-1*f3*f1*f3^-1*f1^-1*f2*f1*f3*f1^-1, f2^-1*f1*f2*f3^-1*f2^-1*f3*f1^-1*f3^-1*f2*f3 >"
      ]
     },
     "execution_count": 13,
     "metadata": {},
     "output_type": "execute_result"
    }
   ],
   "source": [
    "G"
   ]
  },
  {
   "cell_type": "markdown",
   "id": "2c8aa4c2-fcb6-4a61-a0c2-7afc016bc398",
   "metadata": {},
   "source": [
    "## Or load precomputed data:"
   ]
  },
  {
   "cell_type": "markdown",
   "id": "6f90c21c-3908-404a-8757-62d7ceb31774",
   "metadata": {},
   "source": [
    "We can also save/load the group and chain complex.\\\n",
    "This is useful to deal with non-deterministic results from CW complex simplifications etc."
   ]
  },
  {
   "cell_type": "code",
   "execution_count": 14,
   "id": "cb640cd7-c897-456a-9a3f-4afe6f0db134",
   "metadata": {
    "tags": []
   },
   "outputs": [],
   "source": [
    "# twisted_l2.save_to_file(\"borromean-2.json\", group=G, cc=cc)\n",
    "G, cc = twisted_l2.load_from_file(\"borromean.json\")"
   ]
  },
  {
   "cell_type": "code",
   "execution_count": 15,
   "id": "65ab2f30-ed9a-40dc-9d52-401866c16af0",
   "metadata": {},
   "outputs": [
    {
     "data": {
      "text/plain": [
       "(0, 0, 0)"
      ]
     },
     "execution_count": 15,
     "metadata": {},
     "output_type": "execute_result"
    }
   ],
   "source": [
    "G.abelian_invariants()"
   ]
  },
  {
   "cell_type": "code",
   "execution_count": 16,
   "id": "93012d34-6e65-412d-b0bc-1af5a10ca9ea",
   "metadata": {
    "tags": []
   },
   "outputs": [
    {
     "data": {
      "text/plain": [
       "Finitely presented group < x0, x1, x2 | x2^-1*x1^-1*x2*x0*x2^-1*x0^-1*x1*x0*x2*x0^-1, x1^-1*x0*x1*x2^-1*x1^-1*x2*x0^-1*x2^-1*x1*x2 >"
      ]
     },
     "execution_count": 16,
     "metadata": {},
     "output_type": "execute_result"
    }
   ],
   "source": [
    "G"
   ]
  },
  {
   "cell_type": "markdown",
   "id": "cef61f49-acc5-431e-982c-79838eac8882",
   "metadata": {},
   "source": [
    "$G$ has rank-$3$ abelianization, so the unit ball of the Thurston norm lives in $3$-space."
   ]
  },
  {
   "cell_type": "code",
   "execution_count": 17,
   "id": "159682ee-f490-463c-b7c5-0692b1c6b519",
   "metadata": {
    "tags": []
   },
   "outputs": [],
   "source": [
    "# Choose the desired configuration (see \"configs.py\")\n",
    "twisted_l2.configs.LogOptions.LEVEL = twisted_l2.MINIMAL\n",
    "twisted_l2.configs.LogOptions.PRECISION = 8"
   ]
  },
  {
   "cell_type": "markdown",
   "id": "c0885ece-76b3-4074-a4ad-b4455a2a797a",
   "metadata": {},
   "source": [
    "## Convergence of the algorithm"
   ]
  },
  {
   "cell_type": "markdown",
   "id": "5652e371-2166-4b63-9cde-8fc53832bb76",
   "metadata": {},
   "source": [
    "First, we investigate what happens with different finite quotients (controlled by the argument `exps`).\\\n",
    "We use a single $\\phi \\in \\mathrm{Hom}(G; \\mathbb Z)$ represented by `v = (0,0,1)`."
   ]
  },
  {
   "cell_type": "code",
   "execution_count": 18,
   "id": "9aaaaab0-f45c-4718-820f-d97509a7b38f",
   "metadata": {
    "tags": []
   },
   "outputs": [
    {
     "data": {
      "text/plain": [
       "[0, 0, 1]"
      ]
     },
     "execution_count": 18,
     "metadata": {},
     "output_type": "execute_result"
    }
   ],
   "source": [
    "twisted_l2.make_phi_from_coordinates(G, [0,0,1], as_list=True)"
   ]
  },
  {
   "cell_type": "markdown",
   "id": "6552c98a-0102-4bc6-898f-abf174316204",
   "metadata": {},
   "source": [
    "These are the values of $\\phi(x_0), \\phi(x_1), \\phi(x_2)$, where $x_0, x_1, x_2$ are the generators of $G$."
   ]
  },
  {
   "cell_type": "markdown",
   "id": "988be066-0a86-4f3d-8bf8-24b39843fcb0",
   "metadata": {},
   "source": [
    "We first run the algorithm with a high expansion parameter such as $10$,\\\n",
    "and we see that the (computed) valuations are all bounded above by $6$."
   ]
  },
  {
   "cell_type": "code",
   "execution_count": 19,
   "id": "8a318ce9-8858-4e00-925d-25bcdaca1c85",
   "metadata": {
    "collapsed": true,
    "jupyter": {
     "outputs_hidden": true
    },
    "tags": []
   },
   "outputs": [
    {
     "name": "stdout",
     "output_type": "stream",
     "text": [
      "===== With finite 2-quotient =====\n",
      "Degrees of Laplacians : [2.0, -6.0, -4.0]\n",
      "Valuations            : [0.0, 6.0, 4.0]\n",
      "Quotient sizes        : [4, 4, 4]\n",
      "Characteristic        : 1.0\n",
      "\n",
      "===== With finite 3-quotient =====\n",
      "Degrees of Laplacians : [2.0, -2.0, -1.33333333]\n",
      "Valuations            : [0.0, 4.0, 2.66666667]\n",
      "Quotient sizes        : [9, 9, 9]\n",
      "Characteristic        : 0.33333333\n",
      "\n",
      "===== With finite 5-quotient =====\n",
      "Degrees of Laplacians : [2.0, 1.2, 0.8]\n",
      "Valuations            : [0.0, 2.4, 1.6]\n",
      "Quotient sizes        : [25, 25, 25]\n",
      "Characteristic        : -0.2\n",
      "\n",
      "===== With finite 7-quotient =====\n",
      "Degrees of Laplacians : [2.0, 2.57142857, 1.71428571]\n",
      "Valuations            : [0.0, 1.71428571, 1.14285714]\n",
      "Quotient sizes        : [49, 49, 49]\n",
      "Characteristic        : -0.42857143\n",
      "\n"
     ]
    }
   ],
   "source": [
    "for i in range(4):\n",
    "    print(f\"===== With finite {Primes().unrank(i)}-quotient =====\")\n",
    "    exps = [0] * i + [1]\n",
    "    twisted_l2.characteristic(G, (0,0,1), cc, 10, exps)\n",
    "    print()"
   ]
  },
  {
   "cell_type": "markdown",
   "id": "7ce1b397-425a-4e9d-ba8c-dd23b9433d61",
   "metadata": {},
   "source": [
    "Hence, by heuristically taking expansion parameter $6$, we try doing it with more primes (up to $29$)."
   ]
  },
  {
   "cell_type": "code",
   "execution_count": 21,
   "id": "cf422ea7-2ef3-4d38-9831-6092dbde5619",
   "metadata": {
    "tags": []
   },
   "outputs": [
    {
     "name": "stdout",
     "output_type": "stream",
     "text": [
      "===== With finite 2-quotient =====\n",
      "Degrees of Laplacians : [2.0, -6.0, -4.0]\n",
      "Valuations            : [0.0, 6.0, 4.0]\n",
      "Quotient sizes        : [4, 4, 4]\n",
      "Characteristic        : 1.0\n",
      "\n",
      "===== With finite 3-quotient =====\n",
      "Degrees of Laplacians : [2.0, -2.0, -1.33333333]\n",
      "Valuations            : [0.0, 4.0, 2.66666667]\n",
      "Quotient sizes        : [9, 9, 9]\n",
      "Characteristic        : 0.33333333\n",
      "\n",
      "===== With finite 5-quotient =====\n",
      "Degrees of Laplacians : [2.0, 1.2, 0.8]\n",
      "Valuations            : [0.0, 2.4, 1.6]\n",
      "Quotient sizes        : [25, 25, 25]\n",
      "Characteristic        : -0.2\n",
      "\n",
      "===== With finite 7-quotient =====\n",
      "Degrees of Laplacians : [2.0, 2.57142857, 1.71428571]\n",
      "Valuations            : [0.0, 1.71428571, 1.14285714]\n",
      "Quotient sizes        : [49, 49, 49]\n",
      "Characteristic        : -0.42857143\n",
      "\n",
      "===== With finite 11-quotient =====\n",
      "Degrees of Laplacians : [2.0, 3.81818182, 2.54545455]\n",
      "Valuations            : [0.0, 1.09090909, 0.72727273]\n",
      "Quotient sizes        : [121, 121, 121]\n",
      "Characteristic        : -0.63636364\n",
      "\n",
      "===== With finite 13-quotient =====\n",
      "Degrees of Laplacians : [2.0, 4.15384615, 2.76923077]\n",
      "Valuations            : [0.0, 0.92307692, 0.61538462]\n",
      "Quotient sizes        : [169, 169, 169]\n",
      "Characteristic        : -0.69230769\n",
      "\n",
      "===== With finite 17-quotient =====\n",
      "Degrees of Laplacians : [2.0, 4.58823529, 3.05882353]\n",
      "Valuations            : [0.0, 0.70588235, 0.47058824]\n",
      "Quotient sizes        : [289, 289, 289]\n",
      "Characteristic        : -0.76470588\n",
      "\n",
      "===== With finite 19-quotient =====\n",
      "Degrees of Laplacians : [2.0, 4.73684211, 3.15789474]\n",
      "Valuations            : [0.0, 0.63157895, 0.42105263]\n",
      "Quotient sizes        : [361, 361, 361]\n",
      "Characteristic        : -0.78947368\n",
      "\n",
      "===== With finite 23-quotient =====\n",
      "Degrees of Laplacians : [2.0, 4.95652174, 3.30434783]\n",
      "Valuations            : [0.0, 0.52173913, 0.34782609]\n",
      "Quotient sizes        : [529, 529, 529]\n",
      "Characteristic        : -0.82608696\n",
      "\n",
      "===== With finite 29-quotient =====\n",
      "Degrees of Laplacians : [2.0, 5.17241379, 3.44827586]\n",
      "Valuations            : [0.0, 0.4137931, 0.27586207]\n",
      "Quotient sizes        : [841, 841, 841]\n",
      "Characteristic        : -0.86206897\n",
      "\n"
     ]
    }
   ],
   "source": [
    "for i in range(10):\n",
    "    print(f\"===== With finite {Primes().unrank(i)}-quotient =====\")\n",
    "    exps = [0] * i + [1]\n",
    "    twisted_l2.characteristic(G, (0,0,1), cc, 6, exps)\n",
    "    print()"
   ]
  },
  {
   "cell_type": "markdown",
   "id": "d4e5852e-d94e-4cf3-b8db-4597670bb27b",
   "metadata": {},
   "source": [
    "Two observations about the above runs:\n",
    "\n",
    "1. the size of the finite quotient $L$ is $p^2$\n",
    "2. the valuations are $[0, \\frac{12}{p}, \\frac{8}{p}]$\n",
    "\n",
    "Valuations appear to tend to zero as $|L|^{-1/2}$.\\\n",
    "If we heuristically take $[0,0,0]$ as the exact values, the corresponding degrees of the Laplacians are $[2,6,4]$, so we infer\n",
    "\n",
    "$$\\chi^{(2)}(\\tilde{M}; \\phi) = -\\frac{1}{2} (0\\cdot 2 - 1\\cdot 6 + 2\\cdot 4) = -1.$$\n",
    "\n",
    "The exact same observations hold for the product of two such quotients (obtained from different primes):"
   ]
  },
  {
   "cell_type": "code",
   "execution_count": 8,
   "id": "5ade5da5-065b-4656-b029-54524cf50cf3",
   "metadata": {
    "collapsed": true,
    "jupyter": {
     "outputs_hidden": true
    },
    "tags": []
   },
   "outputs": [
    {
     "name": "stdout",
     "output_type": "stream",
     "text": [
      "===== 2-quotient x 3-quotient =====\n",
      "Degrees of Laplacians : [2.0, 2.0, 1.33333333]\n",
      "Valuations            : [0.0, 2.0, 1.33333333]\n",
      "Quotient sizes        : [36, 36, 36]\n",
      "Characteristic        : -0.33333333\n",
      "\n",
      "===== 2-quotient x 5-quotient =====\n",
      "Degrees of Laplacians : [2.0, 3.6, 2.4]\n",
      "Valuations            : [0.0, 1.2, 0.8]\n",
      "Quotient sizes        : [100, 100, 100]\n",
      "Characteristic        : -0.6\n",
      "\n",
      "===== 2-quotient x 7-quotient =====\n",
      "Degrees of Laplacians : [2.0, 4.28571429, 2.85714286]\n",
      "Valuations            : [0.0, 0.85714286, 0.57142857]\n",
      "Quotient sizes        : [196, 196, 196]\n",
      "Characteristic        : -0.71428571\n",
      "\n",
      "===== 2-quotient x 11-quotient =====\n",
      "Degrees of Laplacians : [2.0, 4.90909091, 3.27272727]\n",
      "Valuations            : [0.0, 0.54545455, 0.36363636]\n",
      "Quotient sizes        : [484, 484, 484]\n",
      "Characteristic        : -0.81818182\n",
      "\n",
      "===== 2-quotient x 13-quotient =====\n",
      "Degrees of Laplacians : [2.0, 5.07692308, 3.38461538]\n",
      "Valuations            : [0.0, 0.46153846, 0.30769231]\n",
      "Quotient sizes        : [676, 676, 676]\n",
      "Characteristic        : -0.84615385\n",
      "\n",
      "===== 3-quotient x 5-quotient =====\n",
      "Degrees of Laplacians : [2.0, 4.4, 2.93333333]\n",
      "Valuations            : [0.0, 0.8, 0.53333333]\n",
      "Quotient sizes        : [225, 225, 225]\n",
      "Characteristic        : -0.73333333\n",
      "\n",
      "===== 3-quotient x 7-quotient =====\n",
      "Degrees of Laplacians : [2.0, 4.85714286, 3.23809524]\n",
      "Valuations            : [0.0, 0.57142857, 0.38095238]\n",
      "Quotient sizes        : [441, 441, 441]\n",
      "Characteristic        : -0.80952381\n",
      "\n",
      "===== 3-quotient x 11-quotient =====\n",
      "Degrees of Laplacians : [2.0, 5.27272727, 3.51515152]\n",
      "Valuations            : [0.0, 0.36363636, 0.24242424]\n",
      "Quotient sizes        : [1089, 1089, 1089]\n",
      "Characteristic        : -0.87878788\n",
      "\n",
      "CPU times: user 2min 47s, sys: 96.5 ms, total: 2min 47s\n",
      "Wall time: 2min 48s\n"
     ]
    }
   ],
   "source": [
    "%%time\n",
    "for i in range(10):\n",
    "    for j in range(i+1, 10):\n",
    "        p = Primes().unrank(i)\n",
    "        q = Primes().unrank(j)\n",
    "        if p * q > 33:\n",
    "            continue\n",
    "        print(f\"===== {p}-quotient x {q}-quotient =====\")\n",
    "        exps = [0] * i + [1] + [0] * (j-i-1) + [1]\n",
    "        twisted_l2.characteristic(G, (0,0,1), cc, 6, exps)\n",
    "        print()"
   ]
  },
  {
   "cell_type": "markdown",
   "id": "83acab1a-e62e-4d44-98fb-9225f32cb665",
   "metadata": {},
   "source": [
    "In hindsight, since the true values of the valuations appear to be $[0,0,0]$,\\\n",
    "we could have chosen expansion parameter `n = 1`, which is much faster.\n",
    "\n",
    "Let's investigate what happens with more complicated quotients and `n = 1`.\\\n",
    "First, we look at products of $1$-nilpotent quotients (where max(`exps`) is $1$)."
   ]
  },
  {
   "cell_type": "code",
   "execution_count": 23,
   "id": "e0181c8f-c5aa-440c-a459-c6b56f3bb7db",
   "metadata": {
    "scrolled": true
   },
   "outputs": [
    {
     "name": "stdout",
     "output_type": "stream",
     "text": [
      "===== 2-quotient x 3-quotient =====\n",
      "Degrees of Laplacians : [2.0, 5.33333333, 3.33333333]\n",
      "Valuations            : [0.0, 0.33333333, 0.33333333]\n",
      "Quotient sizes        : [1, 36, 36]\n",
      "Characteristic        : -0.66666667\n",
      "\n",
      "===== 2-quotient x 5-quotient =====\n",
      "Degrees of Laplacians : [2.0, 5.6, 3.6]\n",
      "Valuations            : [0.0, 0.2, 0.2]\n",
      "Quotient sizes        : [1, 100, 100]\n",
      "Characteristic        : -0.8\n",
      "\n",
      "===== 2-quotient x 7-quotient =====\n",
      "Degrees of Laplacians : [2.0, 5.71428571, 3.71428571]\n",
      "Valuations            : [0.0, 0.14285714, 0.14285714]\n",
      "Quotient sizes        : [1, 196, 196]\n",
      "Characteristic        : -0.85714286\n",
      "\n",
      "===== 2-quotient x 11-quotient =====\n",
      "Degrees of Laplacians : [2.0, 5.81818182, 3.81818182]\n",
      "Valuations            : [0.0, 0.09090909, 0.09090909]\n",
      "Quotient sizes        : [1, 484, 484]\n",
      "Characteristic        : -0.90909091\n",
      "\n",
      "===== 2-quotient x 13-quotient =====\n",
      "Degrees of Laplacians : [2.0, 5.84615385, 3.84615385]\n",
      "Valuations            : [0.0, 0.07692308, 0.07692308]\n",
      "Quotient sizes        : [1, 676, 676]\n",
      "Characteristic        : -0.92307692\n",
      "\n",
      "===== 2-quotient x 17-quotient =====\n",
      "Degrees of Laplacians : [2.0, 5.88235294, 3.88235294]\n",
      "Valuations            : [0.0, 0.05882353, 0.05882353]\n",
      "Quotient sizes        : [1, 1156, 1156]\n",
      "Characteristic        : -0.94117647\n",
      "\n",
      "===== 2-quotient x 19-quotient =====\n",
      "Degrees of Laplacians : [2.0, 5.89473684, 3.89473684]\n",
      "Valuations            : [0.0, 0.05263158, 0.05263158]\n",
      "Quotient sizes        : [1, 1444, 1444]\n",
      "Characteristic        : -0.94736842\n",
      "\n",
      "===== 2-quotient x 23-quotient =====\n",
      "Degrees of Laplacians : [2.0, 5.91304348, 3.91304348]\n",
      "Valuations            : [0.0, 0.04347826, 0.04347826]\n",
      "Quotient sizes        : [1, 2116, 2116]\n",
      "Characteristic        : -0.95652174\n",
      "\n",
      "===== 2-quotient x 29-quotient =====\n",
      "Degrees of Laplacians : [2.0, 5.93103448, 3.93103448]\n",
      "Valuations            : [0.0, 0.03448276, 0.03448276]\n",
      "Quotient sizes        : [1, 3364, 3364]\n",
      "Characteristic        : -0.96551724\n",
      "\n",
      "===== 2-quotient x 31-quotient =====\n",
      "Degrees of Laplacians : [2.0, 5.93548387, 3.93548387]\n",
      "Valuations            : [0.0, 0.03225806, 0.03225806]\n",
      "Quotient sizes        : [1, 3844, 3844]\n",
      "Characteristic        : -0.96774194\n",
      "\n",
      "===== 3-quotient x 5-quotient =====\n",
      "Degrees of Laplacians : [2.0, 5.73333333, 3.73333333]\n",
      "Valuations            : [0.0, 0.13333333, 0.13333333]\n",
      "Quotient sizes        : [1, 225, 225]\n",
      "Characteristic        : -0.86666667\n",
      "\n",
      "===== 3-quotient x 7-quotient =====\n",
      "Degrees of Laplacians : [2.0, 5.80952381, 3.80952381]\n",
      "Valuations            : [0.0, 0.0952381, 0.0952381]\n",
      "Quotient sizes        : [1, 441, 441]\n",
      "Characteristic        : -0.9047619\n",
      "\n",
      "===== 3-quotient x 11-quotient =====\n",
      "Degrees of Laplacians : [2.0, 5.87878788, 3.87878788]\n",
      "Valuations            : [0.0, 0.06060606, 0.06060606]\n",
      "Quotient sizes        : [1, 1089, 1089]\n",
      "Characteristic        : -0.93939394\n",
      "\n",
      "===== 3-quotient x 13-quotient =====\n",
      "Degrees of Laplacians : [2.0, 5.8974359, 3.8974359]\n",
      "Valuations            : [0.0, 0.05128205, 0.05128205]\n",
      "Quotient sizes        : [1, 1521, 1521]\n",
      "Characteristic        : -0.94871795\n",
      "\n",
      "===== 3-quotient x 17-quotient =====\n",
      "Degrees of Laplacians : [2.0, 5.92156863, 3.92156863]\n",
      "Valuations            : [0.0, 0.03921569, 0.03921569]\n",
      "Quotient sizes        : [1, 2601, 2601]\n",
      "Characteristic        : -0.96078431\n",
      "\n",
      "===== 3-quotient x 19-quotient =====\n",
      "Degrees of Laplacians : [2.0, 5.92982456, 3.92982456]\n",
      "Valuations            : [0.0, 0.03508772, 0.03508772]\n",
      "Quotient sizes        : [1, 3249, 3249]\n",
      "Characteristic        : -0.96491228\n",
      "\n",
      "===== 3-quotient x 23-quotient =====\n",
      "Degrees of Laplacians : [2.0, 5.94202899, 3.94202899]\n",
      "Valuations            : [0.0, 0.02898551, 0.02898551]\n",
      "Quotient sizes        : [1, 4761, 4761]\n",
      "Characteristic        : -0.97101449\n",
      "\n",
      "===== 5-quotient x 7-quotient =====\n",
      "Degrees of Laplacians : [2.0, 5.88571429, 3.88571429]\n",
      "Valuations            : [0.0, 0.05714286, 0.05714286]\n",
      "Quotient sizes        : [1, 1225, 1225]\n",
      "Characteristic        : -0.94285714\n",
      "\n",
      "===== 5-quotient x 11-quotient =====\n",
      "Degrees of Laplacians : [2.0, 5.92727273, 3.92727273]\n",
      "Valuations            : [0.0, 0.03636364, 0.03636364]\n",
      "Quotient sizes        : [1, 3025, 3025]\n",
      "Characteristic        : -0.96363636\n",
      "\n",
      "===== 5-quotient x 13-quotient =====\n",
      "Degrees of Laplacians : [2.0, 5.93846154, 3.93846154]\n",
      "Valuations            : [0.0, 0.03076923, 0.03076923]\n",
      "Quotient sizes        : [1, 4225, 4225]\n",
      "Characteristic        : -0.96923077\n",
      "\n",
      "CPU times: user 9min 30s, sys: 26.6 ms, total: 9min 30s\n",
      "Wall time: 9min 31s\n"
     ]
    }
   ],
   "source": [
    "%%time\n",
    "for i in range(11):\n",
    "    for j in range(i+1, 11):\n",
    "        p = Primes().unrank(i)\n",
    "        q = Primes().unrank(j)\n",
    "        if p * q > 70:\n",
    "            continue\n",
    "        print(f\"===== {p}-quotient x {q}-quotient =====\")\n",
    "        exps = [0] * i + [1] + [0] * (j-i-1) + [1]\n",
    "        twisted_l2.characteristic(G, (0,0,1), cc, 1, exps)\n",
    "        print()"
   ]
  },
  {
   "cell_type": "code",
   "execution_count": 24,
   "id": "7cdb8bf6-89f7-422a-9ea9-f42349c2b8e8",
   "metadata": {},
   "outputs": [
    {
     "name": "stdout",
     "output_type": "stream",
     "text": [
      "===== Product of p-quotients, p = 2, 3, 5 =====\n",
      "Degrees of Laplacians : [2.0, 5.86666667, 3.86666667]\n",
      "Valuations            : [0.0, 0.06666667, 0.06666667]\n",
      "Quotient sizes        : [1, 900, 900]\n",
      "Characteristic        : -0.93333333\n",
      "\n",
      "===== Product of p-quotients, p = 2, 3, 7 =====\n",
      "Degrees of Laplacians : [2.0, 5.9047619, 3.9047619]\n",
      "Valuations            : [0.0, 0.04761905, 0.04761905]\n",
      "Quotient sizes        : [1, 1764, 1764]\n",
      "Characteristic        : -0.95238095\n",
      "\n",
      "===== Product of p-quotients, p = 2, 3, 11 =====\n",
      "Degrees of Laplacians : [2.0, 5.93939394, 3.93939394]\n",
      "Valuations            : [0.0, 0.03030303, 0.03030303]\n",
      "Quotient sizes        : [1, 4356, 4356]\n",
      "Characteristic        : -0.96969697\n",
      "\n",
      "===== Product of p-quotients, p = 2, 5, 7 =====\n",
      "Degrees of Laplacians : [2.0, 5.94285714, 3.94285714]\n",
      "Valuations            : [0.0, 0.02857143, 0.02857143]\n",
      "Quotient sizes        : [1, 4900, 4900]\n",
      "Characteristic        : -0.97142857\n",
      "\n",
      "CPU times: user 3min 58s, sys: 23.3 ms, total: 3min 58s\n",
      "Wall time: 3min 58s\n"
     ]
    }
   ],
   "source": [
    "%%time\n",
    "for exps in [(1,1,1), (1,1,0,1), (1,1,0,0,1), (1,0,1,1)]:\n",
    "    description_string = ', '.join(str(Primes().unrank(j)) for j,c in enumerate(exps) if c)\n",
    "    print(f\"===== Product of p-quotients, p = {description_string} =====\")\n",
    "    twisted_l2.characteristic(G, (0,0,1), cc, 1, exps)\n",
    "    print()"
   ]
  },
  {
   "cell_type": "markdown",
   "id": "3f595efb-270e-4dde-8713-5ea29b3166e7",
   "metadata": {},
   "source": [
    "In general, if $P$ is the product of the primes, we have $|L| = P^2$,\n",
    "except for the zeroth Laplacian, for which we obtain a trivial quotient.\\\n",
    "This is not a problem, because $\\Delta_0$ is a $1\\times 1$ matrix,\n",
    "and it is easy to see that its $\\phi$-degree is really $2$:"
   ]
  },
  {
   "cell_type": "code",
   "execution_count": 25,
   "id": "1b3c1ff1-c624-4fce-b9dc-9ac9e7149b2c",
   "metadata": {},
   "outputs": [
    {
     "data": {
      "text/plain": [
       "[6 - F[0]^-1 - F[0] - F[1]^-1 - F[1] - F[2]^-1 - F[2]]"
      ]
     },
     "execution_count": 25,
     "metadata": {},
     "output_type": "execute_result"
    }
   ],
   "source": [
    "twisted_l2.ga_adjoint(cc[0]) * cc[0]"
   ]
  },
  {
   "cell_type": "markdown",
   "id": "3b392a89-8c08-4dec-ab8f-464b85ef69e5",
   "metadata": {},
   "source": [
    "Indeed, its Dieudonné determinant is represented by its only entry, whose Newton polytope is an octahedron of thickness $2$ in the $(0,0,1)$ direction.\n",
    "\n",
    "As for the error, it seems to be always $2 / P$. Experimentally, the coefficient $2$ depends on `n`:\n",
    "\n",
    "|  n  | coeff |\n",
    "|:---:|:-----:|\n",
    "|  1  |   2   |\n",
    "|  2  |   4   |\n",
    "|  3  |   6   |\n",
    "|  4  |   8   |\n",
    "|  5  |   6   |\n",
    "|  6  |   4   |\n",
    "\n",
    "It seems that choosing `n` as low as possible, but still higher than the valuations, leads to a tighter estimate by the algorithm.\\\n",
    "The following cells show this dependence for `exps = (1,1,1)` and `exps = (1,1)` (other values can be chosen):"
   ]
  },
  {
   "cell_type": "code",
   "execution_count": 30,
   "id": "db530e31-dd01-4d3d-9d65-4c0665359ae3",
   "metadata": {
    "collapsed": true,
    "jupyter": {
     "outputs_hidden": true
    }
   },
   "outputs": [
    {
     "name": "stdout",
     "output_type": "stream",
     "text": [
      "===== n = 1 =====\n",
      "Degrees of Laplacians : [2.0, 5.86666667, 3.86666667]\n",
      "Valuations            : [0.0, 0.06666667, 0.06666667]\n",
      "Quotient sizes        : [1, 900, 900]\n",
      "Characteristic        : -0.93333333\n",
      "Error                 : 2/30\n",
      "\n",
      "===== n = 2 =====\n",
      "Degrees of Laplacians : [2.0, 5.73333333, 3.73333333]\n",
      "Valuations            : [0.0, 0.13333333, 0.13333333]\n",
      "Quotient sizes        : [900, 900, 900]\n",
      "Characteristic        : -0.86666667\n",
      "Error                 : 4/30\n",
      "\n",
      "===== n = 3 =====\n",
      "Degrees of Laplacians : [2.0, 5.6, 3.6]\n",
      "Valuations            : [0.0, 0.2, 0.2]\n",
      "Quotient sizes        : [900, 900, 900]\n",
      "Characteristic        : -0.8\n",
      "Error                 : 6/30\n",
      "\n",
      "===== n = 4 =====\n",
      "Degrees of Laplacians : [2.0, 5.46666667, 3.46666667]\n",
      "Valuations            : [0.0, 0.26666667, 0.26666667]\n",
      "Quotient sizes        : [900, 900, 900]\n",
      "Characteristic        : -0.73333333\n",
      "Error                 : 8/30\n",
      "\n",
      "===== n = 5 =====\n",
      "Degrees of Laplacians : [2.0, 5.33333333, 3.46666667]\n",
      "Valuations            : [0.0, 0.33333333, 0.26666667]\n",
      "Quotient sizes        : [900, 900, 900]\n",
      "Characteristic        : -0.8\n",
      "Error                 : 6/30\n",
      "\n",
      "===== n = 6 =====\n",
      "Degrees of Laplacians : [2.0, 5.2, 3.46666667]\n",
      "Valuations            : [0.0, 0.4, 0.26666667]\n",
      "Quotient sizes        : [900, 900, 900]\n",
      "Characteristic        : -0.86666667\n",
      "Error                 : 4/30\n",
      "\n",
      "CPU times: user 4min 2s, sys: 73 ms, total: 4min 2s\n",
      "Wall time: 4min 3s\n"
     ]
    }
   ],
   "source": [
    "%%time\n",
    "for j in range(1,7):\n",
    "    exps = (1,1,1)\n",
    "    P = product(Primes().unrank(k) for k,c in enumerate(exps) if c)\n",
    "    print(f\"===== n = {j} =====\")\n",
    "    char = twisted_l2.characteristic(G, (0,0,1), cc, j, exps)\n",
    "    error = char + 1\n",
    "    print(f\"Error                 : {error*P}/{P}\")\n",
    "    print()"
   ]
  },
  {
   "cell_type": "code",
   "execution_count": 31,
   "id": "69f777f2-b1ae-45bc-972c-84449dd492d8",
   "metadata": {
    "collapsed": true,
    "jupyter": {
     "outputs_hidden": true
    }
   },
   "outputs": [
    {
     "name": "stdout",
     "output_type": "stream",
     "text": [
      "===== n = 1 =====\n",
      "Degrees of Laplacians : [2.0, 5.33333333, 3.33333333]\n",
      "Valuations            : [0.0, 0.33333333, 0.33333333]\n",
      "Quotient sizes        : [1, 36, 36]\n",
      "Characteristic        : -0.66666667\n",
      "Error                 : 2/6\n",
      "\n",
      "===== n = 2 =====\n",
      "Degrees of Laplacians : [2.0, 4.66666667, 2.66666667]\n",
      "Valuations            : [0.0, 0.66666667, 0.66666667]\n",
      "Quotient sizes        : [36, 36, 36]\n",
      "Characteristic        : -0.33333333\n",
      "Error                 : 4/6\n",
      "\n",
      "===== n = 3 =====\n",
      "Degrees of Laplacians : [2.0, 4.0, 2.0]\n",
      "Valuations            : [0.0, 1.0, 1.0]\n",
      "Quotient sizes        : [36, 36, 36]\n",
      "Characteristic        : 0.0\n",
      "Error                 : 6/6\n",
      "\n",
      "===== n = 4 =====\n",
      "Degrees of Laplacians : [2.0, 3.33333333, 1.33333333]\n",
      "Valuations            : [0.0, 1.33333333, 1.33333333]\n",
      "Quotient sizes        : [36, 36, 36]\n",
      "Characteristic        : 0.33333333\n",
      "Error                 : 8/6\n",
      "\n",
      "===== n = 5 =====\n",
      "Degrees of Laplacians : [2.0, 2.66666667, 1.33333333]\n",
      "Valuations            : [0.0, 1.66666667, 1.33333333]\n",
      "Quotient sizes        : [36, 36, 36]\n",
      "Characteristic        : 0.0\n",
      "Error                 : 6/6\n",
      "\n",
      "===== n = 6 =====\n",
      "Degrees of Laplacians : [2.0, 2.0, 1.33333333]\n",
      "Valuations            : [0.0, 2.0, 1.33333333]\n",
      "Quotient sizes        : [36, 36, 36]\n",
      "Characteristic        : -0.33333333\n",
      "Error                 : 4/6\n",
      "\n",
      "===== n = 7 =====\n",
      "Degrees of Laplacians : [2.0, 2.0, 1.33333333]\n",
      "Valuations            : [0.0, 2.0, 1.33333333]\n",
      "Quotient sizes        : [36, 36, 36]\n",
      "Characteristic        : -0.33333333\n",
      "Error                 : 4/6\n",
      "\n",
      "===== n = 8 =====\n",
      "Degrees of Laplacians : [2.0, 2.0, 1.33333333]\n",
      "Valuations            : [0.0, 2.0, 1.33333333]\n",
      "Quotient sizes        : [36, 36, 36]\n",
      "Characteristic        : -0.33333333\n",
      "Error                 : 4/6\n",
      "\n",
      "===== n = 9 =====\n",
      "Degrees of Laplacians : [2.0, 2.0, 1.33333333]\n",
      "Valuations            : [0.0, 2.0, 1.33333333]\n",
      "Quotient sizes        : [36, 36, 36]\n",
      "Characteristic        : -0.33333333\n",
      "Error                 : 4/6\n",
      "\n",
      "CPU times: user 1.55 s, sys: 3.32 ms, total: 1.55 s\n",
      "Wall time: 1.55 s\n"
     ]
    }
   ],
   "source": [
    "%%time\n",
    "for j in range(1,10):\n",
    "    exps = (1,1)\n",
    "    P = product(Primes().unrank(k) for k,c in enumerate(exps) if c)\n",
    "    print(f\"===== n = {j} =====\")\n",
    "    char = twisted_l2.characteristic(G, (0,0,1), cc, j, exps)\n",
    "    error = char + 1\n",
    "    print(f\"Error                 : {error*P}/{P}\")\n",
    "    print()"
   ]
  },
  {
   "cell_type": "markdown",
   "id": "cf4ea140-0d52-46db-a98b-12ef8febd98b",
   "metadata": {},
   "source": [
    "More complicated quotients involve $2$-nilpotent groups:"
   ]
  },
  {
   "cell_type": "code",
   "execution_count": 37,
   "id": "01feb907-9511-4557-9d2c-0cbfbbdbaea0",
   "metadata": {},
   "outputs": [
    {
     "name": "stdout",
     "output_type": "stream",
     "text": [
      "===== exps = (2) =====\n",
      "Degrees of Laplacians : [2.0, 5.0, 2.703125]\n",
      "Valuations            : [0.0, 0.5, 0.6484375]\n",
      "Quotient sizes        : [1, 128, 128]\n",
      "Characteristic        : -0.203125\n",
      "Error * sqrt(|L|)     : 9.01561\n",
      "\n",
      "===== exps = (2, 1) =====\n",
      "Degrees of Laplacians : [2.0, 5.66666667, 3.52256944]\n",
      "Valuations            : [0.0, 0.16666667, 0.23871528]\n",
      "Quotient sizes        : [1, 1152, 1152]\n",
      "Characteristic        : -0.68923611\n",
      "Error * sqrt(|L|)     : 10.54768\n",
      "\n",
      "===== exps = (2, 0, 1) =====\n",
      "Degrees of Laplacians : [2.0, 5.8, 3.708125]\n",
      "Valuations            : [0.0, 0.1, 0.1459375]\n",
      "Quotient sizes        : [1, 3200, 3200]\n",
      "Characteristic        : -0.808125\n",
      "Error * sqrt(|L|)     : 10.85409\n",
      "\n",
      "===== exps = (0, 2) =====\n",
      "Degrees of Laplacians : [2.0, 5.55555556, 3.3397348]\n",
      "Valuations            : [0.0, 0.22222222, 0.3301326]\n",
      "Quotient sizes        : [1, 2187, 2187]\n",
      "Characteristic        : -0.56195702\n",
      "Error * sqrt(|L|)     : 20.48524\n",
      "\n",
      "CPU times: user 1min 57s, sys: 23.2 ms, total: 1min 57s\n",
      "Wall time: 1min 57s\n"
     ]
    }
   ],
   "source": [
    "%%time\n",
    "for exps in [(2,), (2,1), (2,0,1), (0,2)]:\n",
    "    description_string = ', '.join(str(c) for c in exps)\n",
    "    print(f\"===== exps = ({description_string}) =====\")\n",
    "    char = twisted_l2.characteristic(G, (0,0,1), cc, 1, exps)\n",
    "    # retrieve the size of L for the second Laplacian (the first also works)\n",
    "    Ls = twisted_l2.get_twisted_l2_logs()[2].Lsize.sage()\n",
    "    print(f\"Error * sqrt(|L|)     : {float((char + 1)*sqrt(Ls)):.5f}\")\n",
    "    print()"
   ]
  },
  {
   "cell_type": "markdown",
   "id": "8fa88a20-d11c-4a94-bf62-50399b56290f",
   "metadata": {},
   "source": [
    "Assuming that these quotients fit the same $O(|L|^{-1/2})$ trend for the errors,\\\n",
    "the coefficients are around $10$ when there's a $2$-nilpotent $2$-group in the product,\n",
    "and around $20$ when there's a $2$-nilpotent $3$-group.\n",
    "\n",
    "The simpler max(`exps`) = $1$ case gives better results, which is surprising as the quotients in that case are abelian.\\\n",
    "Abelian quotients give an approximation of the _Alexander norm_, which is not equal to the Thurston norm in general.\n",
    "\n",
    "For the Borromean rings complement, they _are_ equal, and the unit ball is an octahedron with vertices at permutations of $(\\pm 1,0,0)$.\\\n",
    "The norm is determined by the following values of the twisted $L^2$-Euler characteristic:\n",
    "- $(\\pm 1, \\phantom{\\pm} 0, \\phantom{\\pm} 0) \\mapsto -1$\n",
    "- $(\\phantom{\\pm} 0, \\pm 1, \\phantom{\\pm} 0) \\mapsto -1$\n",
    "- $(\\phantom{\\pm} 0, \\phantom{\\pm} 0, \\pm 1) \\mapsto -1$\n",
    "- $(\\pm 1, \\pm 1, \\pm 1) \\mapsto -3$"
   ]
  },
  {
   "cell_type": "markdown",
   "id": "78ec5601-c0cb-4ed6-b8ea-3d33da02449b",
   "metadata": {},
   "source": [
    "### The unit ball"
   ]
  },
  {
   "cell_type": "markdown",
   "id": "d671cda0-e127-40dd-ba8d-d401910bd069",
   "metadata": {},
   "source": [
    "Because of this equality of norms, to compute the unit ball, it is acceptable to use abelian $1$-nilpotent $p$-quotients.\n",
    "\n",
    "Suppose the algorithm returns a value within $1/4$ of an integer (as we have seen, this happens frequently).\\\n",
    "If the error is $<3/4$, then $\\chi^{(2)}(\\tilde M; \\phi)$ is exactly `round(twisted_l2.characteristic(...))`.\n",
    "\n",
    "Heuristically:\n",
    "- the error bound is of the form $C \\cdot |L|^{-1/2}$\n",
    "- we can take $C = 20$ (much higher than the coefficients in the $1$-nilpotent case)\n",
    "\n",
    "so we need $20 \\cdot |L|^{-1/2} < 3/4$, or $|L| \\ge 712$.\n",
    "This is done by choosing e.g. $p = 29$, leading to $|L| = 29^2 = 841$."
   ]
  },
  {
   "cell_type": "markdown",
   "id": "e6351d8c-6215-49ee-a01c-e9cb21624cfa",
   "metadata": {},
   "source": [
    "[Note: $L\\simeq \\mathbb Z_{29}^2$ will be a subgroup of a finite quotient of $G$ isomorphic to $\\mathbb Z_{29}^3$. See the next cell.]"
   ]
  },
  {
   "cell_type": "code",
   "execution_count": 41,
   "id": "09a191dc-6dd4-4b65-ad53-2e5de3ded176",
   "metadata": {
    "collapsed": true,
    "jupyter": {
     "outputs_hidden": true,
     "source_hidden": true
    },
    "tags": []
   },
   "outputs": [
    {
     "name": "stdout",
     "output_type": "stream",
     "text": [
      "  p | finite quotient \n",
      "----|-----------------\n",
      "  2 | C2 x C2 x C2\n",
      "  3 | C3 x C3 x C3\n",
      "  5 | C5 x C5 x C5\n",
      "  7 | C7 x C7 x C7\n",
      " 11 | C11 x C11 x C11\n",
      " 13 | C13 x C13 x C13\n",
      " 17 | C17 x C17 x C17\n",
      " 19 | C19 x C19 x C19\n",
      " 23 | C23 x C23 x C23\n",
      " 29 | C29 x C29 x C29\n"
     ]
    }
   ],
   "source": [
    "print(\"  p | finite quotient \")\n",
    "print(\"----|-----------------\")\n",
    "for i in range(10):\n",
    "    exps = tuple([0]*i + [1])\n",
    "    _, Fin = twisted_l2.finite_quotient(G, exps)\n",
    "    print(f\" {Primes().unrank(i) :>2} | {Fin.StructureDescription()}\")"
   ]
  },
  {
   "cell_type": "code",
   "execution_count": 42,
   "id": "87a6586d-8adc-4cc4-a327-4c898f717815",
   "metadata": {
    "tags": []
   },
   "outputs": [],
   "source": [
    "exps29 = (0,0,0,0,0,0,0,0,0,1)"
   ]
  },
  {
   "cell_type": "code",
   "execution_count": 44,
   "id": "d35461f6-e133-4975-955a-9a50ce12f885",
   "metadata": {
    "tags": []
   },
   "outputs": [
    {
     "name": "stdout",
     "output_type": "stream",
     "text": [
      "===== (1, 0, 0) =====\n",
      "----- n = 1 -----\n",
      "Degrees of Laplacians : [2.0, 5.86206897, 3.86206897]\n",
      "Valuations            : [0.0, 0.06896552, 0.06896552]\n",
      "Quotient sizes        : [1, 841, 841]\n",
      "Characteristic        : -0.93103448\n",
      "----- n = 2 -----\n",
      "Degrees of Laplacians : [2.0, 5.72413793, 3.72413793]\n",
      "Valuations            : [0.0, 0.13793103, 0.13793103]\n",
      "Quotient sizes        : [841, 841, 841]\n",
      "Characteristic        : -0.86206897\n",
      "\n",
      "===== (0, 1, 0) =====\n",
      "----- n = 1 -----\n",
      "Degrees of Laplacians : [2.0, 5.86206897, 3.86206897]\n",
      "Valuations            : [0.0, 0.06896552, 0.06896552]\n",
      "Quotient sizes        : [1, 841, 841]\n",
      "Characteristic        : -0.93103448\n",
      "----- n = 2 -----\n",
      "Degrees of Laplacians : [2.0, 5.72413793, 3.72413793]\n",
      "Valuations            : [0.0, 0.13793103, 0.13793103]\n",
      "Quotient sizes        : [841, 841, 841]\n",
      "Characteristic        : -0.86206897\n",
      "\n",
      "===== (0, 0, 1) =====\n",
      "----- n = 1 -----\n",
      "Degrees of Laplacians : [2.0, 5.86206897, 3.86206897]\n",
      "Valuations            : [0.0, 0.06896552, 0.06896552]\n",
      "Quotient sizes        : [1, 841, 841]\n",
      "Characteristic        : -0.93103448\n",
      "----- n = 2 -----\n",
      "Degrees of Laplacians : [2.0, 5.72413793, 3.72413793]\n",
      "Valuations            : [0.0, 0.13793103, 0.13793103]\n",
      "Quotient sizes        : [841, 841, 841]\n",
      "Characteristic        : -0.86206897\n",
      "\n",
      "CPU times: user 1min 10s, sys: 3.31 ms, total: 1min 10s\n",
      "Wall time: 1min 10s\n"
     ]
    }
   ],
   "source": [
    "%%time\n",
    "for v in [(1,0,0), (0,1,0), (0,0,1)]:\n",
    "    print(f\"===== {v} =====\")\n",
    "    print(f\"----- n = 1 -----\")\n",
    "    twisted_l2.characteristic(G, v, cc, 1, exps29)\n",
    "    print(f\"----- n = 2 -----\")\n",
    "    twisted_l2.characteristic(G, v, cc, 2, exps29)\n",
    "    print(flush=True)"
   ]
  },
  {
   "cell_type": "markdown",
   "id": "d7f7c32c-c3fc-4623-b73e-af78231f9a1b",
   "metadata": {},
   "source": [
    "For all three points, the valuations stabilize at $[0,0,0]$ when increasing `n`. So, in hindsight, `n = 1` suffices.\\\n",
    "Since the Thurston norm is an even function, we infer _six_ values:\n",
    "\n",
    "- $(\\pm 1, \\phantom{\\pm} 0, \\phantom{\\pm} 0) \\mapsto -1$\n",
    "- $(\\phantom{\\pm} 0, \\pm 1, \\phantom{\\pm} 0) \\mapsto -1$\n",
    "- $(\\phantom{\\pm} 0, \\phantom{\\pm} 0, \\pm 1) \\mapsto -1$\n",
    "\n",
    "We try $4$ more values of $\\phi$:"
   ]
  },
  {
   "cell_type": "code",
   "execution_count": 46,
   "id": "6f32ed49-d24c-4833-bc9b-2b6e62c4e55f",
   "metadata": {
    "tags": []
   },
   "outputs": [
    {
     "name": "stdout",
     "output_type": "stream",
     "text": [
      "===== (1, 1, 1) =====\n",
      "----- n = 1 -----\n",
      "Degrees of Laplacians : [2.0, 10.0, 8.0]\n",
      "Valuations            : [0.0, 1.0, 0.0]\n",
      "Quotient sizes        : [841, 841, 841]\n",
      "Characteristic        : -3.0\n",
      "----- n = 2 -----\n",
      "Degrees of Laplacians : [2.0, 10.0, 8.0]\n",
      "Valuations            : [0.0, 1.0, 0.0]\n",
      "Quotient sizes        : [841, 841, 841]\n",
      "Characteristic        : -3.0\n",
      "----- n = 3 -----\n",
      "Degrees of Laplacians : [2.0, 10.0, 8.0]\n",
      "Valuations            : [0.0, 1.0, 0.0]\n",
      "Quotient sizes        : [841, 841, 841]\n",
      "Characteristic        : -3.0\n",
      "\n",
      "===== (-1, 1, 1) =====\n",
      "----- n = 1 -----\n",
      "Degrees of Laplacians : [2.0, 12.0, 8.0]\n",
      "Valuations            : [0.0, 1.0, 0.0]\n",
      "Quotient sizes        : [841, 841, 841]\n",
      "Characteristic        : -2.0\n",
      "----- n = 2 -----\n",
      "Degrees of Laplacians : [2.0, 10.0, 8.0]\n",
      "Valuations            : [0.0, 2.0, 0.0]\n",
      "Quotient sizes        : [841, 841, 841]\n",
      "Characteristic        : -3.0\n",
      "----- n = 3 -----\n",
      "Degrees of Laplacians : [2.0, 10.0, 8.0]\n",
      "Valuations            : [0.0, 2.0, 0.0]\n",
      "Quotient sizes        : [841, 841, 841]\n",
      "Characteristic        : -3.0\n",
      "\n",
      "===== (1, -1, 1) =====\n",
      "----- n = 1 -----\n",
      "Degrees of Laplacians : [2.0, 12.0, 8.0]\n",
      "Valuations            : [0.0, 1.0, 0.0]\n",
      "Quotient sizes        : [841, 841, 841]\n",
      "Characteristic        : -2.0\n",
      "----- n = 2 -----\n",
      "Degrees of Laplacians : [2.0, 10.0, 8.0]\n",
      "Valuations            : [0.0, 2.0, 0.0]\n",
      "Quotient sizes        : [841, 841, 841]\n",
      "Characteristic        : -3.0\n",
      "----- n = 3 -----\n",
      "Degrees of Laplacians : [2.0, 10.0, 8.0]\n",
      "Valuations            : [0.0, 2.0, 0.0]\n",
      "Quotient sizes        : [841, 841, 841]\n",
      "Characteristic        : -3.0\n",
      "\n",
      "===== (1, 1, -1) =====\n",
      "----- n = 1 -----\n",
      "Degrees of Laplacians : [2.0, 12.0, 8.0]\n",
      "Valuations            : [0.0, 1.0, 0.0]\n",
      "Quotient sizes        : [841, 841, 841]\n",
      "Characteristic        : -2.0\n",
      "----- n = 2 -----\n",
      "Degrees of Laplacians : [2.0, 10.0, 8.0]\n",
      "Valuations            : [0.0, 2.0, 0.0]\n",
      "Quotient sizes        : [841, 841, 841]\n",
      "Characteristic        : -3.0\n",
      "----- n = 3 -----\n",
      "Degrees of Laplacians : [2.0, 10.0, 8.0]\n",
      "Valuations            : [0.0, 2.0, 0.0]\n",
      "Quotient sizes        : [841, 841, 841]\n",
      "Characteristic        : -3.0\n",
      "\n",
      "CPU times: user 3min 59s, sys: 16.6 ms, total: 3min 59s\n",
      "Wall time: 3min 59s\n"
     ]
    }
   ],
   "source": [
    "%%time\n",
    "for v in [(1,1,1), (-1,1,1), (1,-1,1), (1,1,-1)]:\n",
    "    print(f\"===== {v} =====\")\n",
    "    for j in (1,2,3):\n",
    "        print(f\"----- n = {j} -----\")\n",
    "        twisted_l2.characteristic(G, v, cc, j, exps29)\n",
    "    print(flush=True)"
   ]
  },
  {
   "cell_type": "markdown",
   "id": "d6fe9651-28e0-4c66-a36b-e46443a4e5c6",
   "metadata": {},
   "source": [
    "Again, the valuations stabilize, so we get the _eight_ values\n",
    "\n",
    "- $(\\pm 1, \\pm 1, \\pm 1) \\mapsto -3$\n",
    "\n",
    "The Thurston norm (which is $-\\chi^{(2)}(\\dots)$) is determined by these $14$ values."
   ]
  },
  {
   "cell_type": "markdown",
   "id": "07ae297e-58b3-4ad2-917a-0808f5000838",
   "metadata": {},
   "source": [
    "Finally, we can double check the $19$ nontrivial $\\phi \\in \\{-1,0,1\\}^3$ that we didn't explicitly compute:"
   ]
  },
  {
   "cell_type": "code",
   "execution_count": 48,
   "id": "f0733c4c-6709-4baf-bdd6-3663c6dade9f",
   "metadata": {
    "tags": []
   },
   "outputs": [
    {
     "name": "stdout",
     "output_type": "stream",
     "text": [
      "===== (-1, 0, 0) =====\n",
      "----- n = 1 -----\n",
      "Degrees of Laplacians : [2.0, 5.86206897, 3.86206897]\n",
      "Valuations            : [0.0, 0.06896552, 0.06896552]\n",
      "Quotient sizes        : [1, 841, 841]\n",
      "Characteristic        : -0.93103448\n",
      "----- n = 2 -----\n",
      "Degrees of Laplacians : [2.0, 5.72413793, 3.72413793]\n",
      "Valuations            : [0.0, 0.13793103, 0.13793103]\n",
      "Quotient sizes        : [841, 841, 841]\n",
      "Characteristic        : -0.86206897\n",
      "\n",
      "===== (0, -1, 0) =====\n",
      "----- n = 1 -----\n",
      "Degrees of Laplacians : [2.0, 5.86206897, 3.86206897]\n",
      "Valuations            : [0.0, 0.06896552, 0.06896552]\n",
      "Quotient sizes        : [1, 841, 841]\n",
      "Characteristic        : -0.93103448\n",
      "----- n = 2 -----\n",
      "Degrees of Laplacians : [2.0, 5.72413793, 3.72413793]\n",
      "Valuations            : [0.0, 0.13793103, 0.13793103]\n",
      "Quotient sizes        : [841, 841, 841]\n",
      "Characteristic        : -0.86206897\n",
      "\n",
      "===== (0, 0, -1) =====\n",
      "----- n = 1 -----\n",
      "Degrees of Laplacians : [2.0, 5.86206897, 3.86206897]\n",
      "Valuations            : [0.0, 0.06896552, 0.06896552]\n",
      "Quotient sizes        : [1, 841, 841]\n",
      "Characteristic        : -0.93103448\n",
      "----- n = 2 -----\n",
      "Degrees of Laplacians : [2.0, 5.72413793, 3.72413793]\n",
      "Valuations            : [0.0, 0.13793103, 0.13793103]\n",
      "Quotient sizes        : [841, 841, 841]\n",
      "Characteristic        : -0.86206897\n",
      "\n",
      "===== (1, 1, 0) =====\n",
      "----- n = 1 -----\n",
      "Degrees of Laplacians : [2.0, 7.93103448, 6.0]\n",
      "Valuations            : [0.0, 0.03448276, 1.0]\n",
      "Quotient sizes        : [29, 841, 29]\n",
      "Characteristic        : -2.03448276\n",
      "----- n = 2 -----\n",
      "Degrees of Laplacians : [2.0, 7.86206897, 5.93103448]\n",
      "Valuations            : [0.0, 0.06896552, 1.03448276]\n",
      "Quotient sizes        : [841, 841, 841]\n",
      "Characteristic        : -2.0\n",
      "\n",
      "===== (1, 0, 1) =====\n",
      "----- n = 1 -----\n",
      "Degrees of Laplacians : [2.0, 7.93103448, 6.0]\n",
      "Valuations            : [0.0, 0.03448276, 1.0]\n",
      "Quotient sizes        : [29, 841, 29]\n",
      "Characteristic        : -2.03448276\n",
      "----- n = 2 -----\n",
      "Degrees of Laplacians : [2.0, 7.86206897, 5.93103448]\n",
      "Valuations            : [0.0, 0.06896552, 1.03448276]\n",
      "Quotient sizes        : [841, 841, 841]\n",
      "Characteristic        : -2.0\n",
      "\n",
      "===== (1, -1, 0) =====\n",
      "----- n = 1 -----\n",
      "Degrees of Laplacians : [2.0, 8.0, 6.0]\n",
      "Valuations            : [0.0, 1.0, 1.0]\n",
      "Quotient sizes        : [29, 841, 29]\n",
      "Characteristic        : -2.0\n",
      "----- n = 2 -----\n",
      "Degrees of Laplacians : [2.0, 7.93103448, 5.93103448]\n",
      "Valuations            : [0.0, 1.03448276, 1.03448276]\n",
      "Quotient sizes        : [841, 841, 841]\n",
      "Characteristic        : -1.96551724\n",
      "\n",
      "===== (-1, 1, 0) =====\n",
      "----- n = 1 -----\n",
      "Degrees of Laplacians : [2.0, 8.0, 6.0]\n",
      "Valuations            : [0.0, 1.0, 1.0]\n",
      "Quotient sizes        : [29, 841, 29]\n",
      "Characteristic        : -2.0\n",
      "----- n = 2 -----\n",
      "Degrees of Laplacians : [2.0, 7.93103448, 5.93103448]\n",
      "Valuations            : [0.0, 1.03448276, 1.03448276]\n",
      "Quotient sizes        : [841, 841, 841]\n",
      "Characteristic        : -1.96551724\n",
      "\n",
      "===== (0, 1, -1) =====\n",
      "----- n = 1 -----\n",
      "Degrees of Laplacians : [2.0, 8.0, 6.0]\n",
      "Valuations            : [0.0, 1.0, 1.0]\n",
      "Quotient sizes        : [29, 841, 29]\n",
      "Characteristic        : -2.0\n",
      "----- n = 2 -----\n",
      "Degrees of Laplacians : [2.0, 7.93103448, 5.93103448]\n",
      "Valuations            : [0.0, 1.03448276, 1.03448276]\n",
      "Quotient sizes        : [841, 841, 841]\n",
      "Characteristic        : -1.96551724\n",
      "\n",
      "===== (-1, -1, 0) =====\n",
      "----- n = 1 -----\n",
      "Degrees of Laplacians : [2.0, 8.0, 6.0]\n",
      "Valuations            : [0.0, 2.0, 1.0]\n",
      "Quotient sizes        : [29, 841, 29]\n",
      "Characteristic        : -2.0\n",
      "----- n = 2 -----\n",
      "Degrees of Laplacians : [2.0, 7.93103448, 5.93103448]\n",
      "Valuations            : [0.0, 2.03448276, 1.03448276]\n",
      "Quotient sizes        : [841, 841, 841]\n",
      "Characteristic        : -1.96551724\n",
      "\n",
      "===== (1, 0, -1) =====\n",
      "----- n = 1 -----\n",
      "Degrees of Laplacians : [2.0, 8.0, 5.93103448]\n",
      "Valuations            : [0.0, 1.0, 0.03448276]\n",
      "Quotient sizes        : [29, 841, 841]\n",
      "Characteristic        : -1.93103448\n",
      "----- n = 2 -----\n",
      "Degrees of Laplacians : [2.0, 7.93103448, 5.86206897]\n",
      "Valuations            : [0.0, 1.03448276, 0.06896552]\n",
      "Quotient sizes        : [841, 841, 841]\n",
      "Characteristic        : -1.89655172\n",
      "\n",
      "===== (-1, 0, 1) =====\n",
      "----- n = 1 -----\n",
      "Degrees of Laplacians : [2.0, 8.0, 5.93103448]\n",
      "Valuations            : [0.0, 1.0, 0.03448276]\n",
      "Quotient sizes        : [29, 841, 841]\n",
      "Characteristic        : -1.93103448\n",
      "----- n = 2 -----\n",
      "Degrees of Laplacians : [2.0, 7.93103448, 5.86206897]\n",
      "Valuations            : [0.0, 1.03448276, 0.06896552]\n",
      "Quotient sizes        : [841, 841, 841]\n",
      "Characteristic        : -1.89655172\n",
      "\n",
      "===== (-1, 0, -1) =====\n",
      "----- n = 1 -----\n",
      "Degrees of Laplacians : [2.0, 8.0, 5.93103448]\n",
      "Valuations            : [0.0, 1.0, 0.03448276]\n",
      "Quotient sizes        : [29, 841, 841]\n",
      "Characteristic        : -1.93103448\n",
      "----- n = 2 -----\n",
      "Degrees of Laplacians : [2.0, 7.93103448, 5.86206897]\n",
      "Valuations            : [0.0, 1.03448276, 0.06896552]\n",
      "Quotient sizes        : [841, 841, 841]\n",
      "Characteristic        : -1.89655172\n",
      "\n",
      "===== (0, -1, 1) =====\n",
      "----- n = 1 -----\n",
      "Degrees of Laplacians : [2.0, 8.0, 5.93103448]\n",
      "Valuations            : [0.0, 1.0, 0.03448276]\n",
      "Quotient sizes        : [29, 841, 841]\n",
      "Characteristic        : -1.93103448\n",
      "----- n = 2 -----\n",
      "Degrees of Laplacians : [2.0, 7.93103448, 5.86206897]\n",
      "Valuations            : [0.0, 1.03448276, 0.06896552]\n",
      "Quotient sizes        : [841, 841, 841]\n",
      "Characteristic        : -1.89655172\n",
      "\n",
      "===== (0, 1, 1) =====\n",
      "----- n = 1 -----\n",
      "Degrees of Laplacians : [2.0, 7.93103448, 5.93103448]\n",
      "Valuations            : [0.0, 0.03448276, 0.03448276]\n",
      "Quotient sizes        : [29, 841, 841]\n",
      "Characteristic        : -1.96551724\n",
      "----- n = 2 -----\n",
      "Degrees of Laplacians : [2.0, 7.86206897, 5.86206897]\n",
      "Valuations            : [0.0, 0.06896552, 0.06896552]\n",
      "Quotient sizes        : [841, 841, 841]\n",
      "Characteristic        : -1.93103448\n",
      "\n",
      "===== (0, -1, -1) =====\n",
      "----- n = 1 -----\n",
      "Degrees of Laplacians : [2.0, 8.0, 5.93103448]\n",
      "Valuations            : [0.0, 2.0, 0.03448276]\n",
      "Quotient sizes        : [29, 841, 841]\n",
      "Characteristic        : -1.93103448\n",
      "----- n = 2 -----\n",
      "Degrees of Laplacians : [2.0, 7.93103448, 5.86206897]\n",
      "Valuations            : [0.0, 2.03448276, 0.06896552]\n",
      "Quotient sizes        : [841, 841, 841]\n",
      "Characteristic        : -1.89655172\n",
      "\n",
      "===== (-1, -1, 1) =====\n",
      "----- n = 1 -----\n",
      "Degrees of Laplacians : [2.0, 12.0, 8.0]\n",
      "Valuations            : [0.0, 2.0, 0.0]\n",
      "Quotient sizes        : [841, 29, 841]\n",
      "Characteristic        : -2.0\n",
      "----- n = 2 -----\n",
      "Degrees of Laplacians : [2.0, 10.0, 8.0]\n",
      "Valuations            : [0.0, 3.0, 0.0]\n",
      "Quotient sizes        : [841, 841, 841]\n",
      "Characteristic        : -3.0\n",
      "----- n = 3 -----\n",
      "Degrees of Laplacians : [2.0, 10.0, 8.0]\n",
      "Valuations            : [0.0, 3.0, 0.0]\n",
      "Quotient sizes        : [841, 841, 841]\n",
      "Characteristic        : -3.0\n",
      "\n",
      "===== (-1, 1, -1) =====\n",
      "----- n = 1 -----\n",
      "Degrees of Laplacians : [2.0, 12.0, 8.0]\n",
      "Valuations            : [0.0, 1.0, 0.0]\n",
      "Quotient sizes        : [841, 841, 841]\n",
      "Characteristic        : -2.0\n",
      "----- n = 2 -----\n",
      "Degrees of Laplacians : [2.0, 10.0, 8.0]\n",
      "Valuations            : [0.0, 2.0, 0.0]\n",
      "Quotient sizes        : [841, 841, 841]\n",
      "Characteristic        : -3.0\n",
      "----- n = 3 -----\n",
      "Degrees of Laplacians : [2.0, 10.0, 8.0]\n",
      "Valuations            : [0.0, 2.0, 0.0]\n",
      "Quotient sizes        : [841, 841, 841]\n",
      "Characteristic        : -3.0\n",
      "\n",
      "===== (1, -1, -1) =====\n",
      "----- n = 1 -----\n",
      "Degrees of Laplacians : [2.0, 12.0, 8.0]\n",
      "Valuations            : [0.0, 1.0, 0.0]\n",
      "Quotient sizes        : [841, 841, 841]\n",
      "Characteristic        : -2.0\n",
      "----- n = 2 -----\n",
      "Degrees of Laplacians : [2.0, 10.0, 8.0]\n",
      "Valuations            : [0.0, 2.0, 0.0]\n",
      "Quotient sizes        : [841, 841, 841]\n",
      "Characteristic        : -3.0\n",
      "----- n = 3 -----\n",
      "Degrees of Laplacians : [2.0, 10.0, 8.0]\n",
      "Valuations            : [0.0, 2.0, 0.0]\n",
      "Quotient sizes        : [841, 841, 841]\n",
      "Characteristic        : -3.0\n",
      "\n",
      "===== (-1, -1, -1) =====\n",
      "----- n = 1 -----\n",
      "Degrees of Laplacians : [2.0, 10.0, 8.0]\n",
      "Valuations            : [0.0, 1.0, 0.0]\n",
      "Quotient sizes        : [841, 841, 841]\n",
      "Characteristic        : -3.0\n",
      "----- n = 2 -----\n",
      "Degrees of Laplacians : [2.0, 10.0, 8.0]\n",
      "Valuations            : [0.0, 1.0, 0.0]\n",
      "Quotient sizes        : [841, 841, 841]\n",
      "Characteristic        : -3.0\n",
      "----- n = 3 -----\n",
      "Degrees of Laplacians : [2.0, 10.0, 8.0]\n",
      "Valuations            : [0.0, 1.0, 0.0]\n",
      "Quotient sizes        : [841, 841, 841]\n",
      "Characteristic        : -3.0\n",
      "\n",
      "CPU times: user 9min 17s, sys: 45.8 ms, total: 9min 17s\n",
      "Wall time: 9min 17s\n"
     ]
    }
   ],
   "source": [
    "%%time\n",
    "\n",
    "n2 = [(-1, 0, 0), ( 0,-1, 0), ( 0, 0,-1), ( 1, 1, 0), ( 1, 0, 1),\n",
    "      ( 1,-1, 0), (-1, 1, 0), ( 0, 1,-1), (-1,-1, 0), ( 1, 0,-1),\n",
    "      (-1, 0, 1), (-1, 0,-1), ( 0,-1, 1), ( 0, 1, 1), ( 0,-1,-1)]\n",
    "# ^ their valuations stabilize with n = 2\n",
    "\n",
    "n3 = [(-1,-1, 1), (-1, 1,-1), ( 1,-1,-1), (-1,-1,-1)]\n",
    "# ^ their valuations stabilize with n = 3\n",
    "\n",
    "for v in n2:\n",
    "    print(f\"===== {v} =====\")\n",
    "    for j in (1,2):\n",
    "        print(f\"----- n = {j} -----\")\n",
    "        twisted_l2.characteristic(G, v, cc, j, exps29)\n",
    "    print(flush=True)\n",
    "\n",
    "for v in n3:\n",
    "    print(f\"===== {v} =====\")\n",
    "    for j in (1,2,3):\n",
    "        print(f\"----- n = {j} -----\")\n",
    "        twisted_l2.characteristic(G, v, cc, j, exps29)\n",
    "    print(flush=True)"
   ]
  }
 ],
 "metadata": {
  "kernelspec": {
   "display_name": "SageMath 10.3",
   "language": "sage",
   "name": "sagemath"
  },
  "language_info": {
   "codemirror_mode": {
    "name": "ipython",
    "version": 3
   },
   "file_extension": ".py",
   "mimetype": "text/x-python",
   "name": "python",
   "nbconvert_exporter": "python",
   "pygments_lexer": "ipython3",
   "version": "3.12.3"
  }
 },
 "nbformat": 4,
 "nbformat_minor": 5
}
