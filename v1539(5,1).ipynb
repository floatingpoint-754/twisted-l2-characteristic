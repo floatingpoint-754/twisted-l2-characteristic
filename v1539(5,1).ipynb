{
 "cells": [
  {
   "cell_type": "markdown",
   "id": "00b67e32-dcc4-416b-9cd8-a0d465702abd",
   "metadata": {},
   "source": [
    "# The manifold v1539(5,1)"
   ]
  },
  {
   "cell_type": "code",
   "execution_count": 1,
   "id": "cc4b7212-99bf-4ca0-beb7-37bcfc790684",
   "metadata": {},
   "outputs": [
    {
     "name": "stdout",
     "output_type": "stream",
     "text": [
      "\r"
     ]
    }
   ],
   "source": [
    "import twisted_l2\n",
    "import regina\n",
    "import snappy"
   ]
  },
  {
   "cell_type": "markdown",
   "id": "7f518618-f6ed-48fe-9e44-b8dd87ca34ce",
   "metadata": {},
   "source": [
    "## Compute the chain complex of the universal cover:"
   ]
  },
  {
   "cell_type": "code",
   "execution_count": 5,
   "id": "6cc43c91-c544-4c54-85c3-b6cb063bfe5f",
   "metadata": {
    "tags": []
   },
   "outputs": [
    {
     "data": {
      "text/plain": [
       "true"
      ]
     },
     "execution_count": 5,
     "metadata": {},
     "output_type": "execute_result"
    }
   ],
   "source": [
    "twisted_l2.load_hap()"
   ]
  },
  {
   "cell_type": "code",
   "execution_count": 6,
   "id": "165c9528-e218-4e35-855f-4fa25612c299",
   "metadata": {},
   "outputs": [],
   "source": [
    "mfd = snappy.Manifold(\"v1539(5,1)\")\n",
    "tri = regina.Triangulation3(mfd.filled_triangulation())"
   ]
  },
  {
   "cell_type": "code",
   "execution_count": 5,
   "id": "e3f97003-a254-4379-80ba-fc5d479405b1",
   "metadata": {},
   "outputs": [],
   "source": [
    "fl = twisted_l2.regina_tri_to_face_lattice(tri, ideal=False)"
   ]
  },
  {
   "cell_type": "code",
   "execution_count": 6,
   "id": "93612d5a-1a01-4c1c-be93-f4dedabd5451",
   "metadata": {},
   "outputs": [],
   "source": [
    "cw = twisted_l2.cw_complex(fl)"
   ]
  },
  {
   "cell_type": "code",
   "execution_count": 7,
   "id": "f1c11488-568f-49c0-810f-09a7224269bb",
   "metadata": {},
   "outputs": [
    {
     "name": "stdout",
     "output_type": "stream",
     "text": [
      "Number of cells in each dimension:\n",
      "0: 74\n",
      "1: 506\n",
      "2: 864\n",
      "3: 432\n"
     ]
    }
   ],
   "source": [
    "number_of_cells = twisted_l2.gap_member(cw, \"nrCells\")\n",
    "print(\"Number of cells in each dimension:\")\n",
    "for j in range(4):\n",
    "    print(f\"{j}: {number_of_cells(j)}\")"
   ]
  },
  {
   "cell_type": "code",
   "execution_count": 8,
   "id": "2df6dd72-45be-47a2-abc4-996cb326bec5",
   "metadata": {},
   "outputs": [
    {
     "name": "stdout",
     "output_type": "stream",
     "text": [
      "CPU times: user 70.5 ms, sys: 171 µs, total: 70.7 ms\n",
      "Wall time: 70.6 ms\n"
     ]
    }
   ],
   "source": [
    "%time chain_complex = twisted_l2.equivariant_cc(cw, gap=False)"
   ]
  },
  {
   "cell_type": "code",
   "execution_count": 9,
   "id": "d83de8f7-8e61-4ec7-bfb3-bdf24e3e4836",
   "metadata": {},
   "outputs": [
    {
     "data": {
      "text/plain": [
       "[1, 2, 2, 1, 0]"
      ]
     },
     "execution_count": 9,
     "metadata": {},
     "output_type": "execute_result"
    }
   ],
   "source": [
    "[chain_complex.dimension(i) for i in range(5)]"
   ]
  },
  {
   "cell_type": "code",
   "execution_count": 10,
   "id": "ad2352e8-25cc-4bb3-8c19-1e79e2497184",
   "metadata": {},
   "outputs": [],
   "source": [
    "G = twisted_l2.get_fundamental_group(chain_complex)"
   ]
  },
  {
   "cell_type": "code",
   "execution_count": 11,
   "id": "1d83ca0c-9b3f-4e20-ab48-b195fb650a82",
   "metadata": {},
   "outputs": [],
   "source": [
    "cc = twisted_l2.get_differentials(chain_complex)"
   ]
  },
  {
   "cell_type": "markdown",
   "id": "936b583f-e611-4e6f-a1f6-f12230d8734e",
   "metadata": {},
   "source": [
    "The variable `chain_complex` wraps a GAP object,\n",
    "while `cc` is simply a list of matrices over the group algebra of `G`. \\\n",
    "Actually, for technical reasons, we use the free group on the generators of `G` instead of `G` itself.\n",
    "\n",
    "The above cell is equivalent to\n",
    "```\n",
    "cc = [twisted_l2.boundary_operator(chain_complex, i, G) for i in range(1, 4)]\n",
    "```"
   ]
  },
  {
   "cell_type": "markdown",
   "id": "afa97b80-56bc-4491-b98a-01d6c32c1308",
   "metadata": {},
   "source": [
    "## Or load precomputed data:"
   ]
  },
  {
   "cell_type": "markdown",
   "id": "fb32bb82-c1b5-4ceb-8e70-807ad0812d5b",
   "metadata": {},
   "source": [
    "We can also save/load the group and chain complex.\\\n",
    "This is useful to deal with non-deterministic results from CW complex simplifications etc."
   ]
  },
  {
   "cell_type": "markdown",
   "id": "385f1d87-a340-4adc-9e41-ebbd2091c111",
   "metadata": {},
   "source": [
    "Here we use the simpler chain complex with a $2\\times 2$ second differential (see also the notebook `matrix-rank.ipynb`)."
   ]
  },
  {
   "cell_type": "code",
   "execution_count": 2,
   "id": "f9de8070-8363-45f6-a56f-b41fdc584684",
   "metadata": {
    "tags": []
   },
   "outputs": [],
   "source": [
    "# twisted_l2.save_to_file(\"data/v1539-5-1-2x2-2.json\", group=G, cc=cc)\n",
    "G, cc = twisted_l2.load_from_file(\"data/v1539-5-1-2x2.json\")"
   ]
  },
  {
   "cell_type": "code",
   "execution_count": 3,
   "id": "6ef8f698-43bc-4080-9723-0a7998dedbee",
   "metadata": {},
   "outputs": [
    {
     "data": {
      "text/plain": [
       "(0, 0)"
      ]
     },
     "execution_count": 3,
     "metadata": {},
     "output_type": "execute_result"
    }
   ],
   "source": [
    "G.abelian_invariants()"
   ]
  },
  {
   "cell_type": "code",
   "execution_count": 4,
   "id": "93012d34-6e65-412d-b0bc-1af5a10ca9ea",
   "metadata": {
    "tags": []
   },
   "outputs": [
    {
     "data": {
      "text/plain": [
       "Finitely presented group < x0, x1 | x1^-4*x0^2*(x1^-1*x0^-1)^3*x1^-1*x0^2*x1^5*x0^2*x1^-1*x0^-3*x1^4, (x1*x0^-2*x1*x0^3)^2*x1*x0^-2*x1^-5 >"
      ]
     },
     "execution_count": 4,
     "metadata": {},
     "output_type": "execute_result"
    }
   ],
   "source": [
    "G"
   ]
  },
  {
   "cell_type": "code",
   "execution_count": 5,
   "id": "343e42ae-dc86-4b4a-b580-63da469ec771",
   "metadata": {
    "tags": []
   },
   "outputs": [],
   "source": [
    "# Choose the desired configuration (see \"configs.py\")\n",
    "twisted_l2.configs.LogOptions.LEVEL = twisted_l2.MINIMAL"
   ]
  },
  {
   "cell_type": "markdown",
   "id": "e2192833-9296-4b38-9990-dcea96d61b4a",
   "metadata": {},
   "source": [
    "We start with the points $(1,0)$, $(0,1)$, $(1,1)$, $(1,-1)$.\\\n",
    "We use `exps = (0,2)` since the valuations and degrees are exact integers, so they are probably the correct values.\n",
    "\n",
    "As always, if two values of `n` give the same valuations, then the smaller `n` is sufficient (since valuations are concave non-decreasing in `n`)."
   ]
  },
  {
   "cell_type": "markdown",
   "id": "1482bd05-94f9-4342-80c9-46621e596b92",
   "metadata": {},
   "source": [
    "### v = (1,0)"
   ]
  },
  {
   "cell_type": "markdown",
   "id": "5bddc887-e110-42a1-a314-f93d30edf4da",
   "metadata": {},
   "source": [
    "Start with `n = 4`:"
   ]
  },
  {
   "cell_type": "code",
   "execution_count": 7,
   "id": "8a318ce9-8858-4e00-925d-25bcdaca1c85",
   "metadata": {
    "scrolled": true,
    "tags": []
   },
   "outputs": [
    {
     "name": "stdout",
     "output_type": "stream",
     "text": [
      "Degrees of Laplacians : [2.0, 10.0, 10.0, 2.0]\n",
      "Valuations            : [0.0, 2.0, 4.0, 0.0]\n",
      "Quotient sizes        : [9, 27, 27, 27]\n",
      "Characteristic        : -2.0\n",
      "CPU times: user 270 ms, sys: 3.04 ms, total: 273 ms\n",
      "Wall time: 282 ms\n"
     ]
    },
    {
     "data": {
      "text/plain": [
       "-2"
      ]
     },
     "execution_count": 7,
     "metadata": {},
     "output_type": "execute_result"
    }
   ],
   "source": [
    "%time twisted_l2.characteristic(G, (1,0), cc, 4, (0,2))"
   ]
  },
  {
   "cell_type": "markdown",
   "id": "f6c97ae6-c229-4b0e-ad5c-4c68f3f22aa1",
   "metadata": {},
   "source": [
    "How about a much higher value?"
   ]
  },
  {
   "cell_type": "code",
   "execution_count": 8,
   "id": "605e78f6-2944-472e-a23c-82c1210c76de",
   "metadata": {
    "tags": []
   },
   "outputs": [
    {
     "name": "stdout",
     "output_type": "stream",
     "text": [
      "Degrees of Laplacians : [2.0, 10.0, 10.0, 2.0]\n",
      "Valuations            : [0.0, 2.0, 4.0, 0.0]\n",
      "Quotient sizes        : [9, 27, 27, 27]\n",
      "Characteristic        : -2.0\n",
      "CPU times: user 2.08 s, sys: 8.66 ms, total: 2.09 s\n",
      "Wall time: 2.09 s\n"
     ]
    },
    {
     "data": {
      "text/plain": [
       "-2"
      ]
     },
     "execution_count": 8,
     "metadata": {},
     "output_type": "execute_result"
    }
   ],
   "source": [
    "%time twisted_l2.characteristic(G, (1,0), cc, 11, (0,2))"
   ]
  },
  {
   "cell_type": "markdown",
   "id": "1c422ee6-81cc-42d8-b1f0-ff1fd79f4415",
   "metadata": {},
   "source": [
    "It seems that valuations have stabilized. So we take $-2$ as the value."
   ]
  },
  {
   "cell_type": "markdown",
   "id": "147b8211-6593-4c22-bede-d38592515384",
   "metadata": {},
   "source": [
    "### v = (0,1)"
   ]
  },
  {
   "cell_type": "markdown",
   "id": "38878995-b740-4059-a4c2-7be46feedd58",
   "metadata": {},
   "source": [
    "Here we need `n = 10`:"
   ]
  },
  {
   "cell_type": "code",
   "execution_count": 9,
   "id": "822b7ffc-9b27-4455-9003-a284fa5c0777",
   "metadata": {
    "tags": []
   },
   "outputs": [
    {
     "name": "stdout",
     "output_type": "stream",
     "text": [
      "Degrees of Laplacians : [2.0, 12.0, 14.0, 4.0]\n",
      "Valuations            : [0.0, 6.0, 10.0, 0.0]\n",
      "Quotient sizes        : [9, 27, 27, 27]\n",
      "Characteristic        : -2.0\n",
      "CPU times: user 951 ms, sys: 2.36 ms, total: 954 ms\n",
      "Wall time: 954 ms\n"
     ]
    },
    {
     "data": {
      "text/plain": [
       "-2"
      ]
     },
     "execution_count": 9,
     "metadata": {},
     "output_type": "execute_result"
    }
   ],
   "source": [
    "%time twisted_l2.characteristic(G, (0,1), cc, 10, (0,2))"
   ]
  },
  {
   "cell_type": "code",
   "execution_count": 10,
   "id": "2a13ccd6-113d-4fa3-a55c-a9308bf572e4",
   "metadata": {
    "tags": []
   },
   "outputs": [
    {
     "name": "stdout",
     "output_type": "stream",
     "text": [
      "Degrees of Laplacians : [2.0, 12.0, 14.0, 4.0]\n",
      "Valuations            : [0.0, 6.0, 10.0, 0.0]\n",
      "Quotient sizes        : [9, 27, 27, 27]\n",
      "Characteristic        : -2.0\n",
      "CPU times: user 1.1 s, sys: 0 ns, total: 1.1 s\n",
      "Wall time: 1.11 s\n"
     ]
    },
    {
     "data": {
      "text/plain": [
       "-2"
      ]
     },
     "execution_count": 10,
     "metadata": {},
     "output_type": "execute_result"
    }
   ],
   "source": [
    "%time twisted_l2.characteristic(G, (0,1), cc, 11, (0,2))"
   ]
  },
  {
   "cell_type": "markdown",
   "id": "99a08400-1805-4ee8-8412-5f3bc29933d7",
   "metadata": {},
   "source": [
    "The value is again $-2$."
   ]
  },
  {
   "cell_type": "markdown",
   "id": "f0742634-a9e8-4fc2-ba27-96413cf29780",
   "metadata": {},
   "source": [
    "### v = (1,1)"
   ]
  },
  {
   "cell_type": "markdown",
   "id": "ad8ae620-939f-4f16-adbb-2f2ddf8923c4",
   "metadata": {},
   "source": [
    "Here we need `n = 11`:"
   ]
  },
  {
   "cell_type": "code",
   "execution_count": 11,
   "id": "03bba783-99c1-43ea-8f6a-820b24b4e3b2",
   "metadata": {
    "tags": []
   },
   "outputs": [
    {
     "name": "stdout",
     "output_type": "stream",
     "text": [
      "Degrees of Laplacians : [2.0, 18.0, 22.0, 6.0]\n",
      "Valuations            : [0.0, 7.0, 11.0, 0.0]\n",
      "Quotient sizes        : [27, 27, 27, 27]\n",
      "Characteristic        : -4.0\n",
      "CPU times: user 899 ms, sys: 0 ns, total: 899 ms\n",
      "Wall time: 900 ms\n"
     ]
    },
    {
     "data": {
      "text/plain": [
       "-4"
      ]
     },
     "execution_count": 11,
     "metadata": {},
     "output_type": "execute_result"
    }
   ],
   "source": [
    "%time twisted_l2.characteristic(G, (1,1), cc, 11, (0,2))"
   ]
  },
  {
   "cell_type": "code",
   "execution_count": 12,
   "id": "f5d43e9d-7df3-4296-a494-fd35600f13dd",
   "metadata": {
    "tags": []
   },
   "outputs": [
    {
     "name": "stdout",
     "output_type": "stream",
     "text": [
      "Degrees of Laplacians : [2.0, 18.0, 22.0, 6.0]\n",
      "Valuations            : [0.0, 7.0, 11.0, 0.0]\n",
      "Quotient sizes        : [27, 27, 27, 27]\n",
      "Characteristic        : -4.0\n",
      "CPU times: user 1.08 s, sys: 0 ns, total: 1.08 s\n",
      "Wall time: 1.08 s\n"
     ]
    },
    {
     "data": {
      "text/plain": [
       "-4"
      ]
     },
     "execution_count": 12,
     "metadata": {},
     "output_type": "execute_result"
    }
   ],
   "source": [
    "%time twisted_l2.characteristic(G, (1,1), cc, 12, (0,2))"
   ]
  },
  {
   "cell_type": "markdown",
   "id": "dab4d25b-92b6-48f7-b0e6-9ba72b982238",
   "metadata": {},
   "source": [
    "...obtaining $-4$."
   ]
  },
  {
   "cell_type": "markdown",
   "id": "418f6780-5f84-4404-94b7-7dfcef117708",
   "metadata": {
    "tags": []
   },
   "source": [
    "### v = (1,-1)"
   ]
  },
  {
   "cell_type": "markdown",
   "id": "5522aa4e-15be-405a-8815-cb5d7727fe09",
   "metadata": {},
   "source": [
    "Here we need `n = 16`:"
   ]
  },
  {
   "cell_type": "code",
   "execution_count": 13,
   "id": "e10be645-02bf-4a31-bb4f-41ae2775a35d",
   "metadata": {
    "tags": []
   },
   "outputs": [
    {
     "name": "stdout",
     "output_type": "stream",
     "text": [
      "Degrees of Laplacians : [2.0, 10.0, 10.0, 2.0]\n",
      "Valuations            : [0.0, 10.0, 16.0, 0.0]\n",
      "Quotient sizes        : [27, 27, 27, 27]\n",
      "Characteristic        : -2.0\n",
      "CPU times: user 2.07 s, sys: 6.23 ms, total: 2.08 s\n",
      "Wall time: 2.08 s\n"
     ]
    },
    {
     "data": {
      "text/plain": [
       "-2"
      ]
     },
     "execution_count": 13,
     "metadata": {},
     "output_type": "execute_result"
    }
   ],
   "source": [
    "%time twisted_l2.characteristic(G, (1,-1), cc, 16, (0,2))"
   ]
  },
  {
   "cell_type": "code",
   "execution_count": 15,
   "id": "7f2ecfe8-f54e-4249-bbf0-28bdf78d6d9f",
   "metadata": {
    "tags": []
   },
   "outputs": [
    {
     "name": "stdout",
     "output_type": "stream",
     "text": [
      "Degrees of Laplacians : [2.0, 10.0, 10.0, 2.0]\n",
      "Valuations            : [0.0, 10.0, 16.0, 0.0]\n",
      "Quotient sizes        : [27, 27, 27, 27]\n",
      "Characteristic        : -2.0\n",
      "CPU times: user 2.34 s, sys: 6.4 ms, total: 2.34 s\n",
      "Wall time: 2.35 s\n"
     ]
    },
    {
     "data": {
      "text/plain": [
       "-2"
      ]
     },
     "execution_count": 15,
     "metadata": {},
     "output_type": "execute_result"
    }
   ],
   "source": [
    "%time twisted_l2.characteristic(G, (1,-1), cc, 17, (0,2))"
   ]
  },
  {
   "cell_type": "markdown",
   "id": "9b557749-dc1b-43c1-af6e-bd2c09a79ef6",
   "metadata": {},
   "source": [
    "### Plot"
   ]
  },
  {
   "cell_type": "markdown",
   "id": "32d1ad02-c7fa-4309-9afa-d3544b454df6",
   "metadata": {},
   "source": [
    "For now, considering that the Thurston norm is an even function, we have $8$ points on the boundary of the unit ball:\n",
    "\n",
    "- $(\\pm 1/2, 0)$\n",
    "- $(0, \\pm 1/2)$\n",
    "- $(\\pm 1/4, \\pm 1/4)$\n",
    "- $(\\pm 1/2, \\mp 1/2)$"
   ]
  },
  {
   "cell_type": "code",
   "execution_count": 31,
   "id": "2593c145-b404-41f4-826c-f82514ccad4a",
   "metadata": {},
   "outputs": [
    {
     "data": {
      "image/png": "[encoded data removed]",
      "text/plain": [
       "Graphics object consisting of 3 graphics primitives"
      ]
     },
     "metadata": {},
     "output_type": "display_data"
    }
   ],
   "source": [
    "show(\n",
    "    list_plot([(1/2,0), (-1/2,0), (0,1/2), (0,-1/2),\n",
    "                (1/4, 1/4), (-1/4, -1/4), (1/2, -1/2), (-1/2, 1/2)],\n",
    "               aspect_ratio=1, size=50, xmin = -1, xmax = 1, ymin = -1, ymax = 1,\n",
    "               title = \"Known points and segments on the boundary\")\n",
    "    + line([(1/2,0), (0,1/2)])\n",
    "    + line([(-1/2,0), (0,-1/2)])\n",
    ")"
   ]
  },
  {
   "cell_type": "markdown",
   "id": "2802afc5-63ce-4f14-ab5a-4f80fc1dd69f",
   "metadata": {},
   "source": [
    "There's still some ambiguity. Let's test $(2,-1)$."
   ]
  },
  {
   "cell_type": "markdown",
   "id": "cd5a3ef3-ee1f-4b4b-8f0b-8cd0e59653a0",
   "metadata": {},
   "source": [
    "### v = (2,-1)"
   ]
  },
  {
   "cell_type": "markdown",
   "id": "c6f1a3b9-9601-49cb-8561-8abe2c8ef9be",
   "metadata": {},
   "source": [
    "We need `n = 18` for the valuations to stabilize:"
   ]
  },
  {
   "cell_type": "code",
   "execution_count": 32,
   "id": "e6be4ff0-7a7a-4064-97fb-2d0a7b49f25c",
   "metadata": {
    "tags": []
   },
   "outputs": [
    {
     "name": "stdout",
     "output_type": "stream",
     "text": [
      "Degrees of Laplacians : [4.0, 14.0, 12.0, 2.0]\n",
      "Valuations            : [0.0, 9.0, 18.0, 0.0]\n",
      "Quotient sizes        : [27, 27, 27, 27]\n",
      "Characteristic        : -2.0\n",
      "CPU times: user 2.44 s, sys: 13.2 ms, total: 2.46 s\n",
      "Wall time: 2.46 s\n"
     ]
    },
    {
     "data": {
      "text/plain": [
       "-2"
      ]
     },
     "execution_count": 32,
     "metadata": {},
     "output_type": "execute_result"
    }
   ],
   "source": [
    "%time twisted_l2.characteristic(G, (2,-1), cc, 18, (0,2))"
   ]
  },
  {
   "cell_type": "code",
   "execution_count": 33,
   "id": "217dd746-b7a9-4cb5-b3c1-a52d29a8332b",
   "metadata": {
    "tags": []
   },
   "outputs": [
    {
     "name": "stdout",
     "output_type": "stream",
     "text": [
      "Degrees of Laplacians : [4.0, 14.0, 12.0, 2.0]\n",
      "Valuations            : [0.0, 9.0, 18.0, 0.0]\n",
      "Quotient sizes        : [27, 27, 27, 27]\n",
      "Characteristic        : -2.0\n",
      "CPU times: user 2.68 s, sys: 3.12 ms, total: 2.68 s\n",
      "Wall time: 2.69 s\n"
     ]
    },
    {
     "data": {
      "text/plain": [
       "-2"
      ]
     },
     "execution_count": 33,
     "metadata": {},
     "output_type": "execute_result"
    }
   ],
   "source": [
    "%time twisted_l2.characteristic(G, (2,-1), cc, 19, (0,2))"
   ]
  },
  {
   "cell_type": "markdown",
   "id": "49d40573-6ba6-4a81-98a8-b73e4105ef82",
   "metadata": {},
   "source": [
    "Let's add the final points to the plot:"
   ]
  },
  {
   "cell_type": "code",
   "execution_count": 1,
   "id": "21b7f271-300c-4744-94f2-cb286959d364",
   "metadata": {},
   "outputs": [
    {
     "data": {
      "image/png": "[encoded data removed]",
      "text/plain": [
       "Graphics object consisting of 3 graphics primitives"
      ]
     },
     "metadata": {},
     "output_type": "display_data"
    }
   ],
   "source": [
    "show(\n",
    "    list_plot([(1/2,0), (-1/2,0), (0,1/2), (0,-1/2),\n",
    "               (1/4, 1/4), (-1/4, -1/4), (1/2, -1/2), (-1/2, 1/2),\n",
    "               (1,-1/2), (-1,1/2)],\n",
    "               aspect_ratio=1, size=50, xmin = -1, xmax = 1, ymin = -1, ymax = 1,\n",
    "               title = \"Thurston seminorm\")\n",
    "    + polygon([(1,-1/2), (0,1/2), (-1,1/2), (0,-1/2), (1,-1/2)], alpha=0.2)\n",
    "    + polygon([(1,-1/2), (0,1/2), (-1,1/2), (0,-1/2), (1,-1/2)], fill=False)\n",
    ")"
   ]
  },
  {
   "cell_type": "markdown",
   "id": "b19d27f9-a3ad-47f2-8ba0-7ae23b1307a0",
   "metadata": {},
   "source": [
    "This also suggests that $(1/4, -1/2)$ is on the boundary, that is, that $(1, -2)$ has twisted $L^2$-Euler characteristic $-4$.\n",
    "\n",
    "Let's double check:"
   ]
  },
  {
   "cell_type": "code",
   "execution_count": 40,
   "id": "b1615d86-f0fd-4067-ac3d-f34a62277806",
   "metadata": {
    "tags": []
   },
   "outputs": [
    {
     "name": "stdout",
     "output_type": "stream",
     "text": [
      "Degrees of Laplacians : [4.0, 22.0, 46.0, 6.0]\n",
      "Valuations            : [0.0, 18.0, 18.0, 0.0]\n",
      "Quotient sizes        : [27, 27, 27, 27]\n",
      "Characteristic        : -26.0\n",
      "CPU times: user 1.84 s, sys: 0 ns, total: 1.84 s\n",
      "Wall time: 1.84 s\n"
     ]
    },
    {
     "data": {
      "text/plain": [
       "-26"
      ]
     },
     "execution_count": 40,
     "metadata": {},
     "output_type": "execute_result"
    }
   ],
   "source": [
    "%time twisted_l2.characteristic(G, (1,-2), cc, 18, (0,2))"
   ]
  },
  {
   "cell_type": "code",
   "execution_count": 41,
   "id": "4e1d0535-407f-4833-b154-22db1c8e9c4d",
   "metadata": {
    "tags": []
   },
   "outputs": [
    {
     "name": "stdout",
     "output_type": "stream",
     "text": [
      "Degrees of Laplacians : [4.0, 22.0, 34.0, 6.0]\n",
      "Valuations            : [0.0, 18.0, 24.0, 0.0]\n",
      "Quotient sizes        : [27, 27, 27, 27]\n",
      "Characteristic        : -14.0\n",
      "CPU times: user 3.71 s, sys: 0 ns, total: 3.71 s\n",
      "Wall time: 3.71 s\n"
     ]
    },
    {
     "data": {
      "text/plain": [
       "-14"
      ]
     },
     "execution_count": 41,
     "metadata": {},
     "output_type": "execute_result"
    }
   ],
   "source": [
    "%time twisted_l2.characteristic(G, (1,-2), cc, 24, (0,2))"
   ]
  },
  {
   "cell_type": "code",
   "execution_count": 42,
   "id": "fe9c8706-3c1d-4814-b03b-44721c5d1e68",
   "metadata": {
    "tags": []
   },
   "outputs": [
    {
     "name": "stdout",
     "output_type": "stream",
     "text": [
      "Degrees of Laplacians : [4.0, 22.0, 32.0, 6.0]\n",
      "Valuations            : [0.0, 18.0, 25.0, 0.0]\n",
      "Quotient sizes        : [27, 27, 27, 27]\n",
      "Characteristic        : -12.0\n",
      "CPU times: user 3.95 s, sys: 0 ns, total: 3.95 s\n",
      "Wall time: 3.96 s\n"
     ]
    },
    {
     "data": {
      "text/plain": [
       "-12"
      ]
     },
     "execution_count": 42,
     "metadata": {},
     "output_type": "execute_result"
    }
   ],
   "source": [
    "%time twisted_l2.characteristic(G, (1,-2), cc, 25, (0,2))"
   ]
  },
  {
   "cell_type": "markdown",
   "id": "3488069d-2bec-414d-bb34-305f050c64f0",
   "metadata": {},
   "source": [
    "Still increasing..."
   ]
  },
  {
   "cell_type": "code",
   "execution_count": 43,
   "id": "e1852444-7b0a-4525-a911-40af6b57318f",
   "metadata": {
    "tags": []
   },
   "outputs": [
    {
     "name": "stdout",
     "output_type": "stream",
     "text": [
      "Degrees of Laplacians : [4.0, 22.0, 26.0, 6.0]\n",
      "Valuations            : [0.0, 18.0, 28.0, 0.0]\n",
      "Quotient sizes        : [27, 27, 27, 27]\n",
      "Characteristic        : -6.0\n",
      "CPU times: user 5.15 s, sys: 0 ns, total: 5.15 s\n",
      "Wall time: 5.16 s\n"
     ]
    },
    {
     "data": {
      "text/plain": [
       "-6"
      ]
     },
     "execution_count": 43,
     "metadata": {},
     "output_type": "execute_result"
    }
   ],
   "source": [
    "%time twisted_l2.characteristic(G, (1,-2), cc, 28, (0,2))"
   ]
  },
  {
   "cell_type": "code",
   "execution_count": 46,
   "id": "09c5a240-446a-4210-b178-e14aab9e1362",
   "metadata": {
    "tags": []
   },
   "outputs": [
    {
     "name": "stdout",
     "output_type": "stream",
     "text": [
      "Degrees of Laplacians : [4.0, 22.0, 24.0, 6.0]\n",
      "Valuations            : [0.0, 18.0, 29.0, 0.0]\n",
      "Quotient sizes        : [27, 27, 27, 27]\n",
      "Characteristic        : -4.0\n",
      "CPU times: user 5.74 s, sys: 3.27 ms, total: 5.74 s\n",
      "Wall time: 5.75 s\n"
     ]
    },
    {
     "data": {
      "text/plain": [
       "-4"
      ]
     },
     "execution_count": 46,
     "metadata": {},
     "output_type": "execute_result"
    }
   ],
   "source": [
    "%time twisted_l2.characteristic(G, (1,-2), cc, 29, (0,2))"
   ]
  },
  {
   "cell_type": "code",
   "execution_count": 47,
   "id": "bf4dbced-14fc-49ea-b0c7-15d08e39799a",
   "metadata": {
    "tags": []
   },
   "outputs": [
    {
     "name": "stdout",
     "output_type": "stream",
     "text": [
      "Degrees of Laplacians : [4.0, 22.0, 24.0, 6.0]\n",
      "Valuations            : [0.0, 18.0, 29.0, 0.0]\n",
      "Quotient sizes        : [27, 27, 27, 27]\n",
      "Characteristic        : -4.0\n",
      "CPU times: user 6.07 s, sys: 3.26 ms, total: 6.08 s\n",
      "Wall time: 6.09 s\n"
     ]
    },
    {
     "data": {
      "text/plain": [
       "-4"
      ]
     },
     "execution_count": 47,
     "metadata": {},
     "output_type": "execute_result"
    }
   ],
   "source": [
    "%time twisted_l2.characteristic(G, (1,-2), cc, 30, (0,2))"
   ]
  },
  {
   "cell_type": "markdown",
   "id": "4be80bc6-b0d9-416c-8e74-f785686d89b5",
   "metadata": {},
   "source": [
    "Indeed, the valuations stabilize at `n = 29`, with a return value of $-4$."
   ]
  },
  {
   "cell_type": "markdown",
   "id": "7218264c-f5aa-4a02-ace0-dc1bac97da7e",
   "metadata": {},
   "source": [
    "### Alexander norm"
   ]
  },
  {
   "cell_type": "markdown",
   "id": "eb44057b-617c-4b06-9ba8-18b8df313663",
   "metadata": {},
   "source": [
    "What is the finite quotient of size $27$?"
   ]
  },
  {
   "cell_type": "code",
   "execution_count": 48,
   "id": "26dac558-4b0d-4378-8f73-e243566e2fa7",
   "metadata": {},
   "outputs": [],
   "source": [
    "log_objects = twisted_l2.get_twisted_l2_logs()"
   ]
  },
  {
   "cell_type": "code",
   "execution_count": 49,
   "id": "f64ca302-edd3-4008-a87a-b307ebeca18c",
   "metadata": {},
   "outputs": [
    {
     "data": {
      "text/plain": [
       "[\"C9 x C3\", \"C9 x C3\", \"C9 x C3\", \"C9 x C3\"]"
      ]
     },
     "execution_count": 49,
     "metadata": {},
     "output_type": "execute_result"
    }
   ],
   "source": [
    "[lo.L.StructureDescription() for lo in log_objects]"
   ]
  },
  {
   "cell_type": "markdown",
   "id": "8840e6d3-509f-4834-b5be-d8844d56f8f2",
   "metadata": {},
   "source": [
    "It is abelian! Fortunately, it's not a problem here, since the Alexander and Thurston norms are equal."
   ]
  },
  {
   "cell_type": "markdown",
   "id": "232b84f7-f446-4331-8bf4-85d744bb4327",
   "metadata": {},
   "source": [
    "First, we show that the basis in which `v` is written is dual to the generators of $G$ (call them $a$, $b$):"
   ]
  },
  {
   "cell_type": "code",
   "execution_count": 52,
   "id": "a1f003a7-ba86-440f-8ad0-b96edb256cc3",
   "metadata": {},
   "outputs": [
    {
     "data": {
      "text/plain": [
       "[1, 0]"
      ]
     },
     "execution_count": 52,
     "metadata": {},
     "output_type": "execute_result"
    }
   ],
   "source": [
    "twisted_l2.make_phi_from_coordinates(G, [1,0], as_list = True)"
   ]
  },
  {
   "cell_type": "code",
   "execution_count": 53,
   "id": "d0bb212b-7739-4da7-b571-4ba5cd0018ed",
   "metadata": {},
   "outputs": [
    {
     "data": {
      "text/plain": [
       "[0, 1]"
      ]
     },
     "execution_count": 53,
     "metadata": {},
     "output_type": "execute_result"
    }
   ],
   "source": [
    "twisted_l2.make_phi_from_coordinates(G, [0,1], as_list = True)"
   ]
  },
  {
   "cell_type": "markdown",
   "id": "27bc04f8-dcb5-4b60-bd71-b68226f4c575",
   "metadata": {},
   "source": [
    "This means that $(\\phi_{(1,0)}(a), \\phi_{(1,0)}(b)) = (1,0)$ and $(\\phi_{(0,1)}(a), \\phi_{(0,1)}(b)) = (0,1)$, as we wished.\\\n",
    "Now, we compute the Alexander polynomial of $G$ with respect to the generators:"
   ]
  },
  {
   "cell_type": "code",
   "execution_count": 73,
   "id": "4fc7850a-6b70-45bc-b6a9-9d1d8a2642d6",
   "metadata": {},
   "outputs": [],
   "source": [
    "R.<a,b> = PolynomialRing(QQ)\n",
    "A = G.alexander_matrix([a,b])"
   ]
  },
  {
   "cell_type": "code",
   "execution_count": 74,
   "id": "3e9a6036-3339-4fa5-b19e-b186912ae710",
   "metadata": {},
   "outputs": [
    {
     "data": {
      "text/plain": [
       "[                                     (a^3*b^5 - a^3*b^4 + a^2*b^5 - a^2*b^3 - a*b^2 + a - b + 1)/(a*b^8)                                 (-a^4*b^4 - a^3*b^3 + a^2*b^4 + a^2*b^3 + a^2*b + a^2 - a*b - 1)/(a*b^8)]\n",
       "[(-a^3*b^5 + a^3*b^4 - a^2*b^5 + a^2*b^4 - a^2*b^3 + a*b^4 + a^2*b^2 - a*b^3 + a*b^2 - a*b + b^2 - b)/a^2                                (a^4*b^4 - a^2*b^4 + a^3*b^2 - a^2*b^3 - a^2*b^2 + a*b^3 - a^2*b + b)/a^2]"
      ]
     },
     "execution_count": 74,
     "metadata": {},
     "output_type": "execute_result"
    }
   ],
   "source": [
    "A"
   ]
  },
  {
   "cell_type": "code",
   "execution_count": 75,
   "id": "c8c5a847-1574-4a77-97c6-c68ef02ef84e",
   "metadata": {},
   "outputs": [
    {
     "data": {
      "text/plain": [
       "(a^2*b^2 + a*b^2 + a*b + a + 1)/(a^2*b^8)"
      ]
     },
     "execution_count": 75,
     "metadata": {},
     "output_type": "execute_result"
    }
   ],
   "source": [
    "apoly = gcd(A.minors(1))\n",
    "apoly"
   ]
  },
  {
   "cell_type": "code",
   "execution_count": 81,
   "id": "68db3fed-2834-430a-82df-02746dc92976",
   "metadata": {},
   "outputs": [],
   "source": [
    "support = apoly.numerator().exponents()"
   ]
  },
  {
   "cell_type": "code",
   "execution_count": 86,
   "id": "f7dda755-c1b7-4b69-8364-d802eac34059",
   "metadata": {},
   "outputs": [],
   "source": [
    "newton = Polyhedron(vertices=support)"
   ]
  },
  {
   "cell_type": "code",
   "execution_count": 87,
   "id": "cca6f129-4567-411d-b8f9-6e212de48b43",
   "metadata": {},
   "outputs": [
    {
     "data": {
      "image/png": "[encoded data removed]",
      "text/plain": [
       "Graphics object consisting of 6 graphics primitives"
      ]
     },
     "execution_count": 87,
     "metadata": {},
     "output_type": "execute_result"
    }
   ],
   "source": [
    "newton.plot(fill=\"white\")"
   ]
  },
  {
   "cell_type": "markdown",
   "id": "52bb9b69-e06e-4148-8821-368f63b894aa",
   "metadata": {},
   "source": [
    "The Newton polytope is dual to the Thurston norm unit ball we just found. Hence, the two norms are equal."
   ]
  }
 ],
 "metadata": {
  "kernelspec": {
   "display_name": "SageMath 10.3",
   "language": "sage",
   "name": "sagemath"
  },
  "language_info": {
   "codemirror_mode": {
    "name": "ipython",
    "version": 3
   },
   "file_extension": ".py",
   "mimetype": "text/x-python",
   "name": "python",
   "nbconvert_exporter": "python",
   "pygments_lexer": "ipython3",
   "version": "3.12.3"
  }
 },
 "nbformat": 4,
 "nbformat_minor": 5
}
