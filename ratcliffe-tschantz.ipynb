{
 "cells": [
  {
   "cell_type": "markdown",
   "id": "e025bac0-b00b-49dc-b776-9109ef168165",
   "metadata": {},
   "source": [
    "# The Ratcliffe-Tschantz $5$-manifold"
   ]
  },
  {
   "cell_type": "markdown",
   "id": "219d1b41-93b5-4cc0-8ab7-247342162769",
   "metadata": {},
   "source": [
    "> **_Note:_** This notebook attempts to compute the equivariant chain complex of the Ratcliffe-Tschantz manifold,\\\n",
    "but the computation takes an extremely long time (at least 10 hours) and has never been completed. "
   ]
  },
  {
   "cell_type": "code",
   "execution_count": 1,
   "id": "9a345564-c831-4bbc-871c-735105c0cf18",
   "metadata": {
    "tags": []
   },
   "outputs": [
    {
     "name": "stdout",
     "output_type": "stream",
     "text": [
      "\r"
     ]
    }
   ],
   "source": [
    "import twisted_l2\n",
    "import regina\n",
    "from twisted_l2.regina_bary_sub import bary_sub # barycentric subdivision for 5-manifolds"
   ]
  },
  {
   "cell_type": "markdown",
   "id": "74ed934d-452c-4c45-9f48-3741609e39c0",
   "metadata": {},
   "source": [
    "We construct a triangulation from a Regina _isomorphism signature_:"
   ]
  },
  {
   "cell_type": "code",
   "execution_count": 2,
   "id": "89b46406-7f26-456f-b411-12260c284c7b",
   "metadata": {
    "collapsed": true,
    "jupyter": {
     "outputs_hidden": true
    }
   },
   "outputs": [
    {
     "data": {
      "text/plain": [
       "'-cadvvAMzzLzvAvvLvvvzvzLPQvzLvzMLvQvALvLQQMQAwPwwLAQwMQQwMPQAQMwQPwQMAQPMAQQAMQvwPMzMvQPMPvPQPvvQPQAzvAMwQQvQQMQAQQQLwQQvzQwwLQwQQQLQzQQQAzQQAQAQQQQQQPQLMQQQQQPQQQPQQQQQQLQQQQQMQQPQQQQQAQQPQPQQQQQcadafadafafakajaoajazaIaOavaFauasataGaEaZa3atauauaTaUaVaEa9aLa0a5acbfbjb5aBaCaDadbCaOaDaLaDadbeb9aMa1aIaJaKahbJaKaKa8albhbgbibsbtbubBb2aCbzbFbQaRaqbSaRa3aSa2aSawbabUaVaAbVaxbXaYaZaLbYaZa+aZaybsblbmbkbvbxbwbDbBbEbQbRbPb5a6a7a6a7aqb7atbdbebZbwbHbzbHbdbnbObMbnbWbJbUbebCbRbhbAbib+biblbmbLbmbZbdcgc9b3bKbhcGbncWbVbPbVbTbtb+bububwbxbZbYbxbvcEb-b+b2b3b4bwcvcEbvcDbacRbbcEbdclcecpcocVbqcObtcCc9b8bHcUbkcNc7bWbObDcGcNc7bWbscTbtczcFcbcacQcicocsctcTc9b8bVb7b7bcc-b0bAcyc5bucVccc-bUcDcucLc6btc3b4bUc4b5bTcScWcycAcXcLcuc9brcTc9bQcAcccUcTcbcocUcvc1c0cBc0cCclcgcHchcicGc0chcicicscrcScmcEcNcJcKcIcRcBcCcEcScrcOcRc4cscOcpcqcHcqcCcNcLcEcSctcLcXc2cxcMcMc2c6cZcWcAc5cFcRcQc0cWcCcYcOcPcGcScKcQcRcOcPcKc8cNcJcKcMcYcKcWcXc6c2cPcYc6cRc3c7c1cZc5c9c9c+c9c7c1c5c7c5c6c-c-c8c+c4c-c8c+c7c9c9c+c-c-c4bieaiyaqboagfgfgfgfaagfaaaagfIe0iOigfgfaaaa4baiqb2agaca4bYaieai4haaaaaa4h4bieaiqiyaueqbueoaUc+bOfyaqb4bieai2fyaqboaec4dGeoekeEgEaAaGhoaaagfaa4bieWgaiyaogqbogoaQfIeyaqbgfoaSh4bieggaaya2aOigagfSh2igi+h8gwbobmgCimaaaaaaa4bieaiyaqbOeoagfqiobaagfQiaaQi6e6b6b+h6baaggggieue4h4bafaiaaqb4biecayaYaaaiaaaOisiaaieaaWfWfWfWfai4b+baiqb4bieOfOfyaaaYg2f2f4byaqbweweqeweGaiaogkeiekeAg6hqcaaei6hIhSeaaoeEgaaoakbaaGgogIhaamgaacagdobgdad6hmdgioeaaycmaidweaa+h8g4eqeqbCiaa4bUf+baigfaa4d+b6bQiShSeqb6bieai8doaefadad2iOhOh8gkeCi6b4gib2aibaiKgoaibieYaOfIhiaiaEciaUeYa4bggggaiggaa2aqbcaubub2gygogca+aGaKaoaibafafIhoaygoaaaubyg4baiqeqbqeygygIeMhyaIh+aqcaiWc0iQi+h2f2dyawe0iafUeag2agaef4bieoa+dGa+dWf0cueGaaa+dyaqb+d2doawi+gobkeya+gWgcaycmdaaob+baa6boe8dgaGaod2gecieiaqcMe0cYaGhqecdsiMhWi2gUf2c'"
      ]
     },
     "execution_count": 2,
     "metadata": {},
     "output_type": "execute_result"
    }
   ],
   "source": [
    "twisted_l2.isosig_RT5"
   ]
  },
  {
   "cell_type": "markdown",
   "id": "93c057f4-447e-43d7-84ec-f2f5f4b08249",
   "metadata": {},
   "source": [
    "It can be obtained by running the [script](https://github.com/topologia-pisa/tessellated-manifold-triangulation)\n",
    "provided with the Italiano-Martelli-Migliorini paper."
   ]
  },
  {
   "cell_type": "code",
   "execution_count": 3,
   "id": "6d2e8746-59aa-4ccf-baa7-71427be1eb8e",
   "metadata": {
    "tags": []
   },
   "outputs": [],
   "source": [
    "tri = regina.Triangulation5.fromIsoSig(twisted_l2.isosig_RT5)"
   ]
  },
  {
   "cell_type": "code",
   "execution_count": 4,
   "id": "f3ef9174-99e8-4de1-a913-97c081ecfb73",
   "metadata": {
    "tags": []
   },
   "outputs": [
    {
     "data": {
      "text/plain": [
       "5"
      ]
     },
     "execution_count": 4,
     "metadata": {},
     "output_type": "execute_result"
    }
   ],
   "source": [
    "tri.countVertices()"
   ]
  },
  {
   "cell_type": "code",
   "execution_count": 5,
   "id": "d270dd47-8239-4927-a909-ef7f205fdf97",
   "metadata": {},
   "outputs": [
    {
     "name": "stdout",
     "output_type": "stream",
     "text": [
      "CPU times: user 1.33 s, sys: 33.1 ms, total: 1.37 s\n",
      "Wall time: 1.37 s\n"
     ]
    }
   ],
   "source": [
    "%time tri_sd = bary_sub(tri)"
   ]
  },
  {
   "cell_type": "code",
   "execution_count": 6,
   "id": "9cc7032b-2f6d-4d25-94d4-16d160e5b952",
   "metadata": {},
   "outputs": [
    {
     "data": {
      "text/plain": [
       "[1800, 40198, 215040, 453120, 414720, 138240]"
      ]
     },
     "execution_count": 6,
     "metadata": {},
     "output_type": "execute_result"
    }
   ],
   "source": [
    "tri_sd.fVector()"
   ]
  },
  {
   "cell_type": "markdown",
   "id": "6936b07e-5ac7-49d2-8510-5732505adfab",
   "metadata": {},
   "source": [
    "### Determining which vertices are ideal"
   ]
  },
  {
   "cell_type": "markdown",
   "id": "de855794-167d-435a-b243-95fe5c763d47",
   "metadata": {},
   "source": [
    "If you have the file `tessellation.py` from the same [repository](https://github.com/topologia-pisa/tessellated-manifold-triangulation),\n",
    "you can place it in the same directory as this notebook\\\n",
    "and use it to find the link of every vertex in `tri`:"
   ]
  },
  {
   "cell_type": "code",
   "execution_count": 7,
   "id": "85608543-680e-43bc-9d43-061be3e41502",
   "metadata": {
    "tags": []
   },
   "outputs": [
    {
     "name": "stdout",
     "output_type": "stream",
     "text": [
      "CPU times: user 68 ms, sys: 3.43 ms, total: 71.5 ms\n",
      "Wall time: 71.7 ms\n"
     ]
    }
   ],
   "source": [
    "%%time\n",
    "from tessellation import get_link\n",
    "links = []\n",
    "for i in range(tri.countVertices()):\n",
    "    links.append(get_link(tri.vertex(i)))"
   ]
  },
  {
   "cell_type": "code",
   "execution_count": 8,
   "id": "9a9e8329-d1ef-4bbe-a1a3-20e5194ae699",
   "metadata": {
    "tags": []
   },
   "outputs": [
    {
     "name": "stdout",
     "output_type": "stream",
     "text": [
      "0: Z + Z_4\n",
      "1: 0\n",
      "2: 0\n",
      "3: Z + 2 Z_4\n",
      "4: 0\n",
      "CPU times: user 120 ms, sys: 8 µs, total: 120 ms\n",
      "Wall time: 120 ms\n"
     ]
    }
   ],
   "source": [
    "%%time\n",
    "for j, lk in enumerate(links):\n",
    "    print(f\"{j}: {lk.fundamentalGroup().abelianisation().detail().strip()}\")"
   ]
  },
  {
   "cell_type": "markdown",
   "id": "c9af8275-d3b2-4978-9f8f-919abfa7d0a3",
   "metadata": {},
   "source": [
    "The only nontrivial links correspond to ideal vertices (0 and 3), whose cusps have homology groups\n",
    "$\\mathbb Z \\oplus \\mathbb Z_4$ and $\\mathbb Z \\oplus \\mathbb Z_4^2$, respectively."
   ]
  },
  {
   "cell_type": "markdown",
   "id": "f9eebce3-2700-4171-bfa8-3da5e0be75e3",
   "metadata": {},
   "source": [
    "## Making the CW complex"
   ]
  },
  {
   "cell_type": "markdown",
   "id": "d1097c59-1646-47e5-b79e-37a73a448ef5",
   "metadata": {},
   "source": [
    "From the documentation of Regina's barycentric subdivision function (which is extended by `bary_sub`):\n",
    "\n",
    "    Each top-dimensional simplex s is divided into (dim + 1) factorial sub-simplices by placing\n",
    "    an extra vertex at the centroid of every face of every dimension.\n",
    "    Each of these sub-simplices t is described by a permutation p of (0, ..., dim).\n",
    "    The vertices of such a sub-simplex t are:\n",
    "\n",
    "        vertex p[0] of s;\n",
    "        the centre of edge (p[0], p[1]) of s;\n",
    "        the centroid of triangle (p[0], p[1], p[2]) of s;\n",
    "        ...\n",
    "        the centroid of face (p[0], p[1], p[2], p[dim]) of s, which is the entire simplex s itself.\n",
    "\n",
    "    The sub-simplices have their vertices numbered in a way that mirrors the original simplex s:\n",
    "\n",
    "        vertex p[0] of s will be labelled p[0] in t;\n",
    "        the centre of edge (p[0], p[1]) of s will be labelled p[1] in t;\n",
    "        the centroid of triangle (p[0], p[1], p[2]) of s will be labelled p[2] in t;\n",
    "        ...\n",
    "        the centroid of s itself will be labelled p[dim] in t."
   ]
  },
  {
   "cell_type": "code",
   "execution_count": 9,
   "id": "21f72602-682c-4e84-b5fe-a11eff4be3f4",
   "metadata": {
    "tags": []
   },
   "outputs": [],
   "source": [
    "def get_subdiv_vertex(tri_sd, f, i):\n",
    "    \"\"\"Returns the image of vertex i of simplex f in the barycentric subdivision tri_sd\"\"\"\n",
    "    vert, = {tri_sd.simplex(j).vertex(i).index() for j in range(720*f + 120*i, 720*f + 120*(i+1))}\n",
    "    return vert"
   ]
  },
  {
   "cell_type": "code",
   "execution_count": 10,
   "id": "10a1513c-bfb6-40a6-8720-e88565075077",
   "metadata": {
    "tags": []
   },
   "outputs": [
    {
     "name": "stdout",
     "output_type": "stream",
     "text": [
      "[0, 0, 0, 1, 0, 2] [0, 0, 0, 49, 0, 54]\n",
      "[3, 0, 0, 1, 0, 2] [55, 0, 0, 49, 0, 54]\n",
      "[0, 3, 0, 1, 0, 2] [0, 55, 0, 49, 0, 54]\n",
      "[0, 0, 3, 1, 0, 2] [0, 0, 55, 49, 0, 54]\n",
      "[0, 0, 0, 3, 0, 2] [0, 0, 0, 55, 0, 54]\n",
      "[0, 0, 0, 1, 3, 2] [0, 0, 0, 49, 55, 54]\n",
      "[0, 0, 0, 1, 0, 2] [0, 0, 0, 49, 0, 54]\n",
      "[3, 0, 0, 0, 0, 2] [55, 0, 0, 0, 0, 54]\n",
      "[3, 0, 0, 1, 0, 4] [55, 0, 0, 49, 0, 218]\n",
      "[0, 3, 0, 0, 0, 2] [0, 55, 0, 0, 0, 54]\n"
     ]
    }
   ],
   "source": [
    "for spx in range(10):\n",
    "    # the vertices of a simplex\n",
    "    vertT = [tri.simplex(spx).vertex(i).index() for i in range(6)]\n",
    "    # are mapped to these vertices in the barycentric subdivision\n",
    "    vertS = [get_subdiv_vertex(tri_sd, spx, i) for i in range(6)]\n",
    "    print(vertT, vertS)"
   ]
  },
  {
   "cell_type": "markdown",
   "id": "6ebae09f-3014-4399-997c-2c51151c2024",
   "metadata": {},
   "source": [
    "Vertices 0, 1, 2, 3, 4 correspond to 0, 49, 54, 55, 218 in `tri_sd`.\n",
    "\n",
    "Hence, we construct a regular CW complex by taking all the cells of `tri_sd` not containing the vertices 0 or 55."
   ]
  },
  {
   "cell_type": "code",
   "execution_count": 11,
   "id": "2a1eede9-b64e-435d-a192-3738a3ab8fd4",
   "metadata": {
    "tags": []
   },
   "outputs": [
    {
     "name": "stdout",
     "output_type": "stream",
     "text": [
      "CPU times: user 9.33 s, sys: 106 ms, total: 9.43 s\n",
      "Wall time: 9.45 s\n"
     ]
    }
   ],
   "source": [
    "%%time\n",
    "\n",
    "def is_good_face(f):\n",
    "    return all(f.vertex(j).index() not in (0,55) for j in range(f.subdimension + 1))\n",
    "\n",
    "def all_verts(f):\n",
    "    return [f.vertex(j).index() for j in range(f.subdimension + 1)]\n",
    "\n",
    "index_to_id = [{} for i in range(6)]\n",
    "fv = tri_sd.fVector()\n",
    "fl = [[[1,0] for i in range(fv[0] - 2)]] # remove the two ideal vertices\n",
    "\n",
    "for i in range(fv[0]):\n",
    "    if i not in (0,55):\n",
    "        index_to_id[0][i] = len(index_to_id[0])\n",
    "\n",
    "for d in range(1,5):\n",
    "    fd = []\n",
    "    for spx in tri_sd.faces(d):\n",
    "        if is_good_face(spx):\n",
    "            fd.append([d+1] + [index_to_id[d-1][spx.face(d-1, i).index()]+1 for i in range(d+1)])\n",
    "            index_to_id[d][spx.index()] = len(index_to_id[d])\n",
    "    fl.append(fd)\n",
    "\n",
    "fl.append([])\n",
    "for k in range(fv[5]):\n",
    "    if is_good_face(tri_sd.simplex(k)):\n",
    "        fl[5].append([5+1] + [index_to_id[5-1][tri_sd.simplex(k).face(5-1, i).index()]+1 for i in range(5+1)])\n",
    "        index_to_id[5][k] = len(index_to_id[5])\n",
    "\n",
    "fl.append([])"
   ]
  },
  {
   "cell_type": "code",
   "execution_count": 12,
   "id": "64f678fc-8b4a-42f0-b508-4c6b44465054",
   "metadata": {
    "tags": []
   },
   "outputs": [
    {
     "data": {
      "text/plain": [
       "true"
      ]
     },
     "execution_count": 12,
     "metadata": {},
     "output_type": "execute_result"
    }
   ],
   "source": [
    "twisted_l2.load_hap()"
   ]
  },
  {
   "cell_type": "code",
   "execution_count": 13,
   "id": "d03c6cb4-e795-43ab-98ad-5193252633bf",
   "metadata": {
    "tags": []
   },
   "outputs": [
    {
     "name": "stdout",
     "output_type": "stream",
     "text": [
      "CPU times: user 12.3 s, sys: 106 ms, total: 12.4 s\n",
      "Wall time: 12.3 s\n"
     ]
    }
   ],
   "source": [
    "%time cw = twisted_l2.cw_complex(fl)"
   ]
  },
  {
   "cell_type": "code",
   "execution_count": 14,
   "id": "122ec9b1-6f5d-4022-a5a5-025b1fcbe073",
   "metadata": {
    "tags": []
   },
   "outputs": [
    {
     "data": {
      "text/plain": [
       "[1798, 35158, 151920, 251040, 174720, 42240]"
      ]
     },
     "execution_count": 14,
     "metadata": {},
     "output_type": "execute_result"
    }
   ],
   "source": [
    "[twisted_l2.gap_member(cw, \"nrCells\")(j) for j in range(6)]"
   ]
  },
  {
   "cell_type": "code",
   "execution_count": 15,
   "id": "6ee7f6a7-674c-4530-8ba4-3559f268836f",
   "metadata": {
    "tags": []
   },
   "outputs": [
    {
     "name": "stdout",
     "output_type": "stream",
     "text": [
      "CPU times: user 8min 51s, sys: 3.24 s, total: 8min 54s\n",
      "Wall time: 8min 51s\n"
     ]
    }
   ],
   "source": [
    "%time scw = twisted_l2.simplify_cw(cw)"
   ]
  },
  {
   "cell_type": "code",
   "execution_count": 16,
   "id": "4f340d36-a11f-4bba-a026-c2bb30034854",
   "metadata": {
    "tags": []
   },
   "outputs": [
    {
     "data": {
      "text/plain": [
       "[1798, 29580, 86729, 88228, 31296, 2015]"
      ]
     },
     "execution_count": 16,
     "metadata": {},
     "output_type": "execute_result"
    }
   ],
   "source": [
    "[twisted_l2.gap_member(scw, \"nrCells\")(j) for j in range(6)]"
   ]
  },
  {
   "cell_type": "code",
   "execution_count": 17,
   "id": "656b49b5-7fb5-4533-afaf-f9c99d6c6881",
   "metadata": {
    "tags": []
   },
   "outputs": [
    {
     "name": "stdout",
     "output_type": "stream",
     "text": [
      "CPU times: user 6min 50s, sys: 2.34 s, total: 6min 52s\n",
      "Wall time: 6min 50s\n"
     ]
    }
   ],
   "source": [
    "%time chain_complex = twisted_l2.equivariant_cc(scw)"
   ]
  },
  {
   "cell_type": "code",
   "execution_count": 18,
   "id": "736f79db-2e99-4d5f-8dbd-5e6ad743038d",
   "metadata": {
    "tags": []
   },
   "outputs": [
    {
     "data": {
      "text/plain": [
       "<fp group on the generators [ f1, f2 ]>"
      ]
     },
     "execution_count": 18,
     "metadata": {},
     "output_type": "execute_result"
    }
   ],
   "source": [
    "chain_complex.group"
   ]
  },
  {
   "cell_type": "code",
   "execution_count": 19,
   "id": "b362a9d7-ea93-4e44-b2ef-1f6310e7d4a8",
   "metadata": {
    "tags": []
   },
   "outputs": [
    {
     "data": {
      "text/plain": [
       "[1, 2, 104, 427, 324, 0]"
      ]
     },
     "execution_count": 19,
     "metadata": {},
     "output_type": "execute_result"
    }
   ],
   "source": [
    "[chain_complex.dimension(i) for i in range(6)]"
   ]
  },
  {
   "cell_type": "code",
   "execution_count": 20,
   "id": "2fb8f7c3-dfd4-4e00-ac2f-998f31e48d3f",
   "metadata": {
    "tags": []
   },
   "outputs": [
    {
     "data": {
      "text/plain": [
       "4520"
      ]
     },
     "execution_count": 20,
     "metadata": {},
     "output_type": "execute_result"
    }
   ],
   "source": [
    "len(chain_complex.elts)"
   ]
  },
  {
   "cell_type": "markdown",
   "id": "74c481cb-1b66-44b5-a836-d532c64c0634",
   "metadata": {},
   "source": [
    "This is the number of group elements appearing in the matrices of the chain complex."
   ]
  },
  {
   "cell_type": "code",
   "execution_count": 21,
   "id": "29169685-e41a-421e-a1a0-fb6ff82cffd1",
   "metadata": {
    "tags": []
   },
   "outputs": [],
   "source": [
    "G = twisted_l2.get_fundamental_group(chain_complex)"
   ]
  },
  {
   "cell_type": "code",
   "execution_count": 22,
   "id": "cba9c70c-3d5d-4424-ace4-e1f1abf3a709",
   "metadata": {
    "tags": []
   },
   "outputs": [
    {
     "name": "stdout",
     "output_type": "stream",
     "text": [
      "CPU times: user 164 ms, sys: 12 µs, total: 164 ms\n",
      "Wall time: 164 ms\n"
     ]
    },
    {
     "data": {
      "text/plain": [
       "[1 - F[0]]\n",
       "[1 - F[1]]"
      ]
     },
     "execution_count": 22,
     "metadata": {},
     "output_type": "execute_result"
    }
   ],
   "source": [
    "%time diff1 = twisted_l2.boundary_operator(chain_complex, 1, G); diff1"
   ]
  },
  {
   "cell_type": "code",
   "execution_count": 23,
   "id": "b1565ef0-1fb9-4042-aa99-dc892f4d523b",
   "metadata": {
    "tags": []
   },
   "outputs": [
    {
     "name": "stdout",
     "output_type": "stream",
     "text": [
      "CPU times: user 787 ms, sys: 5.16 ms, total: 792 ms\n",
      "Wall time: 796 ms\n"
     ]
    },
    {
     "data": {
      "text/plain": [
       "104 x 2 dense matrix over Algebra of Free group indexed by {0, 1} over Rational Field (use the '.str()' method to see the entries)"
      ]
     },
     "execution_count": 23,
     "metadata": {},
     "output_type": "execute_result"
    }
   ],
   "source": [
    "%time diff2 = twisted_l2.boundary_operator(chain_complex, 2, G); diff2"
   ]
  },
  {
   "cell_type": "code",
   "execution_count": 24,
   "id": "cfa6543a-6eb8-4253-8835-a754cd6ad7a7",
   "metadata": {},
   "outputs": [],
   "source": [
    "twisted_l2.configs.LogOptions.LEVEL = twisted_l2.INFO"
   ]
  },
  {
   "cell_type": "markdown",
   "id": "2df05687-5665-47f8-8388-6d65a96131e0",
   "metadata": {},
   "source": [
    "The `ask` parameter makes the function interactive, so we can observe the exact row at which it freezes.\n",
    "\n",
    "You can press Enter to proceed to the next row, or type \"n\" and press Enter to stop."
   ]
  },
  {
   "cell_type": "code",
   "execution_count": 25,
   "id": "90ea54ef-5fe3-46b3-b0e3-e4870dc08ec8",
   "metadata": {
    "tags": []
   },
   "outputs": [
    {
     "name": "stdin",
     "output_type": "stream",
     "text": [
      "Next row? (Y/n)  \n"
     ]
    },
    {
     "name": "stdout",
     "output_type": "stream",
     "text": [
      "Extracted boundary row #0 of length 0\n"
     ]
    },
    {
     "name": "stdin",
     "output_type": "stream",
     "text": [
      "Next row? (Y/n)  \n"
     ]
    },
    {
     "name": "stdout",
     "output_type": "stream",
     "text": [
      "Extracted boundary row #1 of length 0\n"
     ]
    },
    {
     "name": "stdin",
     "output_type": "stream",
     "text": [
      "Next row? (Y/n)  \n"
     ]
    },
    {
     "name": "stdout",
     "output_type": "stream",
     "text": [
      "Extracted boundary row #2 of length 0\n"
     ]
    },
    {
     "name": "stdin",
     "output_type": "stream",
     "text": [
      "Next row? (Y/n)  \n"
     ]
    },
    {
     "name": "stdout",
     "output_type": "stream",
     "text": [
      "Extracted boundary row #3 of length 0\n"
     ]
    },
    {
     "name": "stdin",
     "output_type": "stream",
     "text": [
      "Next row? (Y/n)  \n"
     ]
    },
    {
     "name": "stdout",
     "output_type": "stream",
     "text": [
      "Extracted boundary row #4 of length 0\n"
     ]
    },
    {
     "name": "stdin",
     "output_type": "stream",
     "text": [
      "Next row? (Y/n)  \n"
     ]
    },
    {
     "name": "stdout",
     "output_type": "stream",
     "text": [
      "Extracted boundary row #5 of length 0\n"
     ]
    },
    {
     "name": "stdin",
     "output_type": "stream",
     "text": [
      "Next row? (Y/n)  \n"
     ]
    },
    {
     "name": "stdout",
     "output_type": "stream",
     "text": [
      "Extracted boundary row #6 of length 135\n"
     ]
    },
    {
     "name": "stdin",
     "output_type": "stream",
     "text": [
      "Next row? (Y/n)  \n"
     ]
    },
    {
     "name": "stdout",
     "output_type": "stream",
     "text": [
      "Extracted boundary row #7 of length 2\n"
     ]
    },
    {
     "name": "stdin",
     "output_type": "stream",
     "text": [
      "Next row? (Y/n)  \n"
     ]
    },
    {
     "name": "stdout",
     "output_type": "stream",
     "text": [
      "Extracted boundary row #8 of length 765\n"
     ]
    },
    {
     "name": "stdin",
     "output_type": "stream",
     "text": [
      "Next row? (Y/n)  \n"
     ]
    },
    {
     "name": "stdout",
     "output_type": "stream",
     "text": [
      "Extracted boundary row #9 of length 0\n"
     ]
    },
    {
     "ename": "KeyboardInterrupt",
     "evalue": "Interrupted by user",
     "output_type": "error",
     "traceback": [
      "\u001b[1;31m---------------------------------------------------------------------------\u001b[0m",
      "\u001b[1;31mKeyboardInterrupt\u001b[0m                         Traceback (most recent call last)"
     ]
    }
   ],
   "source": [
    "diff3 = twisted_l2.boundary_operator(chain_complex, 3, G, ask = True)"
   ]
  },
  {
   "cell_type": "markdown",
   "id": "07a96eda-013f-4166-9e56-3f8820e67667",
   "metadata": {},
   "source": [
    "This is the exact computation on which it freezes:"
   ]
  },
  {
   "cell_type": "code",
   "execution_count": 26,
   "id": "e544c9cd-b69a-4866-a5ce-1cb29dcbc711",
   "metadata": {
    "tags": []
   },
   "outputs": [
    {
     "ename": "KeyboardInterrupt",
     "evalue": "",
     "output_type": "error",
     "traceback": [
      "\u001b[1;31m---------------------------------------------------------------------------\u001b[0m",
      "\u001b[1;31mKeyboardInterrupt\u001b[0m                         Traceback (most recent call last)"
     ]
    }
   ],
   "source": [
    "chain_complex.boundary(3, 11)"
   ]
  }
 ],
 "metadata": {
  "kernelspec": {
   "display_name": "SageMath 10.3",
   "language": "sage",
   "name": "sagemath"
  },
  "language_info": {
   "codemirror_mode": {
    "name": "ipython",
    "version": 3
   },
   "file_extension": ".py",
   "mimetype": "text/x-python",
   "name": "python",
   "nbconvert_exporter": "python",
   "pygments_lexer": "ipython3",
   "version": "3.12.3"
  }
 },
 "nbformat": 4,
 "nbformat_minor": 5
}
