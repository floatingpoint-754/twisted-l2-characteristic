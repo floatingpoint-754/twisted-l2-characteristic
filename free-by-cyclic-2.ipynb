{
 "cells": [
  {
   "cell_type": "markdown",
   "id": "9ec4567e-f9b4-42f2-9b52-5cfee3720a8a",
   "metadata": {},
   "source": [
    "# A free-by-cyclic group (example 2)"
   ]
  },
  {
   "cell_type": "code",
   "execution_count": 1,
   "id": "b2d10ca8-a41e-40f0-885d-036747b6fcd9",
   "metadata": {
    "tags": []
   },
   "outputs": [
    {
     "name": "stdout",
     "output_type": "stream",
     "text": [
      "\r"
     ]
    }
   ],
   "source": [
    "import twisted_l2\n",
    "from twisted_l2 import FreeByCyclic\n",
    "import itertools"
   ]
  },
  {
   "cell_type": "code",
   "execution_count": 2,
   "id": "7eb47f5c-80d9-4663-98bb-7325d4b0a903",
   "metadata": {
    "tags": []
   },
   "outputs": [
    {
     "data": {
      "text/plain": [
       "true"
      ]
     },
     "execution_count": 2,
     "metadata": {},
     "output_type": "execute_result"
    }
   ],
   "source": [
    "twisted_l2.load_hap()"
   ]
  },
  {
   "cell_type": "code",
   "execution_count": 8,
   "id": "47802ce7-9c8d-45a8-8fde-2420a398fe08",
   "metadata": {
    "collapsed": true,
    "jupyter": {
     "outputs_hidden": true
    },
    "scrolled": true,
    "tags": []
   },
   "outputs": [
    {
     "name": "stdout",
     "output_type": "stream",
     "text": [
      "\\eta_{2,3} \\cdot \\sigma_{2,3} \\cdot \\tau_{4} \\cdot \\eta_{4,3} \\cdot \\eta_{3,1} \\cdot \\tau_{3} \\cdot \\sigma_{3,4} \\cdot \\sigma_{2,4} \\cdot \\eta_{3,1} \\cdot \\tau_{4} \\cdot \\eta_{2,1} \\cdot \\sigma_{1,4} \\cdot \\eta_{1,4} \\cdot \\eta_{1,4} \\cdot \\eta_{3,2} \\cdot \\sigma_{1,4} \\cdot \\eta_{2,3} \\cdot \\sigma_{1,3} \\cdot \\eta_{3,4} \\cdot \\eta_{3,1} \\cdot \\eta_{1,2} \\cdot \\sigma_{3,4} \\cdot \\eta_{2,4} \\cdot \\eta_{1,4} \\cdot \\eta_{3,2} \\cdot \\eta_{3,1} \\cdot \\eta_{4,3} \\cdot \\eta_{2,3} \\cdot \\eta_{2,3} \\cdot \\sigma_{1,4} \\cdot \\sigma_{3,4} \\cdot \\tau_{2} \\cdot \\eta_{1,2} \\cdot \\eta_{1,2} \\cdot \\sigma_{3,4} \\cdot \\sigma_{2,3} \\cdot \\eta_{4,3} \\cdot \\eta_{1,2} \\cdot \\eta_{2,1} \\cdot \\tau_{2} \\cdot \\eta_{4,3} \\cdot \\sigma_{2,4} \\cdot \\sigma_{1,2} \\cdot \\sigma_{1,2} \\cdot \\eta_{3,1} \\cdot \\eta_{4,1} \\cdot \\sigma_{1,2} \\cdot \\eta_{3,4} \\cdot \\sigma_{1,3} \\cdot \\eta_{2,4} \\cdot \\eta_{2,4} \\cdot \\eta_{1,4}\n"
     ]
    }
   ],
   "source": [
    "f, phi, inv = FreeByCyclic.random_automorphism(4, length=20, seed = int(9162526751589464890), print_latex=True)\n",
    "F = FreeGroup(f.ngens() + 1)"
   ]
  },
  {
   "cell_type": "markdown",
   "id": "0e637436-dfb4-4dc9-8430-01bd6e81a43a",
   "metadata": {},
   "source": [
    "The automorphism is $\\varphi = \\eta_{2,3} \\cdot \\sigma_{2,3} \\cdot \\tau_{4} \\cdot \\eta_{4,3} \\cdot \\eta_{3,1} \\cdot \\tau_{3} \\cdot \\sigma_{3,4} \\cdot \\sigma_{2,4} \\cdot \\eta_{3,1} \\cdot \\tau_{4} \\cdot \\eta_{2,1} \\cdot \\sigma_{1,4} \\cdot \\eta_{1,4} \\cdot \\eta_{1,4} \\cdot \\eta_{3,2} \\cdot \\sigma_{1,4} \\cdot \\eta_{2,3} \\cdot \\sigma_{1,3} \\cdot \\eta_{3,4} \\cdot \\eta_{3,1} \\cdot \\eta_{1,2} \\cdot \\sigma_{3,4} \\cdot \\eta_{2,4} \\cdot \\eta_{1,4} \\cdot \\eta_{3,2} \\cdot \\eta_{3,1} \\cdot \\eta_{4,3} \\cdot \\eta_{2,3} \\cdot \\eta_{2,3} \\cdot \\sigma_{1,4} \\cdot \\sigma_{3,4} \\cdot \\tau_{2} \\cdot \\eta_{1,2} \\cdot \\eta_{1,2} \\cdot \\sigma_{3,4} \\cdot \\sigma_{2,3} \\cdot \\eta_{4,3} \\cdot \\eta_{1,2} \\cdot \\eta_{2,1} \\cdot \\tau_{2} \\cdot \\eta_{4,3} \\cdot \\sigma_{2,4} \\cdot \\sigma_{1,2} \\cdot \\sigma_{1,2} \\cdot \\eta_{3,1} \\cdot \\eta_{4,1} \\cdot \\sigma_{1,2} \\cdot \\eta_{3,4} \\cdot \\sigma_{1,3} \\cdot \\eta_{2,4} \\cdot \\eta_{2,4} \\cdot \\eta_{1,4}.$"
   ]
  },
  {
   "cell_type": "code",
   "execution_count": 9,
   "id": "265d3520-54df-4b17-90fd-2e1ffa9c9c8f",
   "metadata": {
    "tags": []
   },
   "outputs": [
    {
     "data": {
      "text/plain": [
       "9162526751589464890"
      ]
     },
     "execution_count": 9,
     "metadata": {},
     "output_type": "execute_result"
    }
   ],
   "source": [
    "FreeByCyclic.random_automorphism.seed"
   ]
  },
  {
   "cell_type": "code",
   "execution_count": 10,
   "id": "79fadfe2-703d-4d7c-9cc6-e10550646b08",
   "metadata": {
    "tags": []
   },
   "outputs": [
    {
     "name": "stdout",
     "output_type": "stream",
     "text": [
      "[x0*x1^-1*x2*x3^-1, x0*x2*x3*x2^-1*x1*x0^-2*x2^-1*x1*x0, x3*x2^-1*x1*x0^-2*x2^-1*x1*x0*x3*x2^-1*x1*x2*x3*x2^-1*x1*x0^-2*x2^-1*x1*x0, x0*x2*x3*x2^-1*x1*x0^-2*x2^-1*x1*(x0*x2)^2*x3*x2^-1*x1*x0^-2*x2^-1*x1*x0^2*x1^-1*x2*x3^-1*x0^-1*x1^-1*x2*x0^2*x1^-1*x2*x3^-1*x2^-1*(x1^-1*x2*x3^-1*x0^-1*x1^-1*x2*x0^2)^2*x1^-1*x2*x3^-1*x2^-1*x0^-1]\n",
      "[x1*x0^-1*x1*x2^-1*x1*x0*x2^-1*x1^-1*x3^-1*x1, x1^-1*x3*x1*x2*x0^-2*x1*x2^-1*x1*x0*x2^-1*x1^-1*x3^-1*x1*x0*x2*x1^-1*x0*x1^-1*x3*x1*x2*x0^-1*x1^-1*x2*x1^-1*x0*x1^-1, x1^-1*x3*x1*x2*x0^-1*x1^-1, x0^-1*(x1*x0^-1*x1*x2^-1*x1*x0*x2^-1*x1^-1*x3^-1*x1)^2*x0^-1*x1*x2^-1*x0^-1*x1^-1*x3*x1*x2*x0^-1*x1^-1*x2*x1^-1*x0*x1^-1]\n",
      "[x0, x1, x2, x3]\n"
     ]
    }
   ],
   "source": [
    "print([phi(x) for x in f.gens()])\n",
    "print([inv(x) for x in f.gens()])\n",
    "print([phi(inv(x)) for x in f.gens()])"
   ]
  },
  {
   "cell_type": "markdown",
   "id": "2e8ed1ca-3e47-4e5e-9b7f-9ddefb198c3f",
   "metadata": {},
   "source": [
    "## First method: compute a free $\\mathbb Z[G]$-resolution of $\\mathbb Z$"
   ]
  },
  {
   "cell_type": "markdown",
   "id": "96a1b5cd-6652-4a6c-ade2-0364bfc4262a",
   "metadata": {},
   "source": [
    "First, we make the free-by-cyclic group:"
   ]
  },
  {
   "cell_type": "code",
   "execution_count": 11,
   "id": "ec0c8725-2e28-47f4-8e02-f5cf86078947",
   "metadata": {
    "tags": []
   },
   "outputs": [
    {
     "data": {
      "text/plain": [
       "Finitely presented group < x0, x1, x2, x3, x4 | x4*x0^-1*x4^-1*x0*x1^-1*x2*x3^-1, x4*x1^-1*x4^-1*x0*x2*x3*x2^-1*x1*x0^-2*x2^-1*x1*x0, x4*x2^-1*x4^-1*x3*x2^-1*x1*x0^-2*x2^-1*x1*x0*x3*x2^-1*x1*x2*x3*x2^-1*x1*x0^-2*x2^-1*x1*x0, x4*x3^-1*x4^-1*x0*x2*x3*x2^-1*x1*x0^-2*x2^-1*x1*(x0*x2)^2*x3*x2^-1*x1*x0^-2*x2^-1*x1*x0^2*x1^-1*x2*x3^-1*x0^-1*x1^-1*x2*x0^2*x1^-1*x2*x3^-1*x2^-1*(x1^-1*x2*x3^-1*x0^-1*x1^-1*x2*x0^2)^2*x1^-1*x2*x3^-1*x2^-1*x0^-1 >"
      ]
     },
     "execution_count": 11,
     "metadata": {},
     "output_type": "execute_result"
    }
   ],
   "source": [
    "def relation(idx):\n",
    "    \"\"\"Returns a relation of the form t * g_i^-1 * t^-1 * phi(g_i) as a Tietze word.\"\"\"\n",
    "    n = f.ngens()\n",
    "    return [n+1, -idx-1, -n-1] + list(phi(f.gen(idx)).Tietze())\n",
    "    \n",
    "G = F / [relation(i) for i in range(f.ngens())]\n",
    "G"
   ]
  },
  {
   "cell_type": "markdown",
   "id": "f94fa835-f38f-4f24-a3dc-88a78659c7a8",
   "metadata": {},
   "source": [
    "The stable letter is the last generator (`x4`)."
   ]
  },
  {
   "cell_type": "code",
   "execution_count": 12,
   "id": "ce230dc0-9b4b-4a54-b99b-03e66e1460d0",
   "metadata": {
    "tags": []
   },
   "outputs": [
    {
     "data": {
      "text/plain": [
       "(0, 0, 2)"
      ]
     },
     "execution_count": 12,
     "metadata": {},
     "output_type": "execute_result"
    }
   ],
   "source": [
    "G.abelian_invariants()"
   ]
  },
  {
   "cell_type": "markdown",
   "id": "3c853bea-e382-4667-9e53-5f68794ed08f",
   "metadata": {},
   "source": [
    "A free $\\mathbb Z[G]$-resolution of $\\mathbb Z$ is the same thing as a chain complex for the universal cover of $K(G, 1)$:"
   ]
  },
  {
   "cell_type": "code",
   "execution_count": 13,
   "id": "9be0c941-9fea-4c63-a8f5-cfecf8f01939",
   "metadata": {
    "tags": []
   },
   "outputs": [],
   "source": [
    "res = twisted_l2.ComponentObjectWrapper(libgap.ResolutionAsphericalPresentation(G, 3))"
   ]
  },
  {
   "cell_type": "code",
   "execution_count": 14,
   "id": "ddb978c1-d482-4c96-bff0-a890c0a6d2a0",
   "metadata": {
    "tags": []
   },
   "outputs": [
    {
     "data": {
      "text/plain": [
       "[1, 5, 4, 0]"
      ]
     },
     "execution_count": 14,
     "metadata": {},
     "output_type": "execute_result"
    }
   ],
   "source": [
    "[res.dimension(i) for i in range(4)]"
   ]
  },
  {
   "cell_type": "code",
   "execution_count": 15,
   "id": "e3341a50-dd61-4d29-9f28-f4ff109d8df9",
   "metadata": {
    "tags": []
   },
   "outputs": [],
   "source": [
    "cc = twisted_l2.get_differentials(res)"
   ]
  },
  {
   "cell_type": "markdown",
   "id": "3f7ac374-3737-4510-aa1c-d5c8d4b61b55",
   "metadata": {},
   "source": [
    "### How each class $\\phi$ acts on the generators"
   ]
  },
  {
   "cell_type": "code",
   "execution_count": 16,
   "id": "3963b756-4f04-4ab2-97f2-9da6c591f865",
   "metadata": {},
   "outputs": [
    {
     "data": {
      "text/plain": [
       "[1, -2, -3, -1, 0]"
      ]
     },
     "execution_count": 16,
     "metadata": {},
     "output_type": "execute_result"
    }
   ],
   "source": [
    "[twisted_l2.gap_ZZ_to_int(twisted_l2.make_phi_from_coordinates(G, [1,0])(g)) for g in G.gens()]"
   ]
  },
  {
   "cell_type": "code",
   "execution_count": 17,
   "id": "c04663f5-520f-40c7-b8f5-010e77372acb",
   "metadata": {},
   "outputs": [
    {
     "data": {
      "text/plain": [
       "[0, 0, 0, 0, 1]"
      ]
     },
     "execution_count": 17,
     "metadata": {},
     "output_type": "execute_result"
    }
   ],
   "source": [
    "[twisted_l2.gap_ZZ_to_int(twisted_l2.make_phi_from_coordinates(G, [0,1])(g)) for g in G.gens()]"
   ]
  },
  {
   "cell_type": "markdown",
   "id": "64f5ea1f-f945-4fa6-9868-22fabe84f88b",
   "metadata": {},
   "source": [
    "If we identify `v` with $\\phi$:\n",
    "\n",
    "- $(1,0)$ has the stable letter in its kernel;\n",
    "- $(0,1)$ is the canonical projection $G \\twoheadrightarrow Z$.\n",
    "\n",
    "Hence, $(0,1)$ is a fibered class for $G$."
   ]
  },
  {
   "cell_type": "code",
   "execution_count": 18,
   "id": "9027c1c0-e7d7-4d67-abf7-2ca3c0e798cb",
   "metadata": {},
   "outputs": [],
   "source": [
    "twisted_l2.configs.LogOptions.LEVEL = twisted_l2.MINIMAL\n",
    "twisted_l2.configs.LogOptions.PRECISION = 5"
   ]
  },
  {
   "cell_type": "markdown",
   "id": "2b7e0af0-cbdb-42c8-8b03-95199f916551",
   "metadata": {},
   "source": [
    "We compute the characteristic at the following values of `v`:\n",
    "\n",
    "|  v   |  n  |\n",
    "| :--: | ---:|\n",
    "|(1,0) | 10  |\n",
    "|(1,1) | 13  |\n",
    "|(2,3) | 23  |\n",
    "|(1,2) | 11  |\n",
    "|(1,3) | 13  |\n",
    "|(1,6) | 15  |\n",
    "|(0,1) |  1  |\n",
    "|(-1,7)| 10  |\n",
    "|(-1,4)|  9  |\n",
    "|(-1,3)| 13  |\n",
    "\n",
    "In this table, `n` is the smallest expansion parameter at which (the floors of) the valuations stabilize.\n",
    "\n",
    "We run the algorithm $3$ times:\n",
    "- first with `n` and `exps = (2)`;\n",
    "- then with `n+1` and `exps = (2)`;\n",
    "- then with `n` and `exps = (0,2)`."
   ]
  },
  {
   "cell_type": "markdown",
   "id": "7c13aac2-6c6a-45a8-8b48-fd25f6f4a81b",
   "metadata": {},
   "source": [
    "Heuristically, the rank computed in a finite quotient is a lower bound for the true Neumann rank.\\\n",
    "Hence, we take the ceiling of the rank (which is the same as taking the floor of each valuation).\\\n",
    "This is a stronger heuristic than the one in `borromean.ipynb`. It is useful because:\n",
    "\n",
    "- quotients involving odd primes seem to always give abelian groups $L$;\n",
    "- looking at $2$-groups, the $L$ from `exps = (3)` is very large (order 1024);\n",
    "- however, using `exps = (2)` gives valuations that are not very close to integers.\n",
    "\n",
    "If the heuristic is correct, we cover any $\\text{error} < 1$ by taking the floor\n",
    "(instead of $\\text{error} < 1/2$ by rounding)."
   ]
  },
  {
   "cell_type": "markdown",
   "id": "c390a1df-4096-4fb9-9a97-aaa1c060bafb",
   "metadata": {},
   "source": [
    "First, we define a little hack. The characteristic is a linear polynomial in the valuations $v_0, v_1, v_2, \\dots$:\n",
    "\n",
    "$$\\chi^{(2)}(G; -) = - v_1 + 2v_2 -3v_3 + \\dots + C.$$\n",
    "\n",
    "Hence, if we have $(v_0, v_1, v_2, \\dots)$ and $\\chi^{(2)}(G; -)$, we can adjust the value to what it would have been, had we used the _floors_ of the valuations."
   ]
  },
  {
   "cell_type": "code",
   "execution_count": 19,
   "id": "f650c243-a0f7-4e2d-8a3a-cc55acb2d83f",
   "metadata": {},
   "outputs": [],
   "source": [
    "def characteristic_valuations_floor(char, valuations):\n",
    "    return char + sum((-1)^j * j * (floor(val)-val) for j, val in enumerate(valuations))"
   ]
  },
  {
   "cell_type": "code",
   "execution_count": 20,
   "id": "3e10e9d2-68e1-48e1-bbf1-b93972b938d2",
   "metadata": {
    "scrolled": true
   },
   "outputs": [
    {
     "name": "stdout",
     "output_type": "stream",
     "text": [
      "===== v = (1, 0), n = 10, 2-quotient =====\n",
      "Degrees of Laplacians : [6.0, 32.0, 26.0]\n",
      "Valuations            : [0.0, 30.0, 9.0]\n",
      "Quotient sizes        : [32, 32, 32]\n",
      "Characteristic        : -10.0\n",
      "Structure of L        : {'(C4 x C2) : C4'}\n",
      "===== v = (1, 0), n = 11, 2-quotient =====\n",
      "Degrees of Laplacians : [6.0, 32.0, 26.0]\n",
      "Valuations            : [0.0, 30.0, 9.0]\n",
      "Quotient sizes        : [32, 32, 32]\n",
      "Characteristic        : -10.0\n",
      "Structure of L        : {'(C4 x C2) : C4'}\n",
      "===== v = (1, 0), n = 10, 3-quotient =====\n",
      "Degrees of Laplacians : [6.0, 32.0, 26.0]\n",
      "Valuations            : [0.0, 30.0, 9.0]\n",
      "Quotient sizes        : [9, 9, 9]\n",
      "Characteristic        : -10.0\n",
      "Structure of L        : {'C9'}\n",
      "----------------------------------------\n",
      "Floors of valuations  : [[0, 30, 9], [0, 30, 9], [0, 30, 9]]\n",
      "Characteristics       : [-10, -10, -10]\n",
      "\n",
      "===== v = (1, 1), n = 13, 2-quotient =====\n",
      "Degrees of Laplacians : [6.0, 29.25, 23.25]\n",
      "Valuations            : [0.0, 32.375, 10.375]\n",
      "Quotient sizes        : [32, 32, 32]\n",
      "Characteristic        : -8.625\n",
      "Structure of L        : {'(C4 x C2) : C4'}\n",
      "===== v = (1, 1), n = 14, 2-quotient =====\n",
      "Degrees of Laplacians : [6.0, 29.25, 23.25]\n",
      "Valuations            : [0.0, 32.375, 10.375]\n",
      "Quotient sizes        : [32, 32, 32]\n",
      "Characteristic        : -8.625\n",
      "Structure of L        : {'(C4 x C2) : C4'}\n",
      "===== v = (1, 1), n = 13, 3-quotient =====\n",
      "Degrees of Laplacians : [6.0, 29.77778, 23.77778]\n",
      "Valuations            : [0.0, 32.11111, 10.11111]\n",
      "Quotient sizes        : [9, 9, 9]\n",
      "Characteristic        : -8.88889\n",
      "Structure of L        : {'C9'}\n",
      "----------------------------------------\n",
      "Floors of valuations  : [[0, 32, 10], [0, 32, 10], [0, 32, 10]]\n",
      "Characteristics       : [-9, -9, -9]\n",
      "\n",
      "===== v = (2, 3), n = 23, 2-quotient =====\n",
      "Degrees of Laplacians : [12.0, 61.1875, 49.1875]\n",
      "Valuations            : [0.0, 64.40625, 19.40625]\n",
      "Quotient sizes        : [32, 32, 32]\n",
      "Characteristic        : -18.59375\n",
      "Structure of L        : {'C2 x (C4 : C4)'}\n",
      "===== v = (2, 3), n = 24, 2-quotient =====\n",
      "Degrees of Laplacians : [12.0, 61.1875, 49.1875]\n",
      "Valuations            : [0.0, 64.40625, 19.40625]\n",
      "Quotient sizes        : [32, 32, 32]\n",
      "Characteristic        : -18.59375\n",
      "Structure of L        : {'C2 x (C4 : C4)'}\n",
      "===== v = (2, 3), n = 23, 3-quotient =====\n",
      "Degrees of Laplacians : [12.0, 62.0, 50.0]\n",
      "Valuations            : [0.0, 64.0, 19.0]\n",
      "Quotient sizes        : [9, 9, 9]\n",
      "Characteristic        : -19.0\n",
      "Structure of L        : {'C9'}\n",
      "----------------------------------------\n",
      "Floors of valuations  : [[0, 64, 19], [0, 64, 19], [0, 64, 19]]\n",
      "Characteristics       : [-19, -19, -19]\n",
      "\n",
      "===== v = (1, 2), n = 11, 2-quotient =====\n",
      "Degrees of Laplacians : [6.0, 32.0, 26.0]\n",
      "Valuations            : [0.0, 32.0, 9.0]\n",
      "Quotient sizes        : [32, 32, 32]\n",
      "Characteristic        : -10.0\n",
      "Structure of L        : {'(C4 x C2) : C4'}\n",
      "===== v = (1, 2), n = 12, 2-quotient =====\n",
      "Degrees of Laplacians : [6.0, 32.0, 26.0]\n",
      "Valuations            : [0.0, 32.0, 9.0]\n",
      "Quotient sizes        : [32, 32, 32]\n",
      "Characteristic        : -10.0\n",
      "Structure of L        : {'(C4 x C2) : C4'}\n",
      "===== v = (1, 2), n = 11, 3-quotient =====\n",
      "Degrees of Laplacians : [6.0, 32.0, 26.0]\n",
      "Valuations            : [0.0, 32.0, 9.0]\n",
      "Quotient sizes        : [9, 9, 9]\n",
      "Characteristic        : -10.0\n",
      "Structure of L        : {'C9'}\n",
      "----------------------------------------\n",
      "Floors of valuations  : [[0, 32, 9], [0, 32, 9], [0, 32, 9]]\n",
      "Characteristics       : [-10, -10, -10]\n",
      "\n",
      "===== v = (1, 3), n = 13, 2-quotient =====\n",
      "Degrees of Laplacians : [5.5, 35.0, 29.5]\n",
      "Valuations            : [0.25, 31.5, 10.25]\n",
      "Quotient sizes        : [32, 32, 32]\n",
      "Characteristic        : -12.0\n",
      "Structure of L        : {'(C4 x C2) : C4'}\n",
      "===== v = (1, 3), n = 14, 2-quotient =====\n",
      "Degrees of Laplacians : [5.5, 35.0, 29.5]\n",
      "Valuations            : [0.25, 31.5, 10.25]\n",
      "Quotient sizes        : [32, 32, 32]\n",
      "Characteristic        : -12.0\n",
      "Structure of L        : {'(C4 x C2) : C4'}\n",
      "===== v = (1, 3), n = 13, 3-quotient =====\n",
      "Degrees of Laplacians : [6.0, 36.0, 30.0]\n",
      "Valuations            : [0.0, 31.0, 10.0]\n",
      "Quotient sizes        : [9, 9, 9]\n",
      "Characteristic        : -12.0\n",
      "Structure of L        : {'C9'}\n",
      "----------------------------------------\n",
      "Floors of valuations  : [[0, 31, 10], [0, 31, 10], [0, 31, 10]]\n",
      "Characteristics       : [-12, -12, -12]\n",
      "\n",
      "===== v = (1, 6), n = 15, 2-quotient =====\n",
      "Degrees of Laplacians : [12.0, 58.125, 46.125]\n",
      "Valuations            : [0.0, 24.9375, 13.9375]\n",
      "Quotient sizes        : [32, 32, 32]\n",
      "Characteristic        : -17.0625\n",
      "Structure of L        : {'(C4 x C2) : C4'}\n",
      "===== v = (1, 6), n = 16, 2-quotient =====\n",
      "Degrees of Laplacians : [12.0, 58.125, 46.125]\n",
      "Valuations            : [0.0, 24.9375, 13.9375]\n",
      "Quotient sizes        : [32, 32, 32]\n",
      "Characteristic        : -17.0625\n",
      "Structure of L        : {'(C4 x C2) : C4'}\n",
      "===== v = (1, 6), n = 15, 3-quotient =====\n",
      "Degrees of Laplacians : [12.0, 59.33333, 47.33333]\n",
      "Valuations            : [0.0, 24.33333, 13.33333]\n",
      "Quotient sizes        : [9, 9, 9]\n",
      "Characteristic        : -17.66667\n",
      "Structure of L        : {'C9'}\n",
      "----------------------------------------\n",
      "Floors of valuations  : [[0, 24, 13], [0, 24, 13], [0, 24, 13]]\n",
      "Characteristics       : [-18, -18, -18]\n",
      "\n",
      "===== v = (0, 1), n = 1, 2-quotient =====\n",
      "Degrees of Laplacians : [2.0, 10.0, 8.0]\n",
      "Valuations            : [0.0, 0.0, 0.0]\n",
      "Quotient sizes        : [1, 32, 32]\n",
      "Characteristic        : -3.0\n",
      "Structure of L        : {'1', 'C2 x (C4 : C4)'}\n",
      "===== v = (0, 1), n = 2, 2-quotient =====\n",
      "Degrees of Laplacians : [2.0, 10.0, 8.0]\n",
      "Valuations            : [0.0, 0.0, 0.0]\n",
      "Quotient sizes        : [32, 32, 32]\n",
      "Characteristic        : -3.0\n",
      "Structure of L        : {'C2 x (C4 : C4)'}\n",
      "===== v = (0, 1), n = 1, 3-quotient =====\n",
      "Degrees of Laplacians : [2.0, 10.0, 8.0]\n",
      "Valuations            : [0.0, 0.0, 0.0]\n",
      "Quotient sizes        : [1, 9, 9]\n",
      "Characteristic        : -3.0\n",
      "Structure of L        : {'1', 'C9'}\n",
      "----------------------------------------\n",
      "Floors of valuations  : [[0, 0, 0], [0, 0, 0], [0, 0, 0]]\n",
      "Characteristics       : [-3, -3, -3]\n",
      "\n",
      "===== v = (-1, 7), n = 10, 2-quotient =====\n",
      "Degrees of Laplacians : [14.0, 69.1875, 55.1875]\n",
      "Valuations            : [0.0, 7.40625, 8.40625]\n",
      "Quotient sizes        : [32, 32, 32]\n",
      "Characteristic        : -20.59375\n",
      "Structure of L        : {'(C4 x C2) : C4'}\n",
      "===== v = (-1, 7), n = 11, 2-quotient =====\n",
      "Degrees of Laplacians : [14.0, 69.1875, 55.1875]\n",
      "Valuations            : [0.0, 7.40625, 8.40625]\n",
      "Quotient sizes        : [32, 32, 32]\n",
      "Characteristic        : -20.59375\n",
      "Structure of L        : {'(C4 x C2) : C4'}\n",
      "===== v = (-1, 7), n = 10, 3-quotient =====\n",
      "Degrees of Laplacians : [14.0, 69.77778, 55.77778]\n",
      "Valuations            : [0.0, 7.11111, 8.11111]\n",
      "Quotient sizes        : [9, 9, 9]\n",
      "Characteristic        : -20.88889\n",
      "Structure of L        : {'C9'}\n",
      "----------------------------------------\n",
      "Floors of valuations  : [[0, 7, 8], [0, 7, 8], [0, 7, 8]]\n",
      "Characteristics       : [-21, -21, -21]\n",
      "\n",
      "===== v = (-1, 4), n = 9, 2-quotient =====\n",
      "Degrees of Laplacians : [8.0, 46.0, 38.0]\n",
      "Valuations            : [0.0, 14.0, 17.0]\n",
      "Quotient sizes        : [32, 32, 32]\n",
      "Characteristic        : -15.0\n",
      "Structure of L        : {'(C4 x C2) : C4'}\n",
      "===== v = (-1, 4), n = 10, 2-quotient =====\n",
      "Degrees of Laplacians : [8.0, 46.0, 38.0]\n",
      "Valuations            : [0.0, 14.0, 17.0]\n",
      "Quotient sizes        : [32, 32, 32]\n",
      "Characteristic        : -15.0\n",
      "Structure of L        : {'(C4 x C2) : C4'}\n",
      "===== v = (-1, 4), n = 9, 3-quotient =====\n",
      "Degrees of Laplacians : [8.0, 46.0, 38.0]\n",
      "Valuations            : [0.0, 14.0, 17.0]\n",
      "Quotient sizes        : [9, 9, 9]\n",
      "Characteristic        : -15.0\n",
      "Structure of L        : {'C9'}\n",
      "----------------------------------------\n",
      "Floors of valuations  : [[0, 14, 17], [0, 14, 17], [0, 14, 17]]\n",
      "Characteristics       : [-15, -15, -15]\n",
      "\n",
      "===== v = (-1, 3), n = 13, 2-quotient =====\n",
      "Degrees of Laplacians : [5.5, 36.25, 30.75]\n",
      "Valuations            : [0.25, 18.875, 20.625]\n",
      "Quotient sizes        : [32, 32, 32]\n",
      "Characteristic        : -12.625\n",
      "Structure of L        : {'(C4 x C2) : C4'}\n",
      "===== v = (-1, 3), n = 14, 2-quotient =====\n",
      "Degrees of Laplacians : [5.5, 36.25, 30.75]\n",
      "Valuations            : [0.25, 18.875, 20.625]\n",
      "Quotient sizes        : [32, 32, 32]\n",
      "Characteristic        : -12.625\n",
      "Structure of L        : {'(C4 x C2) : C4'}\n",
      "===== v = (-1, 3), n = 13, 3-quotient =====\n",
      "Degrees of Laplacians : [6.0, 38.0, 32.0]\n",
      "Valuations            : [0.0, 18.0, 20.0]\n",
      "Quotient sizes        : [9, 9, 9]\n",
      "Characteristic        : -13.0\n",
      "Structure of L        : {'C9'}\n",
      "----------------------------------------\n",
      "Floors of valuations  : [[0, 18, 20], [0, 18, 20], [0, 18, 20]]\n",
      "Characteristics       : [-13, -13, -13]\n",
      "\n",
      "CPU times: user 3min 29s, sys: 285 ms, total: 3min 29s\n",
      "Wall time: 3min 29s\n"
     ]
    }
   ],
   "source": [
    "%%time\n",
    "\n",
    "vn = [\n",
    "    ((1,0),  10),\n",
    "    ((1,1),  13),\n",
    "    ((2,3),  23),\n",
    "    ((1,2),  11),\n",
    "    ((1,3),  13),\n",
    "    ((1,6),  15),\n",
    "    ((0,1),   1),\n",
    "    ((-1,7), 10),\n",
    "    ((-1,4),  9),\n",
    "    ((-1,3), 13)\n",
    "]\n",
    "\n",
    "for v,n in vn:\n",
    "    print(f\"===== v = {v}, n = {n}, 2-quotient =====\")\n",
    "    c1 = twisted_l2.characteristic(G, v, cc, n, (2,))\n",
    "    logs = twisted_l2.get_twisted_l2_logs()\n",
    "    structures = {l.L.StructureDescription().sage() for l in logs}\n",
    "    vals1 = [l.valuation for l in logs]\n",
    "    print(f\"Structure of L        : {structures}\")\n",
    "    \n",
    "    print(f\"===== v = {v}, n = {n+1}, 2-quotient =====\")\n",
    "    c2 = twisted_l2.characteristic(G, v, cc, n+1, (2,))\n",
    "    logs = twisted_l2.get_twisted_l2_logs()\n",
    "    structures = {l.L.StructureDescription().sage() for l in logs}\n",
    "    vals2 = [l.valuation for l in logs]\n",
    "    print(f\"Structure of L        : {structures}\")\n",
    "    \n",
    "    print(f\"===== v = {v}, n = {n}, 3-quotient =====\")\n",
    "    c3 = twisted_l2.characteristic(G, v, cc, n, (0,2))\n",
    "    logs = twisted_l2.get_twisted_l2_logs()\n",
    "    structures = {l.L.StructureDescription().sage() for l in logs}\n",
    "    vals3 = [l.valuation for l in logs]\n",
    "    print(f\"Structure of L        : {structures}\")\n",
    "    \n",
    "    valuations = (vals1, vals2, vals3)\n",
    "    chars = (c1, c2, c3)\n",
    "    print(\"-\"*40)\n",
    "    print(f\"Floors of valuations  : {[[floor(val) for val in vals] for vals in valuations]}\")\n",
    "    print(f\"Characteristics       : {[characteristic_valuations_floor(char, vals) for char, vals in zip(chars, valuations)]}\")\n",
    "    print()"
   ]
  },
  {
   "cell_type": "markdown",
   "id": "1596057a-fb93-43c8-b9a9-7ffc921bfa41",
   "metadata": {},
   "source": [
    "All values are consistent (i.e. the floors of the valuations stabilize). Summary of results:\n",
    "\n",
    "|  v   | $\\chi^{(2)}(G; \\phi)$ |\n",
    "|:---: | ---:|\n",
    "|(1, 0)| -10 |\n",
    "|(1, 1)|  -9 |\n",
    "|(2, 3)| -19 |\n",
    "|(1, 2)| -10 |\n",
    "|(1, 3)| -12 |\n",
    "|(1, 6)| -18 |\n",
    "|(0, 1)|  -3 |\n",
    "|(-1,7)| -21 |\n",
    "|(-1,4)| -15 |\n",
    "|(-1,3)| -13 |"
   ]
  },
  {
   "cell_type": "markdown",
   "id": "cd31709d-2b16-42d8-ae36-5c58356967c1",
   "metadata": {},
   "source": [
    "## Second method: construct the presentation complex"
   ]
  },
  {
   "cell_type": "code",
   "execution_count": 24,
   "id": "c23d49e9-ab4a-4e55-8c95-cebd7ac761cf",
   "metadata": {},
   "outputs": [],
   "source": [
    "fbc = FreeByCyclic(f, phi)"
   ]
  },
  {
   "cell_type": "code",
   "execution_count": 25,
   "id": "a38028e8-8492-4cef-8339-4ad09d4d2cd1",
   "metadata": {},
   "outputs": [],
   "source": [
    "fl = twisted_l2.face_lattice_to_hap(fbc.make_fl())"
   ]
  },
  {
   "cell_type": "code",
   "execution_count": 26,
   "id": "dac35116-1888-4704-bfed-51f6bc907976",
   "metadata": {},
   "outputs": [],
   "source": [
    "cw = twisted_l2.cw_complex(fl)"
   ]
  },
  {
   "cell_type": "code",
   "execution_count": 27,
   "id": "49fd06b3-edbc-4ad6-b520-337775a3837b",
   "metadata": {},
   "outputs": [],
   "source": [
    "chain_complex = twisted_l2.equivariant_cc(cw)"
   ]
  },
  {
   "cell_type": "code",
   "execution_count": 28,
   "id": "3ed69a0b-46d3-45fd-910b-98a71f06ca79",
   "metadata": {},
   "outputs": [],
   "source": [
    "edge_to_word = twisted_l2.gap_member(chain_complex.group, \"edgeToWord\")"
   ]
  },
  {
   "cell_type": "code",
   "execution_count": 42,
   "id": "38febd65-44f6-48b6-ac28-1871f8b23ed4",
   "metadata": {},
   "outputs": [
    {
     "data": {
      "text/plain": [
       "[1, 5, 4]"
      ]
     },
     "execution_count": 42,
     "metadata": {},
     "output_type": "execute_result"
    }
   ],
   "source": [
    "[chain_complex.dimension(j) for j in range(3)]"
   ]
  },
  {
   "cell_type": "code",
   "execution_count": 29,
   "id": "fb9e8620-0154-406d-9d01-9a4d86b1157b",
   "metadata": {},
   "outputs": [],
   "source": [
    "G = twisted_l2.get_fundamental_group(chain_complex)"
   ]
  },
  {
   "cell_type": "code",
   "execution_count": 30,
   "id": "2875356d-cb80-42cc-bf5e-8993b41f78a8",
   "metadata": {},
   "outputs": [],
   "source": [
    "cc = twisted_l2.get_differentials(chain_complex)"
   ]
  },
  {
   "cell_type": "code",
   "execution_count": 31,
   "id": "1e802028-8d50-4e47-9400-a7cbcfb76b95",
   "metadata": {},
   "outputs": [
    {
     "data": {
      "text/plain": [
       "Finitely presented group < f1, f2, f3, f4, f5 | f1^-1*f4^-1*f3^-1*f1^-1*f2*f1*f4^-1*f2^-1*f1^-2*f5*(f2*f1*f4^-1*f1^-1)^2*f2*f1*f4^-1*f2^-1*f1^-2*f5*f1^2*f2*f4*f1^-1*f2^-1*f5^-1*f1^2*f2*(f4*f1^-1*f2^-1*f1)^2*f4*f1^-1*f2^-1*f5^-1*f1^2*f2*f4*f1^-1*f2^-1*f1*f3*f4, f5^-1*f2^-1*f4^-1*f3^-1*f1^-1*f2*f1*f4^-1*f2^-1*f1^-2*f5*(f2*f1*f4^-1*f1^-1)^2*f2*f1*f4^-1*f2^-1*f1^-2*f5*f1^2*f2*f4*f1^-1*f2^-1*f1*f4*f1^-1*f2^-1*f5^-1*f1^2*f2*f4*f1^-1*f2^-1*f1*f3*f4, f5^-1*f1*f4^-1*f3^-1*f1^-1*f2*f1*f4^-1*f2^-1*f1^-2*f5*(f2*f1*f4^-1*f1^-1)^2*f2*f1*f4^-1*f2^-1*f1^-2*f5*f1^2*f2*f1^-1*f2*f1*f4^-1*f2^-1*f1^-2*f5*f2*f1*f4^-1*f1^-1*f2*f1*f4^-1*f2^-1*f1^-2*f5^-1*f1^2*f2*(f4*f1^-1*f2^-1*f1)^2*f4*f1^-1*f2^-1*f5^-1*f1^2*f2*f4*f1^-1*f2^-1*f1*f3*f4, f1*f2*f3^-1*f4*f1^-1*f2^-1*f1^2*f2*f1^-1*f2*f1*f4^-1*f2^-1*f1^-2*f5^2*f1*f2*f4*f1^-1*f2^-1*f1*f4*f1^-1*f2^-1*f5^-1*f1^2*f2*f4*f1^-1*f2^-1*f1*f3*f4 >"
      ]
     },
     "execution_count": 31,
     "metadata": {},
     "output_type": "execute_result"
    }
   ],
   "source": [
    "G"
   ]
  },
  {
   "cell_type": "markdown",
   "id": "e5ff5601-b3fb-45bf-b769-f561bdec9015",
   "metadata": {},
   "source": [
    "### Retrieving the original free-by-cyclic generators"
   ]
  },
  {
   "cell_type": "code",
   "execution_count": 32,
   "id": "b550cff7-fb26-4306-917f-51e70b7d50ca",
   "metadata": {
    "tags": []
   },
   "outputs": [],
   "source": [
    "# Find the indices of 1-cells corresponding to the stable letter and generators\n",
    "st = [fbc.edge_backT()+1, fbc.edge_frontT()+1]\n",
    "gens = [[fbc.edge_G(i, twisted_l2.free_by_cyclic.GEN_EDGE_BACK)+1,\n",
    "         fbc.edge_G(i, twisted_l2.free_by_cyclic.GEN_EDGE_FRONT)+1] for i in range(fbc.N)]"
   ]
  },
  {
   "cell_type": "code",
   "execution_count": 33,
   "id": "304a22e3-251e-485a-ba6f-21e4e5d24cf2",
   "metadata": {
    "tags": []
   },
   "outputs": [],
   "source": [
    "# Get the corresponding elements of G\n",
    "loops = gens + [st]\n",
    "loopsG = [G((edge_to_word(e0) * edge_to_word(e1)^-1).UnderlyingElement().LetterRepAssocWord().sage()) for e0,e1 in loops]"
   ]
  },
  {
   "cell_type": "code",
   "execution_count": 34,
   "id": "644abac3-0b4e-481a-ac03-eb3073539584",
   "metadata": {},
   "outputs": [
    {
     "name": "stdout",
     "output_type": "stream",
     "text": [
      "Stable letter: f4^-1*f3^-1*f1^-1*f2*f1*f4^-1*f2^-1*f1^-2*f5*(f2*f1*f4^-1*f1^-1)^2*f2*f1*f4^-1*f2^-1*f1^-2*f5*f1\n",
      "Generators of F_4: [f1^-1, f5^-1*f2^-1, f5^-1*f1, f1*f2*f4]\n"
     ]
    }
   ],
   "source": [
    "print(f\"Stable letter: {loopsG[-1]}\")\n",
    "print(f\"Generators of F_{fbc.N}: {loopsG[:-1]}\")"
   ]
  },
  {
   "cell_type": "code",
   "execution_count": 38,
   "id": "e131df8a-b951-4c0e-9fc3-55827ea46d5f",
   "metadata": {},
   "outputs": [
    {
     "data": {
      "text/plain": [
       "[1, -2, -3, -1, 0]"
      ]
     },
     "execution_count": 38,
     "metadata": {},
     "output_type": "execute_result"
    }
   ],
   "source": [
    "[twisted_l2.gap_ZZ_to_int(twisted_l2.make_phi_from_coordinates(G, [6,7])(g)) for g in loopsG]"
   ]
  },
  {
   "cell_type": "code",
   "execution_count": 37,
   "id": "791b431a-82da-4d00-9421-60ae5dcbabb5",
   "metadata": {},
   "outputs": [
    {
     "data": {
      "text/plain": [
       "[0, 0, 0, 0, 1]"
      ]
     },
     "execution_count": 37,
     "metadata": {},
     "output_type": "execute_result"
    }
   ],
   "source": [
    "[twisted_l2.gap_ZZ_to_int(twisted_l2.make_phi_from_coordinates(G, [-1,-1])(g)) for g in loopsG]"
   ]
  },
  {
   "cell_type": "markdown",
   "id": "dd81a1b7-c412-4fc2-aa0b-91073407a461",
   "metadata": {},
   "source": [
    "Consider the basis $B = \\{e_1 = (6,7), e_2 = (-1,-1)\\}$ for `v`. If we identify `v` with $\\phi$:\n",
    "\n",
    "- $e_1$ has the stable letter in its kernel;\n",
    "- $e_2$ is the canonical projection $G \\twoheadrightarrow Z$.\n",
    "\n",
    "Hence, $e_2$ is a fibered class for $G$."
   ]
  },
  {
   "cell_type": "code",
   "execution_count": 39,
   "id": "c99c5904-100c-4753-8e27-260d508e4cae",
   "metadata": {
    "tags": []
   },
   "outputs": [],
   "source": [
    "def in_basis_B(t):\n",
    "    return [6*t[0]-t[1], 7*t[0]-t[1]]"
   ]
  },
  {
   "cell_type": "markdown",
   "id": "cd376a49-67cb-4a99-980b-ebc25dfed84d",
   "metadata": {},
   "source": [
    "### Doing the computation in this basis"
   ]
  },
  {
   "cell_type": "code",
   "execution_count": 40,
   "id": "cf8e8391-0002-4717-ae17-19a10e628dcb",
   "metadata": {},
   "outputs": [],
   "source": [
    "twisted_l2.configs.LogOptions.LEVEL = twisted_l2.MINIMAL"
   ]
  },
  {
   "cell_type": "markdown",
   "id": "ac127472-0287-4c37-8e03-42f154ab3c38",
   "metadata": {},
   "source": [
    "Heuristically, the rank computed in a finite quotient is a lower bound for the true Neumann rank.\\\n",
    "Hence, we take the ceiling of the rank (which is the same as taking the floor of each valuation).\\\n",
    "This is a stronger heuristic than the one in `borromean.ipynb`. It is useful because:\n",
    "\n",
    "- quotients involving odd primes seem to always give abelian groups $L$;\n",
    "- looking at $2$-groups, the $L$ from `exps = (3)` is very large (order 1024);\n",
    "- however, using `exps = (2)` gives valuations that are not very close to integers.\n",
    "\n",
    "If the heuristic is correct, we cover any $\\text{error} < 1$ by taking the floor\n",
    "(instead of $\\text{error} < 1/2$ by rounding)."
   ]
  },
  {
   "cell_type": "markdown",
   "id": "c0051f97-946f-4e0d-af89-60658de14339",
   "metadata": {},
   "source": [
    "First, we define a little hack. The characteristic is a linear polynomial in the valuations $v_0, v_1, v_2, \\dots$:\n",
    "\n",
    "$$\\chi^{(2)}(G; -) = - v_1 + 2v_2 -3v_3 + \\dots + C.$$\n",
    "\n",
    "Hence, if we have $(v_0, v_1, v_2, \\dots)$ and $\\chi^{(2)}(G; -)$, we can adjust the value to what it would have been, had we used the _floors_ of the valuations."
   ]
  },
  {
   "cell_type": "code",
   "execution_count": 19,
   "id": "162548ab-c870-4e8b-be57-4204afbdbd6e",
   "metadata": {},
   "outputs": [],
   "source": [
    "def characteristic_valuations_floor(char, valuations):\n",
    "    return char + sum((-1)^j * j * (floor(val)-val) for j, val in enumerate(valuations))"
   ]
  },
  {
   "cell_type": "markdown",
   "id": "c875ee91-7880-4ea8-92b6-86d0feff495b",
   "metadata": {},
   "source": [
    "When using this method, `cc` is more complicated, so the algorithm takes longer.\\\n",
    "Hence we will only try `v = (0,1)` (the fibered class). You can add more to the list `vn`."
   ]
  },
  {
   "cell_type": "code",
   "execution_count": 45,
   "id": "8c4d910b-c6ee-44d0-ba7d-1c92807e932e",
   "metadata": {
    "scrolled": true
   },
   "outputs": [
    {
     "name": "stdout",
     "output_type": "stream",
     "text": [
      "===== v = (0, 1), n = 1, 2-quotient =====\n",
      "Degrees of Laplacians : [2.0, 10.0, 8.0]\n",
      "Valuations            : [0.0, 0.0, 0.0]\n",
      "Quotient sizes        : [1, 32, 32]\n",
      "Characteristic        : -3.0\n",
      "Structure of L        : {'1', 'C2 x (C4 : C4)'}\n",
      "===== v = (0, 1), n = 2, 2-quotient =====\n",
      "Degrees of Laplacians : [2.0, 10.0, 8.0]\n",
      "Valuations            : [0.0, 0.0, 0.0]\n",
      "Quotient sizes        : [32, 32, 32]\n",
      "Characteristic        : -3.0\n",
      "Structure of L        : {'C2 x (C4 : C4)'}\n",
      "===== v = (0, 1), n = 1, 3-quotient =====\n",
      "Degrees of Laplacians : [2.0, 10.0, 8.0]\n",
      "Valuations            : [0.0, 0.0, 0.0]\n",
      "Quotient sizes        : [1, 9, 9]\n",
      "Characteristic        : -3.0\n",
      "Structure of L        : {'1', 'C9'}\n",
      "----------------------------------------\n",
      "Floors of valuations  : [[0, 0, 0], [0, 0, 0], [0, 0, 0]]\n",
      "Characteristics       : [-3, -3, -3]\n",
      "\n",
      "CPU times: user 8.24 s, sys: 6.66 ms, total: 8.25 s\n",
      "Wall time: 8.26 s\n"
     ]
    }
   ],
   "source": [
    "%%time\n",
    "\n",
    "vn = [\n",
    "    ((0,1), 1),\n",
    "]\n",
    "\n",
    "for v,n in vn:\n",
    "    print(f\"===== v = {v}, n = {n}, 2-quotient =====\")\n",
    "    c1 = twisted_l2.characteristic(G, in_basis_B(v), cc, n, (2,))\n",
    "    logs = twisted_l2.get_twisted_l2_logs()\n",
    "    structures = {l.L.StructureDescription().sage() for l in logs}\n",
    "    vals1 = [l.valuation for l in logs]\n",
    "    print(f\"Structure of L        : {structures}\")\n",
    "    \n",
    "    print(f\"===== v = {v}, n = {n+1}, 2-quotient =====\")\n",
    "    c2 = twisted_l2.characteristic(G, in_basis_B(v), cc, n+1, (2,))\n",
    "    logs = twisted_l2.get_twisted_l2_logs()\n",
    "    structures = {l.L.StructureDescription().sage() for l in logs}\n",
    "    vals2 = [l.valuation for l in logs]\n",
    "    print(f\"Structure of L        : {structures}\")\n",
    "    \n",
    "    print(f\"===== v = {v}, n = {n}, 3-quotient =====\")\n",
    "    c3 = twisted_l2.characteristic(G, in_basis_B(v), cc, n, (0,2))\n",
    "    logs = twisted_l2.get_twisted_l2_logs()\n",
    "    structures = {l.L.StructureDescription().sage() for l in logs}\n",
    "    vals3 = [l.valuation for l in logs]\n",
    "    print(f\"Structure of L        : {structures}\")\n",
    "    \n",
    "    valuations = (vals1, vals2, vals3)\n",
    "    chars = (c1, c2, c3)\n",
    "    print(\"-\"*40)\n",
    "    print(f\"Floors of valuations  : {[[floor(val) for val in vals] for vals in valuations]}\")\n",
    "    print(f\"Characteristics       : {[characteristic_valuations_floor(char, vals) for char, vals in zip(chars, valuations)]}\")\n",
    "    print()"
   ]
  },
  {
   "cell_type": "markdown",
   "id": "d0950fab-a6e7-4005-90f2-f0fe73f2fba6",
   "metadata": {},
   "source": [
    "## Conclusion"
   ]
  },
  {
   "cell_type": "code",
   "execution_count": 23,
   "id": "3d3d43cb-2b16-46bc-a163-324197a1765f",
   "metadata": {},
   "outputs": [
    {
     "data": {
      "image/png": "[encoded data removed]",
      "text/plain": [
       "Graphics object consisting of 4 graphics primitives"
      ]
     },
     "metadata": {},
     "output_type": "display_data"
    }
   ],
   "source": [
    "boundary = [\n",
    "    (1/10, 0),\n",
    "    (1/9, 1/9),\n",
    "    (2/19, 3/19),\n",
    "    (1/10, 2/10),\n",
    "    (1/12, 3/12),\n",
    "    (1/18, 6/18),\n",
    "    (0, 1/3),\n",
    "    (-1/21,7/21),\n",
    "    (-1/15,4/15),\n",
    "    (-1/13,3/13)\n",
    "]\n",
    "boundary = boundary + [(-a,-b) for a,b in boundary]\n",
    "\n",
    "show(\n",
    "    list_plot(boundary,\n",
    "               aspect_ratio=1, size=50, xmin = -0.5, xmax = 0.5, ymin = -0.5, ymax = 0.5,\n",
    "               title = \"Thurston seminorm of G\")\n",
    "    + polygon(boundary + boundary[:1], alpha=0.2)\n",
    "    + polygon(boundary + boundary[:1], fill=False)\n",
    "    + line([(0,-1), (0,1)], color=\"red\", thickness=2)\n",
    ")"
   ]
  },
  {
   "cell_type": "markdown",
   "id": "f488ae56-076d-48c7-b603-49d9b99d6cbc",
   "metadata": {},
   "source": [
    "Both methods give $-3$ as the characteristic of the fibered class $(0,1)$ (in red) corresponding to $G \\twoheadrightarrow \\mathbb Z$.\\\n",
    "This is the _fiber Euler characteristic_, as $\\chi(F_4) = -3$."
   ]
  }
 ],
 "metadata": {
  "kernelspec": {
   "display_name": "SageMath 10.6",
   "language": "sage",
   "name": "sagemath"
  },
  "language_info": {
   "codemirror_mode": {
    "name": "ipython",
    "version": 3
   },
   "file_extension": ".py",
   "mimetype": "text/x-python",
   "name": "python",
   "nbconvert_exporter": "python",
   "pygments_lexer": "ipython3",
   "version": "3.13.5"
  }
 },
 "nbformat": 4,
 "nbformat_minor": 5
}
